{
 "cells": [
  {
   "cell_type": "code",
   "execution_count": 134,
   "metadata": {},
   "outputs": [],
   "source": [
    "import itertools\n",
    "import numpy as np\n",
    "import os\n",
    "import seaborn as sns\n",
    "import matplotlib.pyplot as plt\n",
    "\n",
    "from numpy.random import randint\n",
    "from random import random as rnd\n",
    "from random import gauss, randrange"
   ]
  },
  {
   "cell_type": "markdown",
   "metadata": {},
   "source": [
    "Here, I am just loading BLOSUM50 and 2 random sequences as test cases to make sure my functions work."
   ]
  },
  {
   "cell_type": "code",
   "execution_count": 93,
   "metadata": {},
   "outputs": [
    {
     "name": "stdout",
     "output_type": "stream",
     "text": [
      "[[ 5 -2 -1 -2 -1 -1 -1  0 -2 -1 -2 -1 -1 -3 -1  1  0 -3 -2  0 -2 -1 -1 -5]\n",
      " [-2  7 -1 -2 -4  1  0 -3  0 -4 -3  3 -2 -3 -3 -1 -1 -3 -1 -3 -1  0 -1 -5]\n",
      " [-1 -1  7  2 -2  0  0  0  1 -3 -4  0 -2 -4 -2  1  0 -4 -2 -3  4  0 -1 -5]\n",
      " [-2 -2  2  8 -4  0  2 -1 -1 -4 -4 -1 -4 -5 -1  0 -1 -5 -3 -4  5  1 -1 -5]\n",
      " [-1 -4 -2 -4 13 -3 -3 -3 -3 -2 -2 -3 -2 -2 -4 -1 -1 -5 -3 -1 -3 -3 -2 -5]\n",
      " [-1  1  0  0 -3  7  2 -2  1 -3 -2  2  0 -4 -1  0 -1 -1 -1 -3  0  4 -1 -5]\n",
      " [-1  0  0  2 -3  2  6 -3  0 -4 -3  1 -2 -3 -1 -1 -1 -3 -2 -3  1  5 -1 -5]\n",
      " [ 0 -3  0 -1 -3 -2 -3  8 -2 -4 -4 -2 -3 -4 -2  0 -2 -3 -3 -4 -1 -2 -2 -5]\n",
      " [-2  0  1 -1 -3  1  0 -2 10 -4 -3  0 -1 -1 -2 -1 -2 -3  2 -4  0  0 -1 -5]\n",
      " [-1 -4 -3 -4 -2 -3 -4 -4 -4  5  2 -3  2  0 -3 -3 -1 -3 -1  4 -4 -3 -1 -5]\n",
      " [-2 -3 -4 -4 -2 -2 -3 -4 -3  2  5 -3  3  1 -4 -3 -1 -2 -1  1 -4 -3 -1 -5]\n",
      " [-1  3  0 -1 -3  2  1 -2  0 -3 -3  6 -2 -4 -1  0 -1 -3 -2 -3  0  1 -1 -5]\n",
      " [-1 -2 -2 -4 -2  0 -2 -3 -1  2  3 -2  7  0 -3 -2 -1 -1  0  1 -3 -1 -1 -5]\n",
      " [-3 -3 -4 -5 -2 -4 -3 -4 -1  0  1 -4  0  8 -4 -3 -2  1  4 -1 -4 -4 -2 -5]\n",
      " [-1 -3 -2 -1 -4 -1 -1 -2 -2 -3 -4 -1 -3 -4 10 -1 -1 -4 -3 -3 -2 -1 -2 -5]\n",
      " [ 1 -1  1  0 -1  0 -1  0 -1 -3 -3  0 -2 -3 -1  5  2 -4 -2 -2  0  0 -1 -5]\n",
      " [ 0 -1  0 -1 -1 -1 -1 -2 -2 -1 -1 -1 -1 -2 -1  2  5 -3 -2  0  0 -1  0 -5]\n",
      " [-3 -3 -4 -5 -5 -1 -3 -3 -3 -3 -2 -3 -1  1 -4 -4 -3 15  2 -3 -5 -2 -3 -5]\n",
      " [-2 -1 -2 -3 -3 -1 -2 -3  2 -1 -1 -2  0  4 -3 -2 -2  2  8 -1 -3 -2 -1 -5]\n",
      " [ 0 -3 -3 -4 -1 -3 -3 -4 -4  4  1 -3  1 -1 -3 -2  0 -3 -1  5 -4 -3 -1 -5]\n",
      " [-2 -1  4  5 -3  0  1 -1  0 -4 -4  0 -3 -4 -2  0  0 -5 -3 -4  5  2 -1 -5]\n",
      " [-1  0  0  1 -3  4  5 -2  0 -3 -3  1 -1 -4 -1  0 -1 -2 -2 -3  2  5 -1 -5]\n",
      " [-1 -1 -1 -1 -2 -1 -1 -2 -1 -1 -1 -1 -1 -2 -2 -1  0 -3 -1 -1 -1 -1 -1 -5]\n",
      " [-5 -5 -5 -5 -5 -5 -5 -5 -5 -5 -5 -5 -5 -5 -5 -5 -5 -5 -5 -5 -5 -5 -5  1]]\n"
     ]
    }
   ],
   "source": [
    "file_path = '/Users/SiSi/Documents/GitHub/BMI-203-HW3/BLOSUM50'\n",
    "BLOSUM50 = np.loadtxt(file_path, dtype=int, comments='#', skiprows=7)\n",
    "print(BLOSUM50)"
   ]
  },
  {
   "cell_type": "code",
   "execution_count": 94,
   "metadata": {},
   "outputs": [
    {
     "name": "stdout",
     "output_type": "stream",
     "text": [
      "SLEAAQKSNVTSSWAKASAAWGTAGPEFFMALFDAHDDVFAKFSGLFSGAAKGTVKNTPEMAAQAQSFKGLVSNWVDNLDNAGALEGQCKTFAANHKARGISAGQLEAAFKVLSGFMKSYGGDEGAWTAVAGALMGEIEPDM\n"
     ]
    }
   ],
   "source": [
    "sequence_path = '/Users/SiSi/Documents/GitHub/BMI-203-HW3/sequences/prot-0004.fa'\n",
    "with open (sequence_path, \"r\") as file:\n",
    "    seq_1=file.read()\n",
    "    seq_1 = seq_1[seq_1.find(\"\\n\")+1:].replace('\\n', '')\n",
    "print(seq_1)"
   ]
  },
  {
   "cell_type": "code",
   "execution_count": 95,
   "metadata": {},
   "outputs": [
    {
     "name": "stdout",
     "output_type": "stream",
     "text": [
      "ANKTRELCMKSLEHAKVDTSNEARQDGIDLYKHMFENYPPLRKYFKSREEYTAEDVQNDPFFAKQGQKILLACHVLCATYDDRETFNAYTRELLDRHARDHVHMPPEVWTDFWKLFEEYLGKKTTLDEPTKQAWHEIGREFAKEINK\n"
     ]
    }
   ],
   "source": [
    "sequence_path = '/Users/SiSi/Documents/GitHub/BMI-203-HW3/sequences/prot-0008.fa'\n",
    "with open (sequence_path, \"r\") as file:\n",
    "    seq_2=file.read()\n",
    "    seq_2 = seq_2[seq_2.find(\"\\n\")+1:].replace('\\n', '')\n",
    "print(seq_2)"
   ]
  },
  {
   "cell_type": "markdown",
   "metadata": {},
   "source": [
    "In the cell below, I'm written a function that will load both my substitution matrix (which is called sim_matrix because I was confused inititally) as well as an index that matches a given amino acid in a sequence to its proper index in the substitution matrix."
   ]
  },
  {
   "cell_type": "code",
   "execution_count": 96,
   "metadata": {},
   "outputs": [],
   "source": [
    "def load_sim_matrix(name):\n",
    "    pathway = os.path.join('.', name) #on Github, needs to be changed to '..'\n",
    "    if name == 'BLOSUM50' or name == 'BLOSUM62':\n",
    "        sim_matrix = np.loadtxt(os.path.abspath(pathway), dtype=int, comments='#', skiprows=7)\n",
    "    elif name == 'MATIO':\n",
    "        sim_matrix = np.loadtxt(os.path.abspath(pathway), dtype=int, comments='#', skiprows=3)\n",
    "    else:\n",
    "        sim_matrix = np.loadtxt(os.path.abspath(pathway), dtype=int, comments='#', skiprows=10)\n",
    "        \n",
    "    AA_list = [\"A\", \"R\", \"N\", \"D\", \"C\", \"Q\", \"E\", \"G\", \"H\", \"I\", \"L\", \"K\", \n",
    "           \"M\", \"F\", \"P\", \"S\", \"T\", \"W\", \"Y\", \"V\", \"B\", \"Z\", \"X\", \"x\"]\n",
    "    similarity_matrix_index = {}\n",
    "    for i, aa in enumerate(AA_list):\n",
    "        similarity_matrix_index[aa] = i\n",
    "    \n",
    "    return sim_matrix, similarity_matrix_index\n",
    "    "
   ]
  },
  {
   "cell_type": "code",
   "execution_count": 97,
   "metadata": {},
   "outputs": [],
   "source": [
    "BLOSUM50, BLOSUM50_i = load_sim_matrix(\"BLOSUM50\")"
   ]
  },
  {
   "cell_type": "code",
   "execution_count": 7,
   "metadata": {},
   "outputs": [
    {
     "name": "stdout",
     "output_type": "stream",
     "text": [
      "(array([[ 0,  1,  1, -6, -2,  8, -7,  4, -6, -1, -1,  4,  1,  2, -1, -8,\n",
      "         7,  7,  4, -8, -1,  8, -1,  9],\n",
      "       [ 1, -1,  1, -4, -5,  3,  2,  3,  1,  0, -7, -2, -9,  8, -7,  2,\n",
      "        -4, -4,  2,  0,  0,  6, -7,  8],\n",
      "       [ 1,  1, -6,  1,  5,  2,  4, -3, -5, -8,  8,  9,  4,  7,  8,  1,\n",
      "        -2, -7,  4,  1,  1,  0,  7,  0],\n",
      "       [-6, -4,  1,  6,  0,  0,  0, -8, -9,  5, -9,  3,  6,  7,  9, -9,\n",
      "         4,  0,  6,  5, -2,  3,  4,  0],\n",
      "       [-2, -5,  5,  0, -2,  2,  1,  2, -2,  2,  0, -6,  3, -1, -7,  3,\n",
      "        -4,  7, -3, -1,  8,  1,  3,  9],\n",
      "       [ 8,  3,  2,  0,  2, -2, -4,  4,  5,  3, -3,  4,  6, -4, -9,  1,\n",
      "         5,  1, -7,  4,  2,  4,  0, -7],\n",
      "       [-7,  2,  4,  0,  1, -4, -6,  5,  9,  0, -1, -4,  3,  5,  3,  6,\n",
      "        -6,  6,  6, -1, -8,  5,  3, -9],\n",
      "       [ 4,  3, -3, -8,  2,  4,  5,  0,  2, -7, -8,  2, -4,  9,  3, -4,\n",
      "         5, -9,  5, -2,  8, -5,  9, -7],\n",
      "       [-6,  1, -5, -9, -2,  5,  9,  2,  7,  5, -4, -8, -4,  3,  8,  0,\n",
      "         1, -7, -1,  0,  1,  1,  1, -4],\n",
      "       [-1,  0, -8,  5,  2,  3,  0, -7,  5, -1,  8,  3,  5, -1,  7, -8,\n",
      "        -6, -7,  2, -1, -7, -4, -3, -9],\n",
      "       [-1, -7,  8, -9,  0, -3, -1, -8, -4,  8,  7, -7,  4, -1, -7,  2,\n",
      "         2,  6,  4,  0, -9, -4,  0, -6],\n",
      "       [ 4, -2,  9,  3, -6,  4, -4,  2, -8,  3, -7, -4, -9,  1, -2,  1,\n",
      "         6,  8, -6,  7,  9, -5,  6,  9],\n",
      "       [ 1, -9,  4,  6,  3,  6,  3, -4, -4,  5,  4, -9,  6, -1,  0,  8,\n",
      "         2, -7,  3, -2, -5, -7, -1, -3],\n",
      "       [ 2,  8,  7,  7, -1, -4,  5,  9,  3, -1, -1,  1, -1, -3,  3,  4,\n",
      "        -1,  9, -3,  8, -5,  7,  1, -3],\n",
      "       [-1, -7,  8,  9, -7, -9,  3,  3,  8,  7, -7, -2,  0,  3,  0,  1,\n",
      "         9,  0,  4,  5,  7, -3,  0, -6],\n",
      "       [-8,  2,  1, -9,  3,  1,  6, -4,  0, -8,  2,  1,  8,  4,  1,  2,\n",
      "        -7,  8, -7,  4,  6,  4, -5,  8],\n",
      "       [ 7, -4, -2,  4, -4,  5, -6,  5,  1, -6,  2,  6,  2, -1,  9, -7,\n",
      "         0,  0,  2, -7, -6, -8, -6, -1],\n",
      "       [ 7, -4, -7,  0,  7,  1,  6, -9, -7, -7,  6,  8, -7,  9,  0,  8,\n",
      "         0,  6, -1, -1, -6,  4, -7,  7],\n",
      "       [ 4,  2,  4,  6, -3, -7,  6,  5, -1,  2,  4, -6,  3, -3,  4, -7,\n",
      "         2, -1, -2,  0, -9,  0,  6,  3],\n",
      "       [-8,  0,  1,  5, -1,  4, -1, -2,  0, -1,  0,  7, -2,  8,  5,  4,\n",
      "        -7, -1,  0,  5,  9,  6,  5, -8],\n",
      "       [-1,  0,  1, -2,  8,  2, -8,  8,  1, -7, -9,  9, -5, -5,  7,  6,\n",
      "        -6, -6, -9,  9, -7, -8,  7, -7],\n",
      "       [ 8,  6,  0,  3,  1,  4,  5, -5,  1, -4, -4, -5, -7,  7, -3,  4,\n",
      "        -8,  4,  0,  6, -8,  4,  1, -8],\n",
      "       [-1, -7,  7,  4,  3,  0,  3,  9,  1, -3,  0,  6, -1,  1,  0, -5,\n",
      "        -6, -7,  6,  5,  7,  1,  8, -4],\n",
      "       [ 9,  8,  0,  0,  9, -7, -9, -7, -4, -9, -6,  9, -3, -3, -6,  8,\n",
      "        -1,  7,  3, -8, -7, -8, -4,  5]]), {'A': 0, 'R': 1, 'N': 2, 'D': 3, 'C': 4, 'Q': 5, 'E': 6, 'G': 7, 'H': 8, 'I': 9, 'L': 10, 'K': 11, 'M': 12, 'F': 13, 'P': 14, 'S': 15, 'T': 16, 'W': 17, 'Y': 18, 'V': 19, 'B': 20, 'Z': 21, 'X': 22, 'x': 23})\n"
     ]
    }
   ],
   "source": [
    "print(load_sim_matrix(\"MATIO\"))"
   ]
  },
  {
   "cell_type": "code",
   "execution_count": 99,
   "metadata": {},
   "outputs": [],
   "source": [
    "PAM250, PAM250_index = load_sim_matrix(\"PAM250\")"
   ]
  },
  {
   "cell_type": "markdown",
   "metadata": {},
   "source": [
    "For the first part of my algorithm, I have to create a matrix that basically tracks the score or alignment of two sequences based on the ones before it."
   ]
  },
  {
   "cell_type": "code",
   "execution_count": 98,
   "metadata": {},
   "outputs": [],
   "source": [
    "def matrix(a, b, match_score_similarity_matrix, similarity_matrix_index, GOC, EP):\n",
    "    H = np.zeros((len(a) + 1, len(b) + 1), np.int) #initializing matrix\n",
    "    flag = 0 #initialize flag to zero (no gap has been created yet)\n",
    "\n",
    "    for i, j in itertools.product(range(1, H.shape[0]), range(1, H.shape[1])): #going through every cellin the matrix\n",
    "        match = H[i - 1, j - 1] + match_score_similarity_matrix[similarity_matrix_index[a[i-1]], similarity_matrix_index[b[j-1]]] #if AAs align, return score based on similarity matrix\n",
    "        if flag == 0: #assuming that there's no gap being built so would use gap opening cost\n",
    "            delete = H[i - 1, j] - GOC #If choose to instead \"delete\" or skip over, then will go one to left and also have a penalty cost\n",
    "            insert = H[i, j - 1] - GOC #If choose to instead \"insert\" (skipping over on other strand), then will be moving on the vertical axis with a penalty\n",
    "        else: #assumes that there is a gap so need to use extension penalty instead\n",
    "            delete = H[i - 1, j] - EP #If choose to instead \"delete\" or skip over, then will go one to left and also have a penalty cost\n",
    "            insert = H[i, j - 1] - EP\n",
    "        H[i, j] = max(match, delete, insert) #Whichever of the above 3 options is best/optimal, will be picked.\n",
    "        if H[i,j] == match:\n",
    "            flag = 0 #if aligned, then there is still no gap created\n",
    "        else: flag = 1 #gap has been started and continuation penalty should be used instead of start penalty\n",
    "        if H[i,j] < 0: H[i,j] = 0 #if negative, will instead return 0 because that's how S-WW works\n",
    "    return H"
   ]
  },
  {
   "cell_type": "code",
   "execution_count": 100,
   "metadata": {},
   "outputs": [
    {
     "data": {
      "text/plain": [
       "array([[ 0,  0,  0,  0],\n",
       "       [ 0,  5,  3,  0],\n",
       "       [ 0,  2, 12, 10],\n",
       "       [ 0,  0, 10, 19]])"
      ]
     },
     "execution_count": 100,
     "metadata": {},
     "output_type": "execute_result"
    }
   ],
   "source": [
    "matrix('ARN','ARN',BLOSUM50, BLOSUM50_i, 2, 3)"
   ]
  },
  {
   "cell_type": "code",
   "execution_count": 101,
   "metadata": {
    "scrolled": false
   },
   "outputs": [
    {
     "name": "stdout",
     "output_type": "stream",
     "text": [
      "[[  0   0   0 ...   0   0   0]\n",
      " [  0   1   1 ...   0   1   0]\n",
      " [  0   0   0 ...   2   0   0]\n",
      " ...\n",
      " [  0   0   0 ... 158 160 162]\n",
      " [  0   0   2 ... 156 160 160]\n",
      " [  0   0   0 ... 155 158 158]]\n"
     ]
    }
   ],
   "source": [
    "score_matrix = matrix(seq_1, seq_2, BLOSUM50, BLOSUM50_i, 2, 3)\n",
    "print(score_matrix)"
   ]
  },
  {
   "cell_type": "code",
   "execution_count": 102,
   "metadata": {},
   "outputs": [
    {
     "name": "stdout",
     "output_type": "stream",
     "text": [
      "[[ 0  0  0 ...  0  0  0]\n",
      " [ 0  1  1 ...  0  1  0]\n",
      " [ 0  0  0 ...  2  0  0]\n",
      " ...\n",
      " [ 0  1  0 ... 52 50 59]\n",
      " [ 0  0  3 ... 42 54 50]\n",
      " [ 0  0  0 ... 47 44 54]]\n"
     ]
    }
   ],
   "source": [
    "score_matrix = matrix(seq_1, seq_2, PAM250, PAM250_index, 10, 2)\n",
    "print(score_matrix)"
   ]
  },
  {
   "cell_type": "code",
   "execution_count": 103,
   "metadata": {},
   "outputs": [],
   "source": [
    "def traceback(H, b, b_='', old_i=0):\n",
    "    H_flip = np.flip(np.flip(H, 0), 1) #flip H to get the *last* (as in bottom right) occurrence of H.max() instead of top left\n",
    "    i_, j_ = np.unravel_index(H_flip.argmax(), H_flip.shape)\n",
    "    i, j = np.subtract(H.shape, (i_ + 1, j_ + 1))  #(i, j) equal the *last* indexes of H.max()/highest score in matrix\n",
    "    if H[i, j] == 0: #terminating condition--which happens once you hit zero\n",
    "        return b_, j\n",
    "    b_ = b[j - 1] + '-' + b_ if old_i - i > 1 else b[j - 1] + b_ #Otherwise, add gap to sequence if True; otherwise, add aligned AA\n",
    "    return traceback(H[0:i, 0:j], b, b_, i)"
   ]
  },
  {
   "cell_type": "code",
   "execution_count": 17,
   "metadata": {},
   "outputs": [],
   "source": [
    "string, number = traceback(score_matrix, seq_2)"
   ]
  },
  {
   "cell_type": "code",
   "execution_count": 18,
   "metadata": {},
   "outputs": [
    {
     "data": {
      "text/plain": [
       "45"
      ]
     },
     "execution_count": 18,
     "metadata": {},
     "output_type": "execute_result"
    }
   ],
   "source": [
    "len(string)"
   ]
  },
  {
   "cell_type": "markdown",
   "metadata": {},
   "source": [
    "Traceback function above just returns the actual alignment; I also need this to give me the score of the alignment"
   ]
  },
  {
   "cell_type": "code",
   "execution_count": 104,
   "metadata": {},
   "outputs": [],
   "source": [
    "def score(H):\n",
    "    H_flip = np.flip(np.flip(H, 0), 1)\n",
    "    return H_flip.max()"
   ]
  },
  {
   "cell_type": "code",
   "execution_count": 105,
   "metadata": {},
   "outputs": [
    {
     "data": {
      "text/plain": [
       "60"
      ]
     },
     "execution_count": 105,
     "metadata": {},
     "output_type": "execute_result"
    }
   ],
   "source": [
    "score(score_matrix)"
   ]
  },
  {
   "cell_type": "code",
   "execution_count": 21,
   "metadata": {},
   "outputs": [
    {
     "ename": "NameError",
     "evalue": "name 'neg_pairs_filelist' is not defined",
     "output_type": "error",
     "traceback": [
      "\u001b[0;31m---------------------------------------------------------------------------\u001b[0m",
      "\u001b[0;31mNameError\u001b[0m                                 Traceback (most recent call last)",
      "\u001b[0;32m<ipython-input-21-fe9961fe1382>\u001b[0m in \u001b[0;36m<module>\u001b[0;34m()\u001b[0m\n\u001b[0;32m----> 1\u001b[0;31m \u001b[0;32mfor\u001b[0m \u001b[0mf\u001b[0m \u001b[0;32min\u001b[0m \u001b[0mneg_pairs_filelist\u001b[0m\u001b[0;34m:\u001b[0m\u001b[0;34m\u001b[0m\u001b[0;34m\u001b[0m\u001b[0m\n\u001b[0m\u001b[1;32m      2\u001b[0m     \u001b[0ma\u001b[0m\u001b[0;34m,\u001b[0m \u001b[0mb\u001b[0m \u001b[0;34m=\u001b[0m \u001b[0mreturn_sequences\u001b[0m\u001b[0;34m(\u001b[0m\u001b[0;34m*\u001b[0m\u001b[0mf\u001b[0m\u001b[0;34m)\u001b[0m\u001b[0;34m\u001b[0m\u001b[0;34m\u001b[0m\u001b[0m\n\u001b[1;32m      3\u001b[0m \u001b[0;34m\u001b[0m\u001b[0m\n",
      "\u001b[0;31mNameError\u001b[0m: name 'neg_pairs_filelist' is not defined"
     ]
    }
   ],
   "source": [
    "# for f in neg_pairs_filelist:\n",
    "#     a, b = return_sequences(*f)\n",
    "    "
   ]
  },
  {
   "cell_type": "markdown",
   "metadata": {},
   "source": [
    "Here, I built a pipeline to determine the threshold to give me a TPR of a certain value (for Q1, 0.7). Then, I wrote another function that tells me the FPR for that threshold."
   ]
  },
  {
   "cell_type": "code",
   "execution_count": 106,
   "metadata": {},
   "outputs": [],
   "source": [
    "def return_sequences(sequence_a_path, sequence_b_path):\n",
    "    with open (sequence_a_path, \"r\") as file:\n",
    "        a = file.read()\n",
    "        a = a[a.find(\"\\n\")+1:].replace('\\n', '')\n",
    "    with open (sequence_b_path, \"r\") as file:\n",
    "        b = file.read()\n",
    "        b = b[b.find(\"\\n\")+1:].replace('\\n', '')\n",
    "    return a, b #the two sequences I am going to compare/align using Smith-Waterman"
   ]
  },
  {
   "cell_type": "code",
   "execution_count": 107,
   "metadata": {},
   "outputs": [],
   "source": [
    "BLOSUM50, BLOSUM50_i = load_sim_matrix('BLOSUM50')"
   ]
  },
  {
   "cell_type": "code",
   "execution_count": 108,
   "metadata": {},
   "outputs": [],
   "source": [
    "neg_pairs_filelist = []\n",
    "with open('./Negpairs.txt', mode='r') as my_file:\n",
    "    for line in my_file:\n",
    "        neg_pairs_filelist.append(line.strip().split(' '))"
   ]
  },
  {
   "cell_type": "code",
   "execution_count": 109,
   "metadata": {},
   "outputs": [],
   "source": [
    "a, b = return_sequences(*neg_pairs_filelist[0])"
   ]
  },
  {
   "cell_type": "code",
   "execution_count": 110,
   "metadata": {},
   "outputs": [
    {
     "name": "stdout",
     "output_type": "stream",
     "text": [
      "SQAEFDKAAEEVKHLKTKPADEEMLFIYSHYKQATVGDINTERPGMLDFKGKAKWDAWNELKGTSKEDAMKAYIDKVEELKKKYGI\n",
      "AVSLDRTRAVFDGSEKSMTLDISNDNKQLPYLAQAWIENENQEKIITGPVIATPPVQRLDPGAKSMVRLSTTPDISKLPQDRESLFYFNLREIPPRSEKANVLQIALQTKIKLFYRPAA\n"
     ]
    }
   ],
   "source": [
    "print(a)\n",
    "print(b)"
   ]
  },
  {
   "cell_type": "code",
   "execution_count": 14,
   "metadata": {
    "scrolled": false
   },
   "outputs": [],
   "source": [
    "neg_pairs_scores = []\n",
    "for f in neg_pairs_filelist:\n",
    "    #print(f)\n",
    "    a, b = return_sequences(*f)\n",
    "    score_matrix = matrix(a, b, BLOSUM50, BLOSUM50_i, 3, 2)\n",
    "    neg_pairs_scores.append(score(score_matrix))"
   ]
  },
  {
   "cell_type": "code",
   "execution_count": 29,
   "metadata": {},
   "outputs": [
    {
     "data": {
      "text/plain": [
       "[96,\n",
       " 89,\n",
       " 51,\n",
       " 180,\n",
       " 99,\n",
       " 103,\n",
       " 197,\n",
       " 43,\n",
       " 99,\n",
       " 49,\n",
       " 191,\n",
       " 58,\n",
       " 110,\n",
       " 211,\n",
       " 143,\n",
       " 136,\n",
       " 91,\n",
       " 72,\n",
       " 58,\n",
       " 271,\n",
       " 273,\n",
       " 101,\n",
       " 96,\n",
       " 236,\n",
       " 234,\n",
       " 103,\n",
       " 169,\n",
       " 183,\n",
       " 262,\n",
       " 118,\n",
       " 309,\n",
       " 187,\n",
       " 128,\n",
       " 129,\n",
       " 87,\n",
       " 109,\n",
       " 63,\n",
       " 154,\n",
       " 112,\n",
       " 77,\n",
       " 50,\n",
       " 73,\n",
       " 191,\n",
       " 164,\n",
       " 278,\n",
       " 78,\n",
       " 74,\n",
       " 34,\n",
       " 66,\n",
       " 117]"
      ]
     },
     "execution_count": 29,
     "metadata": {},
     "output_type": "execute_result"
    }
   ],
   "source": [
    "neg_pairs_scores"
   ]
  },
  {
   "cell_type": "code",
   "execution_count": 111,
   "metadata": {},
   "outputs": [],
   "source": [
    "pos_pairs_filelist = []\n",
    "with open('./Pospairs.txt', mode='r') as my_file:\n",
    "    for line in my_file:\n",
    "        pos_pairs_filelist.append(line.strip().split(' '))"
   ]
  },
  {
   "cell_type": "code",
   "execution_count": 16,
   "metadata": {},
   "outputs": [
    {
     "name": "stdout",
     "output_type": "stream",
     "text": [
      "[142 143 144 141 201  66 326  94 109  95 124 131 259 176 174 162 146 344\n",
      " 259 338 343 253 223 206 143 170 297 214 151 137 187 180 150 202 293 143\n",
      " 269 178 183 122 117 138 117 247 243 160 362 415 122  98]\n"
     ]
    }
   ],
   "source": [
    "pos_pairs_scores = []\n",
    "for f in pos_pairs_filelist:\n",
    "    a, b = return_sequences(*f)\n",
    "    score_matrix = matrix(a, b, BLOSUM50, BLOSUM50_i, 2, 5)\n",
    "    pos_pairs_scores.append(score(score_matrix))\n",
    "pos_pairs_scores = np.array(pos_pairs_scores)\n",
    "print(pos_pairs_scores)"
   ]
  },
  {
   "cell_type": "code",
   "execution_count": 112,
   "metadata": {},
   "outputs": [],
   "source": [
    "def return_threshold(similarity_matrix, GOC, EP, goal_TPR):\n",
    "    pos_pairs_scores = []\n",
    "    for f in pos_pairs_filelist:\n",
    "        a, b = return_sequences(*f)\n",
    "        score_matrix = matrix(a, b, similarity_matrix, BLOSUM50_i, GOC, EP) #calculates the score matrix for two sequences\n",
    "        pos_pairs_scores.append(score(score_matrix)) #finds the score from the score matrix and appends to list\n",
    "    pos_pairs_scores = np.array(pos_pairs_scores) #sorts list of scores in ascending order\n",
    "    threshold = np.sort(pos_pairs_scores)[int(49 * (1 - goal_TPR))] #picks threshold as the score based on desired TPR\n",
    "    return threshold"
   ]
  },
  {
   "cell_type": "code",
   "execution_count": 40,
   "metadata": {},
   "outputs": [
    {
     "data": {
      "text/plain": [
       "142"
      ]
     },
     "execution_count": 40,
     "metadata": {},
     "output_type": "execute_result"
    }
   ],
   "source": [
    "t = return_threshold(BLOSUM50, 2, 5, 0.7)\n",
    "t"
   ]
  },
  {
   "cell_type": "code",
   "execution_count": 41,
   "metadata": {},
   "outputs": [
    {
     "data": {
      "text/plain": [
       "0.7"
      ]
     },
     "execution_count": 41,
     "metadata": {},
     "output_type": "execute_result"
    }
   ],
   "source": [
    "#checking I do get a TPR of 0.7\n",
    "(np.array(pos_pairs_scores) > t).mean()"
   ]
  },
  {
   "cell_type": "code",
   "execution_count": 113,
   "metadata": {},
   "outputs": [],
   "source": [
    "def find_FPR(threshold, similarity_matrix, GOC, EP):\n",
    "    neg_pairs_scores = []\n",
    "    for f in neg_pairs_filelist:\n",
    "        a, b = return_sequences(*f)\n",
    "        score_matrix = matrix(a, b, similarity_matrix, BLOSUM50_i, GOC, EP) #note all similarity matrix indices are the same\n",
    "        neg_pairs_scores.append(score(score_matrix))\n",
    "    FPR = (np.array(neg_pairs_scores) > threshold).mean()\n",
    "    return FPR\n",
    "    "
   ]
  },
  {
   "cell_type": "code",
   "execution_count": 50,
   "metadata": {},
   "outputs": [
    {
     "name": "stdout",
     "output_type": "stream",
     "text": [
      "[0.38, 0.38, 0.36, 0.34, 0.34, 0.36, 0.34, 0.34, 0.32, 0.3, 0.36, 0.34, 0.32, 0.3, 0.28, 0.32, 0.34, 0.28, 0.28, 0.26, 0.32, 0.34, 0.32, 0.28, 0.3, 0.32, 0.28, 0.3, 0.3, 0.26, 0.32, 0.34, 0.24, 0.28, 0.3, 0.3, 0.26, 0.3, 0.3, 0.3, 0.32, 0.28, 0.28, 0.28, 0.26, 0.32, 0.26, 0.26, 0.2, 0.22, 0.28, 0.28, 0.26, 0.24, 0.24, 0.36, 0.2, 0.28, 0.22, 0.32, 0.32, 0.32, 0.34, 0.28, 0.28, 0.26, 0.28, 0.24, 0.28, 0.26, 0.28, 0.24, 0.28, 0.36, 0.38, 0.3, 0.26, 0.36, 0.38, 0.36, 0.32, 0.24, 0.34, 0.34, 0.34, 0.4, 0.34, 0.34, 0.32, 0.36, 0.36, 0.32, 0.32, 0.32, 0.36, 0.28, 0.34, 0.32, 0.32, 0.36]\n"
     ]
    }
   ],
   "source": [
    "FPR_list = []\n",
    "for GOC in range(1,21):\n",
    "    for EP in range(1,6):\n",
    "        threshold = return_threshold(BLOSUM50, GOC, EP, 0.7)\n",
    "        FPR = find_FPR(threshold, BLOSUM50, GOC, EP)\n",
    "        FPR_list.append(FPR)\n",
    "print(FPR_list)"
   ]
  },
  {
   "cell_type": "code",
   "execution_count": 53,
   "metadata": {},
   "outputs": [
    {
     "name": "stdout",
     "output_type": "stream",
     "text": [
      "0.2\n",
      "48\n"
     ]
    }
   ],
   "source": [
    "print(min(FPR_list))\n",
    "print(np.array(FPR_list).argmin())"
   ]
  },
  {
   "cell_type": "code",
   "execution_count": 64,
   "metadata": {},
   "outputs": [
    {
     "name": "stdout",
     "output_type": "stream",
     "text": [
      "0.2\n"
     ]
    }
   ],
   "source": [
    "#double-checking that I have the right GOC and EP combination:\n",
    "t = return_threshold(BLOSUM50, 10, 4, 0.7)\n",
    "FPR = find_FPR(t, BLOSUM50, 10, 4)\n",
    "print(FPR)"
   ]
  },
  {
   "cell_type": "markdown",
   "metadata": {},
   "source": [
    "The lowest FPR was 0.2, which corresponds to a gap opening cost of 10 and elimination penalty of 4. Note there is another combination that gets me another FPR of 0.2, but I decided to utilize the first combination that gave me 0.2 for the rest of the assignment.\n",
    "\n",
    "Next, I will try finding the FPR for each matrix with this gap cost combination."
   ]
  },
  {
   "cell_type": "code",
   "execution_count": 114,
   "metadata": {},
   "outputs": [],
   "source": [
    "BLOSUM50, similarity_matrix_index = load_sim_matrix('BLOSUM50')\n",
    "BLOSUM62, similarity_matrix_index = load_sim_matrix('BLOSUM62')\n",
    "MATIO, similarity_matrix_index = load_sim_matrix('MATIO')\n",
    "PAM100, similarity_matrix_index = load_sim_matrix('PAM100')\n",
    "PAM250, similarity_matrix_index = load_sim_matrix('PAM250')"
   ]
  },
  {
   "cell_type": "code",
   "execution_count": 66,
   "metadata": {},
   "outputs": [
    {
     "name": "stdout",
     "output_type": "stream",
     "text": [
      "[0.2, 0.24, 0.38, 0.24, 0.3]\n"
     ]
    }
   ],
   "source": [
    "FPR_list_matrix = []\n",
    "for sim_matrix in [BLOSUM50, BLOSUM62, MATIO, PAM100, PAM250]:\n",
    "    threshold = return_threshold(sim_matrix, 10, 4, 0.7)\n",
    "    FPR = find_FPR(threshold, sim_matrix, 10, 4)\n",
    "    FPR_list_matrix.append(FPR)\n",
    "print(FPR_list_matrix)"
   ]
  },
  {
   "cell_type": "markdown",
   "metadata": {},
   "source": [
    "With the best gap penalty combination, BLOSUM50 appeared to perform the best (i.e. had the lowest FPR with a TPR of 0.7).\n",
    "    \n",
    "BLOSUM50 had a FPR of 0.2.\n",
    "\n",
    "BLOSUM62 had a FPR of 0.24.\n",
    "\n",
    "MATIO had a FPR of 0.38.\n",
    "\n",
    "PAM100 had a FPR of 0.24.\n",
    "\n",
    "PAM250 had a FPR of 0.3."
   ]
  },
  {
   "cell_type": "code",
   "execution_count": null,
   "metadata": {},
   "outputs": [],
   "source": [
    "#ROC Curves"
   ]
  },
  {
   "cell_type": "code",
   "execution_count": 21,
   "metadata": {},
   "outputs": [],
   "source": [
    "ROC_TPR = np.array([0, 0.1, 0.2, 0.3, 0.4, 0.5, 0.6, 0.7, 0.8, 0.9, 1])"
   ]
  },
  {
   "cell_type": "code",
   "execution_count": 22,
   "metadata": {},
   "outputs": [
    {
     "name": "stdout",
     "output_type": "stream",
     "text": [
      "[0.0, 0.0, 0.02, 0.02, 0.04, 0.06, 0.12, 0.2, 0.32, 0.56, 0.78]\n"
     ]
    }
   ],
   "source": [
    "#BLOSUM50\n",
    "BLOSUM50_FPR = []\n",
    "for goal_TPR in ROC_TPR:\n",
    "    threshold = return_threshold(BLOSUM50, 10, 4, goal_TPR)\n",
    "    FPR = find_FPR(threshold, BLOSUM50, 10, 4)\n",
    "    BLOSUM50_FPR.append(FPR) \n",
    "print(BLOSUM50_FPR)"
   ]
  },
  {
   "cell_type": "code",
   "execution_count": 23,
   "metadata": {},
   "outputs": [
    {
     "name": "stdout",
     "output_type": "stream",
     "text": [
      "[0.0, 0.02, 0.02, 0.08, 0.08, 0.14, 0.2, 0.24, 0.42, 0.54, 0.68]\n"
     ]
    }
   ],
   "source": [
    "#BLOSUM62\n",
    "BLOSUM62_FPR = []\n",
    "for goal_TPR in ROC_TPR:\n",
    "    threshold = return_threshold(BLOSUM62, 10, 4, goal_TPR)\n",
    "    FPR = find_FPR(threshold, BLOSUM62, 10, 4)\n",
    "    BLOSUM62_FPR.append(FPR) \n",
    "print(BLOSUM62_FPR)"
   ]
  },
  {
   "cell_type": "code",
   "execution_count": 24,
   "metadata": {},
   "outputs": [
    {
     "name": "stdout",
     "output_type": "stream",
     "text": [
      "[0.0, 0.0, 0.1, 0.14, 0.22, 0.3, 0.34, 0.38, 0.44, 0.68, 0.96]\n"
     ]
    }
   ],
   "source": [
    "#MATIO\n",
    "MATIO_FPR = []\n",
    "for goal_TPR in ROC_TPR:\n",
    "    threshold = return_threshold(MATIO, 10, 4, goal_TPR)\n",
    "    FPR = find_FPR(threshold, MATIO, 10, 4)\n",
    "    MATIO_FPR.append(FPR) \n",
    "print(MATIO_FPR)"
   ]
  },
  {
   "cell_type": "code",
   "execution_count": 25,
   "metadata": {},
   "outputs": [
    {
     "name": "stdout",
     "output_type": "stream",
     "text": [
      "[0.0, 0.0, 0.02, 0.02, 0.02, 0.06, 0.1, 0.24, 0.26, 0.54, 0.82]\n"
     ]
    }
   ],
   "source": [
    "#PAM100\n",
    "PAM100_FPR = []\n",
    "for goal_TPR in ROC_TPR:\n",
    "    threshold = return_threshold(PAM100, 10, 4, goal_TPR)\n",
    "    FPR = find_FPR(threshold, PAM100, 10, 4)\n",
    "    PAM100_FPR.append(FPR) \n",
    "print(PAM100_FPR)"
   ]
  },
  {
   "cell_type": "code",
   "execution_count": 26,
   "metadata": {},
   "outputs": [
    {
     "name": "stdout",
     "output_type": "stream",
     "text": [
      "[0.0, 0.0, 0.0, 0.0, 0.02, 0.04, 0.1, 0.3, 0.34, 0.46, 0.88]\n"
     ]
    }
   ],
   "source": [
    "#PAM250\n",
    "PAM250_FPR = []\n",
    "for goal_TPR in ROC_TPR:\n",
    "    threshold = return_threshold(PAM250, 10, 4, goal_TPR)\n",
    "    FPR = find_FPR(threshold, PAM250, 10, 4)\n",
    "    PAM250_FPR.append(FPR) \n",
    "print(PAM250_FPR)"
   ]
  },
  {
   "cell_type": "code",
   "execution_count": 27,
   "metadata": {},
   "outputs": [
    {
     "data": {
      "text/plain": [
       "<Figure size 360x360 with 0 Axes>"
      ]
     },
     "execution_count": 27,
     "metadata": {},
     "output_type": "execute_result"
    },
    {
     "data": {
      "image/png": "[encoded data removed]",
      "text/plain": [
       "<Figure size 432x288 with 1 Axes>"
      ]
     },
     "metadata": {},
     "output_type": "display_data"
    },
    {
     "data": {
      "text/plain": [
       "<Figure size 360x360 with 0 Axes>"
      ]
     },
     "metadata": {},
     "output_type": "display_data"
    }
   ],
   "source": [
    "sns.lineplot(x=BLOSUM50_FPR, y=ROC_TPR, label=\"BLOSUM50\")\n",
    "sns.lineplot(x=BLOSUM62_FPR, y=ROC_TPR, label=\"BLOSUM62\")\n",
    "sns.lineplot(x=MATIO_FPR, y=ROC_TPR, label=\"MATIO\")\n",
    "sns.lineplot(x=PAM100_FPR, y=ROC_TPR, label=\"PAM100\")\n",
    "sns.lineplot(x=PAM250_FPR, y=ROC_TPR, label=\"PAM250\")\n",
    "plt.title(\"ROCs for different similarity matrices\")\n",
    "plt.xlabel(\"FPR\")\n",
    "plt.ylabel(\"TPR\")\n",
    "plt.xlim(0,1)\n",
    "plt.xlim(0,1)\n",
    "#plt.axis('equal')\n",
    "plt.figure(figsize=(5,5))"
   ]
  },
  {
   "cell_type": "markdown",
   "metadata": {},
   "source": [
    "I am now writing new functions and remaking ROC curves to address Part 1, Q3 about normalization."
   ]
  },
  {
   "cell_type": "code",
   "execution_count": 35,
   "metadata": {},
   "outputs": [],
   "source": [
    "def normalized_threshold(similarity_matrix, GOC, EP, goal_TPR):\n",
    "    pos_pairs_scores = []\n",
    "    for f in pos_pairs_filelist:\n",
    "        a, b = return_sequences(*f)\n",
    "        score_matrix = matrix(a, b, similarity_matrix, BLOSUM50_i, GOC, EP)\n",
    "        pos_pairs_scores.append(normalized_score(score_matrix, a, b))\n",
    "    pos_pairs_scores = np.array(pos_pairs_scores)\n",
    "    threshold = np.sort(pos_pairs_scores)[int(49 * (1 - goal_TPR))]\n",
    "    return threshold"
   ]
  },
  {
   "cell_type": "code",
   "execution_count": 29,
   "metadata": {},
   "outputs": [],
   "source": [
    "def normalized_score(H,a,b):\n",
    "    return H.max()/min(len(a), len(b))"
   ]
  },
  {
   "cell_type": "code",
   "execution_count": 36,
   "metadata": {},
   "outputs": [],
   "source": [
    "def normalized_FPR(threshold, similarity_matrix, GOC, EP):\n",
    "    neg_pairs_scores = []\n",
    "    for f in neg_pairs_filelist:\n",
    "        a, b = return_sequences(*f)\n",
    "        score_matrix = matrix(a, b, similarity_matrix, BLOSUM50_i, GOC, EP) #note all similarity matrix indices are the same\n",
    "        neg_pairs_scores.append(normalized_score(score_matrix, a, b))\n",
    "    FPR = (np.array(neg_pairs_scores) > threshold).mean()\n",
    "    return FPR"
   ]
  },
  {
   "cell_type": "code",
   "execution_count": 38,
   "metadata": {},
   "outputs": [
    {
     "name": "stdout",
     "output_type": "stream",
     "text": [
      "[0.0, 0.02, 0.22, 0.42, 0.48, 0.52, 0.66, 0.82, 0.9, 0.96, 1.0]\n"
     ]
    }
   ],
   "source": [
    "#BLOSUM50 with normalized scores\n",
    "BLOSUM50_FPR_norm = []\n",
    "for goal_TPR in ROC_TPR:\n",
    "    threshold = normalized_threshold(BLOSUM50,10, 4, goal_TPR)\n",
    "    FPR = normalized_FPR(threshold, BLOSUM50,10, 4)\n",
    "    BLOSUM50_FPR_norm.append(FPR) \n",
    "print(BLOSUM50_FPR_norm)"
   ]
  },
  {
   "cell_type": "code",
   "execution_count": 39,
   "metadata": {},
   "outputs": [
    {
     "data": {
      "text/plain": [
       "<Figure size 1440x1440 with 0 Axes>"
      ]
     },
     "execution_count": 39,
     "metadata": {},
     "output_type": "execute_result"
    },
    {
     "data": {
      "image/png": "[encoded data removed]",
      "text/plain": [
       "<Figure size 432x288 with 1 Axes>"
      ]
     },
     "metadata": {},
     "output_type": "display_data"
    },
    {
     "data": {
      "text/plain": [
       "<Figure size 1440x1440 with 0 Axes>"
      ]
     },
     "metadata": {},
     "output_type": "display_data"
    }
   ],
   "source": [
    "sns.lineplot(x=BLOSUM50_FPR, y=ROC_TPR, label=\"not-normalized BLOSUM50\")\n",
    "sns.lineplot(x=BLOSUM50_FPR_norm, y=ROC_TPR, label=\"normalized BLOSUM50\")\n",
    "plt.title(\"ROCs for normalized vs. not-normalized similarity matrices\")\n",
    "plt.xlabel(\"FPR\")\n",
    "plt.ylabel(\"TPR\")\n",
    "plt.xlim(0,1)\n",
    "plt.xlim(0,1)\n",
    "#plt.axis('equal')\n",
    "plt.figure(figsize=(20,20))"
   ]
  },
  {
   "cell_type": "markdown",
   "metadata": {},
   "source": [
    "The performance appears to get worse if we normalize the Smith-Waterman scores.\n",
    "\n",
    "Looking at the ROC curve particularly, the normalized BLOSUM62 appears to have the same performance as a random algorithm. The false positive rates indeed are much higher (and thus worse) for the normalized rather than the non-normalized. This may occur because you'd generally expect it to be harder to get good sequence alignments from very short sequences. By taking away the \"penalty\" or differntatiation for having a short sequence, your algorithm is going to perform much worse."
   ]
  },
  {
   "cell_type": "markdown",
   "metadata": {},
   "source": [
    "https://web.stanford.edu/class/cs262/presentations/lecture2.pdf\n",
    "https://github.com/applied-bioinformatics/An-Introduction-To-Applied-Bioinformatics/blob/master/book/fundamentals/pairwise-alignment.md"
   ]
  },
  {
   "cell_type": "markdown",
   "metadata": {},
   "source": [
    "## Part 2\n",
    "\n",
    "The first thing I am doing is saving a list of all my static alignments using BLOSUM62 with a gap opening cost of 10 and an extension penalty of 4."
   ]
  },
  {
   "cell_type": "code",
   "execution_count": 115,
   "metadata": {},
   "outputs": [
    {
     "name": "stdout",
     "output_type": "stream",
     "text": [
      "['SLE-AK-R-Y-Y-N-P-A-QGQKI-LA-V', 'A-ED-AV-R-SAL-SP-P-QIK-G-EG-A-I-FKQK-Q', 'K-L-LEHILN-INN-K-T-K-T-E-C-LI', 'GAQ-N-C-ACH-G-NS-A-D-GGF-G-AMP-EIQAV', 'LND-Q-F-F-F-D-DGSI-DF-M-D-D-SWEEYL-M', 'G-KRK-R-GLGAS-ISKT', 'P-RT-ED-LHDAMV-D-G-PTLIQ-P-N-YQ-EP-P-P-N-Q-M-IG-W', 'EKV-AAK-F-NHSKF-D', 'F-PE-CSTT-F-D-G', 'P-PT-IAW-D-NFKV-GR-Q-Q-L', 'PD-P-I-WE-QYK-W-TS-RV', 'P-T-LCA-F-Q-G-VHV-D-E-E', 'I-GEA-T-G-ITLQ-CVH-AS-V-GSA-V-S-GKS-C-G-S', 'V-D-FLG-W-K-MT-K-H-S-D-T-G-K-V-D-L-T-E', 'DEGGM-F-PA-PGDSI-F-NV-GAD-K-TVGQE-VK-E-F-CAPH-GMVA-VVVG', 'MFQTF-N-K-T-P-I-V-L', 'KAI-K-AW-GC-A-I-L-N-SSER-P-G-N-KD-S', 'F-R-P-A-P-TD-RF-DT-T-L-T-Y-S-TAYNAL-P-A', 'EN-SQDT-TVHDG-P-S-LA-G-R-G-F-A-P-V-V-PTSS', 'RYA-IG-C-Y-V-P-SW-L-T-GN-NR-D-HY-GK-C-R-M-VG-FQ-P-I-DQ-IK-E', 'D-GS-PY-NS-S-F-WG-V-N-QNL-G-KQH-WE-E-D-G', 'ME-N-L-DRR-F-PFVT-P-ID-Q-AV-GA-IV', 'A-VKV-Y-L-GK-T-ERIL-YT-H-AA-M-F-D-Q-V-IRK-VF-K-VQL-D-V-D', 'A-KG-F-T-P-VN-V-TI-Y-DID-IL-ARQ-F-NK-DM-M', 'PY-I-YF-VRG-RMLL-DQGWKEE-DGD-QSNAILRHLGRS', 'LD-G-G-IRQV-S-KV-R-I-YGV-E-I-EQV-N-A', 'N-V-YW-GI-SS-KT-F-D-G-GS-PS-H-Q-Q-V', 'D-V-RE-WK-DNVV-Q-G-V-IKRL-T-NYD-DAFP', 'MK-A-PVRV-A-GAAG-G-Q-I-EGV-VM-LE-P-PD-D', 'YEI-G-IC-Q-A-A-WQ-YRE-LVE-LKE', 'G-S-G-S-A-Q-CALI-GGT-CVN-FDT-N', 'A-G-VVG-GTGG-T-AK-I-PS-V-L-I-G-D-G-D-GG-EF-R-G-K-I-A', 'D-GGA-L-A-ARA-GARVV-G-WQR-TGM-L', 'RVL-RM-G-GH-G-V-RI-E-GF-KVI-P-L', 'EA-V-Y-GG-G-G-S-VQAG-WA-S-W-D-I-N-R-VVT-KT-LT', 'LGG-I-GG-GL-A-VV-A-IA-L-E-YEN', 'RA-VVGGSG-G-TI-GF-GL-GF', 'DIRV-IA-GG-RQ-L-L-L-G-Q-D-LA-FD-H-D-I-F-N', 'AL-GL-GQNLI-A-N-G', 'SI-L-KN-T-KVI-G-F-G-F-AIA-G-PV', 'LG-AG-KIL-R-R-L-E-VTG-G-V-G', 'KGDEV-V-FVD-P-K-G-I-G-D-A-DVVV-R-D-I-ED-S', 'MP-AV-GAAG-AEM-D-E-G-VM-VA-V-V-L-A-L', 'RKVV-VGGG-GG-AA-LA-PSI-V-D-AS-PM-GKVAA-VV', 'KVSVVGAAG-VG-A-A-H-VVITAGI-RQPGQ-R-DL-NA-IMEDI-QS-PVD', 'RC-Y-N-GAS-G-CGVP-S-IA-A-IK-G', 'DQ-EVR-A-RGFM-V-P-H-A-D-YL-E-E-LFR-L', 'T-IL-DTARFRFLLGE-FSVP-NVHA-IIGEHGDTELPVWSQA-I-GV-P-EKKGAT-YG-A-GLARVTRAILHN-IL-SA-LDG-YG-EDV-GVPA-NGIREVIE-LND-EKN-A-LKS', 'G-C-N-GHC-C-C-GF-G-C', 'L-S-CSKCRK-C-DT-C-CRKNQY-N-C']\n"
     ]
    }
   ],
   "source": [
    "#Positive Pairs\n",
    "pos_pairs_alignments = []\n",
    "for f in pos_pairs_filelist:\n",
    "    a, b = return_sequences(*f)\n",
    "    score_matrix = matrix(a, b, BLOSUM50, BLOSUM50_i, 10, 4)\n",
    "    alignment, number = traceback(score_matrix, b)\n",
    "    pos_pairs_alignments.append(alignment)\n",
    "print(pos_pairs_alignments)"
   ]
  },
  {
   "cell_type": "code",
   "execution_count": 116,
   "metadata": {},
   "outputs": [
    {
     "name": "stdout",
     "output_type": "stream",
     "text": [
      "['S-A-FD-EK-P-F-YN-RE-LQI-K', 'EP-CAG-H-G', 'NLEEV-KL-C-LVR-I', 'P-DSQ-IK-L-NVM-L-D-L', 'IE-K-C-C-GA-N-R-A-I-G-KC', 'P-G-V-SD-D-VV-G-RQ-KPGQS-L-A', 'ANHIISI-LNLV-F-E-LS-F-FSDS-L-K-SG-D-F-ET-Q', 'VEE-N-L-NQT-K', 'QR-GKK-WSNAG-P', 'DA-Q-IQ-V-SA-T', 'A-AP-D-A-GG-FFH-GS-HT-SS-G-S', 'PT-L-G-D-R', 'S-T-Q-GK-F-AL-I', 'M-ITQQA-PQV-AS-G-L-T-T-VA-PGD-DG-I-A-E-Y-K-GL', 'TPIE-L-D-E-WKITMNDGST-DL', 'F-LGDG-SFST-RG-W-E-G-SSL', 'MD-S-S-S-YS-NG-G-PY-V-D', 'MK-PVT-L-DVAE-S-QT-VNQ', 'P-FG-DA-IVL', 'KY-PQT-SG-FQ-G-GI-KIK-IG-P-E-Y-A', 'MRLG-D-LE-D-A-DSVAA-G-AAR-G-AV', 'METR-V-Y-WS-FFK-Q-EVG-MK', 'ID-GH-VDSL-V-C-Q-C-G-K-L', 'FVPGQ-ET-AE-G-D-G-E-A-VEM-G-F-P', 'QQ-I-G-G-G-VGC-PSA-Q-K-H-G-V-G-P', 'A-KP-I-Y-WI-KF', 'T-N-AA-VD-Y-V-EEV-AA-DA-A-L', 'Y-N-A-D-V-DL-RG-Q-K-FI-V-G-L-L-A-VA-LS', 'M-RL-PLT-AE-RIN-PFV-G-GQV-KHV', 'ER-VL-G-Q-RS-D-KRLA-HAQT-D-WA', 'M-QNI-GN-A-D-RA-L-G-F-DAI-SAV-DK-E-M-LAANGD', 'MKT-RI-N-F-A-D-ELV-V', 'AL-RVR-G-DL-G-P-G', 'ANNLF-SNGVSQ-AIL-VF-PSA-KHG', 'ML-LNS-E-RG-W', 'KR-V-ELER-Q-PEREH-P-IW-Y-MK-Q-K', 'SEK-DQ-C-CTK-P', 'R-R-V-D-G-L-EK-GVR-Y-VSE-Q-L-KIT', 'N-ML-D-T-SG-A-E-IA-K-CAV-S-P-V-I', 'V-RILN-KQ-P-AM-I-RQE-R-G', 'ZH-AD-P-NK', 'KI-S-F-G-G-G', 'LHYK-Q-LVD-P-IE-F', 'N-S-P-VT-HK-S-L-GS-K-NQ-F', 'E-V-YG-G-G-L-R-G-W-N-GKT', 'EKQ-F-E-IKD-VTK', 'PK-QSES-G-L-D-P-DAS-GD', 'K-RGS-CE-D-G', 'EEG-V-KFK-PK-CL-NT-C-P', 'LRSA-RWD-MA-D-S-G']\n"
     ]
    }
   ],
   "source": [
    "#Negative Pairs\n",
    "neg_pairs_alignments = []\n",
    "for f in neg_pairs_filelist:\n",
    "    a, b = return_sequences(*f)\n",
    "    score_matrix = matrix(a, b, BLOSUM50, BLOSUM50_i, 10, 4)\n",
    "    alignment, number = traceback(score_matrix, b)\n",
    "    neg_pairs_alignments.append(alignment)\n",
    "print(neg_pairs_alignments)"
   ]
  },
  {
   "cell_type": "markdown",
   "metadata": {},
   "source": [
    "Now, I'm writing a new function that gives me the score for a given alignment based on a given sim_matrix (which, remember, is actually the substitution/score matrix)."
   ]
  },
  {
   "cell_type": "code",
   "execution_count": 161,
   "metadata": {},
   "outputs": [],
   "source": [
    "def aligned_seq_score(alignment, match_score_similarity_matrix, similarity_matrix_index):\n",
    "    score = 0\n",
    "    flag = 0\n",
    "    for character in alignment:\n",
    "        if character == '-' and flag == 0: #it's the beginning of a gap\n",
    "            added_value = -10 #give it gap opening penalty\n",
    "            score = score + added_value\n",
    "            flag = 1 #show we're now in the midst of a gap\n",
    "        elif character == '-' and flag == 1: #we're in the middle of a gap\n",
    "            added_value = -4 #give it extension penalty\n",
    "            score = score + added_value\n",
    "            flag = 1 #show we're still in the midst of a gap\n",
    "        else: #in this case, we have a non-gap alignment, so give it the score specified in the similarity matrix\n",
    "            added_value = match_score_similarity_matrix[similarity_matrix_index[character], similarity_matrix_index[character]]\n",
    "            score = score + added_value\n",
    "            flag = 0 #we're not in a gap\n",
    "    return score"
   ]
  },
  {
   "cell_type": "markdown",
   "metadata": {},
   "source": [
    "I have a clear problem--my aligned_seq_score and score function for my matrix don't return the same values. I have spent a lot of time trying to debug it, but cannot. Therefore, I will use this flawed score function for the rest of my homework, accepting that the rest of my answers may not be valid due to this discrepancy."
   ]
  },
  {
   "cell_type": "code",
   "execution_count": 162,
   "metadata": {},
   "outputs": [
    {
     "data": {
      "text/plain": [
       "13"
      ]
     },
     "execution_count": 162,
     "metadata": {},
     "output_type": "execute_result"
    }
   ],
   "source": [
    "aligned_seq_score(neg_pairs_alignments[3], BLOSUM50, BLOSUM50_i)"
   ]
  },
  {
   "cell_type": "code",
   "execution_count": 119,
   "metadata": {},
   "outputs": [
    {
     "data": {
      "text/plain": [
       "38"
      ]
     },
     "execution_count": 119,
     "metadata": {},
     "output_type": "execute_result"
    }
   ],
   "source": [
    "a, b = return_sequences(*neg_pairs_filelist[3])\n",
    "score_matrix = matrix(a, b, BLOSUM50, BLOSUM50_i, 10, 4)\n",
    "score(score_matrix)"
   ]
  },
  {
   "cell_type": "markdown",
   "metadata": {},
   "source": [
    "Now that I have the \"score\" of each alignment, I will write a function to tell me the value of my \"objective function\" for that alignment is."
   ]
  },
  {
   "cell_type": "code",
   "execution_count": 124,
   "metadata": {},
   "outputs": [],
   "source": [
    "def return_threshold_FPR(similarity_matrix, goal_FPR):\n",
    "    neg_pairs_scores = []\n",
    "    for alignment in neg_pairs_alignments:\n",
    "        score = aligned_seq_score(alignment, similarity_matrix, BLOSUM50_i) #calculates the score matrix for two sequences\n",
    "        neg_pairs_scores.append(score) #finds the score from the score matrix and appends to list\n",
    "    neg_pairs_scores = np.array(neg_pairs_scores)\n",
    "    threshold = np.sort(neg_pairs_scores)[int(49 * (1 - goal_FPR))] #picks threshold as the score based on desired TPR\n",
    "    return threshold"
   ]
  },
  {
   "cell_type": "code",
   "execution_count": 129,
   "metadata": {},
   "outputs": [],
   "source": [
    "def find_TPR(threshold, similarity_matrix):\n",
    "    pos_pairs_scores = []\n",
    "    for alignment in pos_pairs_alignments:\n",
    "        score = aligned_seq_score(alignment, similarity_matrix, BLOSUM50_i) #note all similarity matrix indices are the same\n",
    "        pos_pairs_scores.append(score)\n",
    "    TPR = (np.array(pos_pairs_scores) > threshold).mean()\n",
    "    return TPR"
   ]
  },
  {
   "cell_type": "code",
   "execution_count": 130,
   "metadata": {},
   "outputs": [],
   "source": [
    "def obj_value(sim_matrix):\n",
    "    TPRs = []\n",
    "    for goal_FPR in [0.0, 0.1, 0.2, 0.3]:\n",
    "        threshold = return_threshold_FPR(sim_matrix, goal_FPR)\n",
    "        TPR = find_TPR(threshold, sim_matrix)\n",
    "        TPRs.append(TPR)\n",
    "    TPRs = np.array(TPRs)\n",
    "    sum_TPR = TPRs.sum()\n",
    "    return sum_TPR\n",
    "        "
   ]
  },
  {
   "cell_type": "code",
   "execution_count": 131,
   "metadata": {},
   "outputs": [
    {
     "data": {
      "text/plain": [
       "1.12"
      ]
     },
     "execution_count": 131,
     "metadata": {},
     "output_type": "execute_result"
    }
   ],
   "source": [
    "obj_value(BLOSUM50)"
   ]
  },
  {
   "cell_type": "markdown",
   "metadata": {},
   "source": [
    "For my optimization algorithm, I will be using a genetic algorithm with the goal of maximizing by obj_value (whose maximum value is 4).\n",
    "\n",
    "In this case, my parameters will be particular cells within my matrix. Since my aligned_seq_score function only takes into account the diagnol, I will specifically focus on changing the values of the twenty values making up this diagnol. As such, I am experimenting with twenty different parameters, which I will name after the amino acids each diagnol corresponds to.\n",
    "\n",
    "For each diagnol (=chromosome), I will say it can \n",
    "\n",
    "Score = score + (corresponding diagnol value) --> this means that the partial derivative wrt diagnol value is simply 1.\n",
    "\n",
    "So update is:\n",
    "parameter = parameter - 0.01 [learning rate] * 1"
   ]
  },
  {
   "cell_type": "code",
   "execution_count": 169,
   "metadata": {},
   "outputs": [],
   "source": [
    "#the values that that make up my whole diagnol, i.e. individual[1] equals value in the first diagnol value\n",
    "def possible_matrix(number_of_genes, upper_limit, lower_limit):\n",
    "    sim_matrix = np.zeros((len(similarity_matrix_index),len(similarity_matrix_index))) #initialize new matrix\n",
    "    individual=[round(rnd()*(upper_limit-lower_limit)\n",
    "                +lower_limit,1) for x in range(number_of_genes)]\n",
    "    for i, character in enumerate(similarity_matrix_index):\n",
    "        sim_matrix[similarity_matrix_index[character], similarity_matrix_index[character]] = individual[i]\n",
    "      \n",
    "    return sim_matrix"
   ]
  },
  {
   "cell_type": "code",
   "execution_count": 170,
   "metadata": {},
   "outputs": [
    {
     "data": {
      "text/plain": [
       "array([[2.7, 0. , 0. , 0. , 0. , 0. , 0. , 0. , 0. , 0. , 0. , 0. , 0. ,\n",
       "        0. , 0. , 0. , 0. , 0. , 0. , 0. , 0. , 0. , 0. , 0. ],\n",
       "       [0. , 3.2, 0. , 0. , 0. , 0. , 0. , 0. , 0. , 0. , 0. , 0. , 0. ,\n",
       "        0. , 0. , 0. , 0. , 0. , 0. , 0. , 0. , 0. , 0. , 0. ],\n",
       "       [0. , 0. , 1.4, 0. , 0. , 0. , 0. , 0. , 0. , 0. , 0. , 0. , 0. ,\n",
       "        0. , 0. , 0. , 0. , 0. , 0. , 0. , 0. , 0. , 0. , 0. ],\n",
       "       [0. , 0. , 0. , 9.3, 0. , 0. , 0. , 0. , 0. , 0. , 0. , 0. , 0. ,\n",
       "        0. , 0. , 0. , 0. , 0. , 0. , 0. , 0. , 0. , 0. , 0. ],\n",
       "       [0. , 0. , 0. , 0. , 1.9, 0. , 0. , 0. , 0. , 0. , 0. , 0. , 0. ,\n",
       "        0. , 0. , 0. , 0. , 0. , 0. , 0. , 0. , 0. , 0. , 0. ],\n",
       "       [0. , 0. , 0. , 0. , 0. , 8.1, 0. , 0. , 0. , 0. , 0. , 0. , 0. ,\n",
       "        0. , 0. , 0. , 0. , 0. , 0. , 0. , 0. , 0. , 0. , 0. ],\n",
       "       [0. , 0. , 0. , 0. , 0. , 0. , 3.9, 0. , 0. , 0. , 0. , 0. , 0. ,\n",
       "        0. , 0. , 0. , 0. , 0. , 0. , 0. , 0. , 0. , 0. , 0. ],\n",
       "       [0. , 0. , 0. , 0. , 0. , 0. , 0. , 5.9, 0. , 0. , 0. , 0. , 0. ,\n",
       "        0. , 0. , 0. , 0. , 0. , 0. , 0. , 0. , 0. , 0. , 0. ],\n",
       "       [0. , 0. , 0. , 0. , 0. , 0. , 0. , 0. , 9.6, 0. , 0. , 0. , 0. ,\n",
       "        0. , 0. , 0. , 0. , 0. , 0. , 0. , 0. , 0. , 0. , 0. ],\n",
       "       [0. , 0. , 0. , 0. , 0. , 0. , 0. , 0. , 0. , 2.8, 0. , 0. , 0. ,\n",
       "        0. , 0. , 0. , 0. , 0. , 0. , 0. , 0. , 0. , 0. , 0. ],\n",
       "       [0. , 0. , 0. , 0. , 0. , 0. , 0. , 0. , 0. , 0. , 0.1, 0. , 0. ,\n",
       "        0. , 0. , 0. , 0. , 0. , 0. , 0. , 0. , 0. , 0. , 0. ],\n",
       "       [0. , 0. , 0. , 0. , 0. , 0. , 0. , 0. , 0. , 0. , 0. , 5.8, 0. ,\n",
       "        0. , 0. , 0. , 0. , 0. , 0. , 0. , 0. , 0. , 0. , 0. ],\n",
       "       [0. , 0. , 0. , 0. , 0. , 0. , 0. , 0. , 0. , 0. , 0. , 0. , 9.3,\n",
       "        0. , 0. , 0. , 0. , 0. , 0. , 0. , 0. , 0. , 0. , 0. ],\n",
       "       [0. , 0. , 0. , 0. , 0. , 0. , 0. , 0. , 0. , 0. , 0. , 0. , 0. ,\n",
       "        6.9, 0. , 0. , 0. , 0. , 0. , 0. , 0. , 0. , 0. , 0. ],\n",
       "       [0. , 0. , 0. , 0. , 0. , 0. , 0. , 0. , 0. , 0. , 0. , 0. , 0. ,\n",
       "        0. , 7.9, 0. , 0. , 0. , 0. , 0. , 0. , 0. , 0. , 0. ],\n",
       "       [0. , 0. , 0. , 0. , 0. , 0. , 0. , 0. , 0. , 0. , 0. , 0. , 0. ,\n",
       "        0. , 0. , 1.7, 0. , 0. , 0. , 0. , 0. , 0. , 0. , 0. ],\n",
       "       [0. , 0. , 0. , 0. , 0. , 0. , 0. , 0. , 0. , 0. , 0. , 0. , 0. ,\n",
       "        0. , 0. , 0. , 3.1, 0. , 0. , 0. , 0. , 0. , 0. , 0. ],\n",
       "       [0. , 0. , 0. , 0. , 0. , 0. , 0. , 0. , 0. , 0. , 0. , 0. , 0. ,\n",
       "        0. , 0. , 0. , 0. , 4.1, 0. , 0. , 0. , 0. , 0. , 0. ],\n",
       "       [0. , 0. , 0. , 0. , 0. , 0. , 0. , 0. , 0. , 0. , 0. , 0. , 0. ,\n",
       "        0. , 0. , 0. , 0. , 0. , 5.9, 0. , 0. , 0. , 0. , 0. ],\n",
       "       [0. , 0. , 0. , 0. , 0. , 0. , 0. , 0. , 0. , 0. , 0. , 0. , 0. ,\n",
       "        0. , 0. , 0. , 0. , 0. , 0. , 6.4, 0. , 0. , 0. , 0. ],\n",
       "       [0. , 0. , 0. , 0. , 0. , 0. , 0. , 0. , 0. , 0. , 0. , 0. , 0. ,\n",
       "        0. , 0. , 0. , 0. , 0. , 0. , 0. , 9.6, 0. , 0. , 0. ],\n",
       "       [0. , 0. , 0. , 0. , 0. , 0. , 0. , 0. , 0. , 0. , 0. , 0. , 0. ,\n",
       "        0. , 0. , 0. , 0. , 0. , 0. , 0. , 0. , 8.5, 0. , 0. ],\n",
       "       [0. , 0. , 0. , 0. , 0. , 0. , 0. , 0. , 0. , 0. , 0. , 0. , 0. ,\n",
       "        0. , 0. , 0. , 0. , 0. , 0. , 0. , 0. , 0. , 4.4, 0. ],\n",
       "       [0. , 0. , 0. , 0. , 0. , 0. , 0. , 0. , 0. , 0. , 0. , 0. , 0. ,\n",
       "        0. , 0. , 0. , 0. , 0. , 0. , 0. , 0. , 0. , 0. , 7.3]])"
      ]
     },
     "execution_count": 170,
     "metadata": {},
     "output_type": "execute_result"
    }
   ],
   "source": [
    "possible_matrix(len(similarity_matrix_index), 0, 10)"
   ]
  },
  {
   "cell_type": "code",
   "execution_count": null,
   "metadata": {},
   "outputs": [],
   "source": [
    "for "
   ]
  },
  {
   "cell_type": "code",
   "execution_count": 143,
   "metadata": {},
   "outputs": [],
   "source": [
    "#each individual in a population is a possible solution that might get me a better answer\n",
    "\n",
    "def population(number_of_individuals,\n",
    "               number_of_genes, upper_limit, lower_limit):\n",
    "    return [individual(number_of_genes, upper_limit, lower_limit) \n",
    "        for x in range(number_of_individuals)]"
   ]
  },
  {
   "cell_type": "code",
   "execution_count": 147,
   "metadata": {},
   "outputs": [
    {
     "data": {
      "text/plain": [
       "[[3.1,\n",
       "  8.2,\n",
       "  4.2,\n",
       "  9.9,\n",
       "  3.8,\n",
       "  9.2,\n",
       "  7.0,\n",
       "  4.8,\n",
       "  2.0,\n",
       "  3.6,\n",
       "  1.5,\n",
       "  0.4,\n",
       "  4.5,\n",
       "  2.4,\n",
       "  6.4,\n",
       "  7.9,\n",
       "  9.6,\n",
       "  5.2,\n",
       "  2.3,\n",
       "  2.6,\n",
       "  9.8,\n",
       "  2.9,\n",
       "  9.7,\n",
       "  3.7],\n",
       " [9.5,\n",
       "  0.4,\n",
       "  4.5,\n",
       "  0.7,\n",
       "  2.4,\n",
       "  3.1,\n",
       "  6.5,\n",
       "  3.5,\n",
       "  4.5,\n",
       "  6.4,\n",
       "  3.2,\n",
       "  6.1,\n",
       "  0.9,\n",
       "  5.5,\n",
       "  2.1,\n",
       "  0.5,\n",
       "  5.3,\n",
       "  1.7,\n",
       "  4.1,\n",
       "  1.3,\n",
       "  1.5,\n",
       "  8.6,\n",
       "  2.7,\n",
       "  9.0],\n",
       " [4.1,\n",
       "  3.1,\n",
       "  6.0,\n",
       "  4.5,\n",
       "  9.5,\n",
       "  1.0,\n",
       "  8.7,\n",
       "  4.6,\n",
       "  3.5,\n",
       "  1.3,\n",
       "  2.2,\n",
       "  9.6,\n",
       "  4.9,\n",
       "  8.2,\n",
       "  8.0,\n",
       "  6.1,\n",
       "  4.9,\n",
       "  6.5,\n",
       "  5.7,\n",
       "  0.4,\n",
       "  1.8,\n",
       "  4.1,\n",
       "  4.1,\n",
       "  0.3],\n",
       " [0.6,\n",
       "  6.8,\n",
       "  1.3,\n",
       "  7.8,\n",
       "  7.3,\n",
       "  9.9,\n",
       "  0.8,\n",
       "  0.5,\n",
       "  5.9,\n",
       "  5.5,\n",
       "  3.3,\n",
       "  1.4,\n",
       "  7.6,\n",
       "  5.0,\n",
       "  8.1,\n",
       "  5.9,\n",
       "  6.5,\n",
       "  6.2,\n",
       "  8.2,\n",
       "  1.5,\n",
       "  7.3,\n",
       "  2.4,\n",
       "  9.0,\n",
       "  4.4],\n",
       " [4.9,\n",
       "  6.7,\n",
       "  4.5,\n",
       "  6.1,\n",
       "  5.7,\n",
       "  5.0,\n",
       "  1.0,\n",
       "  1.2,\n",
       "  5.6,\n",
       "  0.6,\n",
       "  1.5,\n",
       "  1.1,\n",
       "  0.3,\n",
       "  5.7,\n",
       "  10.0,\n",
       "  9.1,\n",
       "  2.8,\n",
       "  6.4,\n",
       "  6.4,\n",
       "  0.2,\n",
       "  7.3,\n",
       "  8.7,\n",
       "  3.6,\n",
       "  10.0],\n",
       " [4.7,\n",
       "  2.3,\n",
       "  4.5,\n",
       "  2.9,\n",
       "  3.5,\n",
       "  3.7,\n",
       "  5.2,\n",
       "  3.2,\n",
       "  2.4,\n",
       "  1.9,\n",
       "  6.1,\n",
       "  3.2,\n",
       "  1.5,\n",
       "  4.5,\n",
       "  3.4,\n",
       "  0.3,\n",
       "  6.1,\n",
       "  2.5,\n",
       "  0.9,\n",
       "  4.8,\n",
       "  5.6,\n",
       "  8.2,\n",
       "  5.8,\n",
       "  1.3],\n",
       " [2.1,\n",
       "  9.7,\n",
       "  4.1,\n",
       "  0.9,\n",
       "  5.9,\n",
       "  8.0,\n",
       "  8.8,\n",
       "  4.1,\n",
       "  8.1,\n",
       "  9.8,\n",
       "  1.6,\n",
       "  4.7,\n",
       "  2.6,\n",
       "  8.8,\n",
       "  6.7,\n",
       "  6.8,\n",
       "  0.5,\n",
       "  6.1,\n",
       "  7.6,\n",
       "  5.4,\n",
       "  6.8,\n",
       "  1.9,\n",
       "  7.4,\n",
       "  0.5],\n",
       " [8.1,\n",
       "  7.6,\n",
       "  1.2,\n",
       "  0.5,\n",
       "  6.8,\n",
       "  5.9,\n",
       "  1.5,\n",
       "  8.6,\n",
       "  1.7,\n",
       "  0.2,\n",
       "  1.6,\n",
       "  4.8,\n",
       "  5.9,\n",
       "  5.4,\n",
       "  7.7,\n",
       "  1.8,\n",
       "  0.9,\n",
       "  7.9,\n",
       "  4.1,\n",
       "  6.0,\n",
       "  4.9,\n",
       "  2.7,\n",
       "  1.8,\n",
       "  1.8],\n",
       " [7.9,\n",
       "  0.9,\n",
       "  2.2,\n",
       "  7.1,\n",
       "  1.0,\n",
       "  2.8,\n",
       "  9.7,\n",
       "  4.1,\n",
       "  2.3,\n",
       "  0.5,\n",
       "  1.9,\n",
       "  7.9,\n",
       "  3.0,\n",
       "  9.8,\n",
       "  7.1,\n",
       "  0.9,\n",
       "  7.9,\n",
       "  4.8,\n",
       "  3.3,\n",
       "  4.3,\n",
       "  4.0,\n",
       "  3.4,\n",
       "  8.8,\n",
       "  6.6],\n",
       " [3.2,\n",
       "  6.5,\n",
       "  3.4,\n",
       "  8.4,\n",
       "  1.0,\n",
       "  5.5,\n",
       "  9.0,\n",
       "  9.8,\n",
       "  2.3,\n",
       "  9.1,\n",
       "  9.2,\n",
       "  7.0,\n",
       "  5.9,\n",
       "  6.8,\n",
       "  9.5,\n",
       "  6.0,\n",
       "  2.2,\n",
       "  5.9,\n",
       "  9.5,\n",
       "  2.1,\n",
       "  8.4,\n",
       "  2.9,\n",
       "  3.0,\n",
       "  8.4],\n",
       " [7.0,\n",
       "  2.5,\n",
       "  9.7,\n",
       "  3.7,\n",
       "  7.0,\n",
       "  7.8,\n",
       "  0.5,\n",
       "  6.4,\n",
       "  4.0,\n",
       "  9.8,\n",
       "  7.2,\n",
       "  9.8,\n",
       "  0.4,\n",
       "  0.4,\n",
       "  5.8,\n",
       "  2.5,\n",
       "  8.9,\n",
       "  4.3,\n",
       "  3.7,\n",
       "  8.6,\n",
       "  6.2,\n",
       "  8.7,\n",
       "  6.5,\n",
       "  6.3],\n",
       " [5.8,\n",
       "  4.3,\n",
       "  0.0,\n",
       "  1.0,\n",
       "  3.1,\n",
       "  8.8,\n",
       "  2.8,\n",
       "  6.2,\n",
       "  4.4,\n",
       "  3.6,\n",
       "  0.5,\n",
       "  2.2,\n",
       "  8.1,\n",
       "  9.4,\n",
       "  3.0,\n",
       "  8.9,\n",
       "  7.0,\n",
       "  8.2,\n",
       "  6.4,\n",
       "  5.7,\n",
       "  6.9,\n",
       "  6.1,\n",
       "  9.6,\n",
       "  6.0],\n",
       " [6.8,\n",
       "  5.5,\n",
       "  7.2,\n",
       "  3.7,\n",
       "  7.2,\n",
       "  8.4,\n",
       "  5.4,\n",
       "  9.6,\n",
       "  9.4,\n",
       "  1.4,\n",
       "  4.1,\n",
       "  0.4,\n",
       "  3.2,\n",
       "  3.6,\n",
       "  6.8,\n",
       "  0.4,\n",
       "  8.1,\n",
       "  5.4,\n",
       "  2.8,\n",
       "  5.7,\n",
       "  0.8,\n",
       "  2.0,\n",
       "  4.4,\n",
       "  7.1],\n",
       " [9.1,\n",
       "  0.8,\n",
       "  3.7,\n",
       "  5.9,\n",
       "  2.5,\n",
       "  7.6,\n",
       "  8.2,\n",
       "  7.5,\n",
       "  2.0,\n",
       "  7.7,\n",
       "  6.2,\n",
       "  3.3,\n",
       "  1.6,\n",
       "  3.1,\n",
       "  3.2,\n",
       "  2.3,\n",
       "  4.3,\n",
       "  6.9,\n",
       "  5.1,\n",
       "  3.6,\n",
       "  0.5,\n",
       "  9.9,\n",
       "  9.3,\n",
       "  2.5],\n",
       " [9.8,\n",
       "  6.9,\n",
       "  0.8,\n",
       "  3.2,\n",
       "  2.1,\n",
       "  3.5,\n",
       "  3.8,\n",
       "  5.1,\n",
       "  0.1,\n",
       "  0.2,\n",
       "  7.6,\n",
       "  5.2,\n",
       "  7.6,\n",
       "  4.9,\n",
       "  4.2,\n",
       "  1.4,\n",
       "  7.2,\n",
       "  6.8,\n",
       "  4.7,\n",
       "  3.3,\n",
       "  0.5,\n",
       "  8.2,\n",
       "  4.6,\n",
       "  3.9],\n",
       " [8.3,\n",
       "  9.1,\n",
       "  5.4,\n",
       "  2.4,\n",
       "  7.1,\n",
       "  6.6,\n",
       "  3.0,\n",
       "  5.5,\n",
       "  1.3,\n",
       "  1.8,\n",
       "  3.3,\n",
       "  7.5,\n",
       "  8.1,\n",
       "  1.1,\n",
       "  2.6,\n",
       "  5.0,\n",
       "  2.8,\n",
       "  2.1,\n",
       "  4.8,\n",
       "  9.9,\n",
       "  7.6,\n",
       "  6.6,\n",
       "  9.1,\n",
       "  0.2],\n",
       " [5.1,\n",
       "  9.5,\n",
       "  0.8,\n",
       "  7.1,\n",
       "  1.1,\n",
       "  5.9,\n",
       "  5.1,\n",
       "  3.1,\n",
       "  3.9,\n",
       "  9.0,\n",
       "  1.0,\n",
       "  0.4,\n",
       "  0.7,\n",
       "  4.7,\n",
       "  7.3,\n",
       "  5.3,\n",
       "  9.0,\n",
       "  1.6,\n",
       "  0.9,\n",
       "  1.5,\n",
       "  8.2,\n",
       "  3.8,\n",
       "  4.1,\n",
       "  7.3],\n",
       " [5.2,\n",
       "  2.2,\n",
       "  5.5,\n",
       "  1.6,\n",
       "  5.2,\n",
       "  1.5,\n",
       "  6.0,\n",
       "  3.1,\n",
       "  5.5,\n",
       "  1.9,\n",
       "  5.0,\n",
       "  9.9,\n",
       "  8.3,\n",
       "  8.6,\n",
       "  5.6,\n",
       "  7.4,\n",
       "  1.8,\n",
       "  7.3,\n",
       "  9.9,\n",
       "  3.4,\n",
       "  2.0,\n",
       "  6.3,\n",
       "  4.8,\n",
       "  4.9],\n",
       " [0.1,\n",
       "  10.0,\n",
       "  0.1,\n",
       "  1.1,\n",
       "  2.1,\n",
       "  9.1,\n",
       "  5.2,\n",
       "  8.5,\n",
       "  8.2,\n",
       "  8.5,\n",
       "  6.4,\n",
       "  0.0,\n",
       "  5.9,\n",
       "  7.1,\n",
       "  1.4,\n",
       "  5.4,\n",
       "  9.1,\n",
       "  9.4,\n",
       "  9.2,\n",
       "  8.5,\n",
       "  7.1,\n",
       "  3.9,\n",
       "  2.2,\n",
       "  8.7],\n",
       " [5.5,\n",
       "  8.8,\n",
       "  3.8,\n",
       "  5.5,\n",
       "  2.4,\n",
       "  3.7,\n",
       "  5.4,\n",
       "  8.1,\n",
       "  4.6,\n",
       "  5.3,\n",
       "  1.0,\n",
       "  2.7,\n",
       "  5.2,\n",
       "  2.8,\n",
       "  3.5,\n",
       "  7.9,\n",
       "  9.3,\n",
       "  9.9,\n",
       "  2.5,\n",
       "  0.6,\n",
       "  0.2,\n",
       "  4.5,\n",
       "  5.0,\n",
       "  0.2]]"
      ]
     },
     "execution_count": 147,
     "metadata": {},
     "output_type": "execute_result"
    }
   ],
   "source": [
    "population(20, len(similarity_matrix_index), 0, 10)"
   ]
  },
  {
   "cell_type": "code",
   "execution_count": null,
   "metadata": {},
   "outputs": [],
   "source": [
    "#fitness calculation is my obj_value --note each row in population are values a particular diagnol can take"
   ]
  },
  {
   "cell_type": "code",
   "execution_count": 148,
   "metadata": {},
   "outputs": [],
   "source": [
    "def selection(generation):\n",
    "    selected_individuals = [generation['Individuals'][-x-1]\n",
    "        for x in range(int(len(generation['Individuals'])//2))]\n",
    "    selected_fitnesses = [generation['Fitness'][-x-1]\n",
    "        for x in range(int(len(generation['Individuals'])//2))]\n",
    "    selected = {'Individuals': selected_individuals,\n",
    "                    'Fitness': selected_fitnesses}\n",
    "    return selected"
   ]
  },
  {
   "cell_type": "code",
   "execution_count": 149,
   "metadata": {},
   "outputs": [
    {
     "ename": "TypeError",
     "evalue": "'int' object is not subscriptable",
     "output_type": "error",
     "traceback": [
      "\u001b[0;31m---------------------------------------------------------------------------\u001b[0m",
      "\u001b[0;31mTypeError\u001b[0m                                 Traceback (most recent call last)",
      "\u001b[0;32m<ipython-input-149-ac36664aded4>\u001b[0m in \u001b[0;36m<module>\u001b[0;34m()\u001b[0m\n\u001b[0;32m----> 1\u001b[0;31m \u001b[0mselection\u001b[0m\u001b[0;34m(\u001b[0m\u001b[0;36m1\u001b[0m\u001b[0;34m)\u001b[0m\u001b[0;34m\u001b[0m\u001b[0;34m\u001b[0m\u001b[0m\n\u001b[0m",
      "\u001b[0;32m<ipython-input-148-0169e5be6581>\u001b[0m in \u001b[0;36mselection\u001b[0;34m(generation)\u001b[0m\n\u001b[1;32m      1\u001b[0m \u001b[0;32mdef\u001b[0m \u001b[0mselection\u001b[0m\u001b[0;34m(\u001b[0m\u001b[0mgeneration\u001b[0m\u001b[0;34m)\u001b[0m\u001b[0;34m:\u001b[0m\u001b[0;34m\u001b[0m\u001b[0;34m\u001b[0m\u001b[0m\n\u001b[1;32m      2\u001b[0m     selected_individuals = [generation['Individuals'][-x-1]\n\u001b[0;32m----> 3\u001b[0;31m         for x in range(int(len(generation['Individuals'])//2))]\n\u001b[0m\u001b[1;32m      4\u001b[0m     selected_fitnesses = [generation['Fitness'][-x-1]\n\u001b[1;32m      5\u001b[0m         for x in range(int(len(generation['Individuals'])//2))]\n",
      "\u001b[0;31mTypeError\u001b[0m: 'int' object is not subscriptable"
     ]
    }
   ],
   "source": [
    "selection(1)"
   ]
  },
  {
   "cell_type": "code",
   "execution_count": 150,
   "metadata": {},
   "outputs": [],
   "source": [
    "def pairing(elit, selected):\n",
    "    individuals = [elit['Individuals']]+selected['Individuals']\n",
    "    fitness = [elit['Fitness']]+selected['Fitness']\n",
    "    parents = [[individuals[x],individuals[x+1]] \n",
    "                for x in range(len(individuals)//2)]\n",
    "\n",
    "    return parents"
   ]
  },
  {
   "cell_type": "code",
   "execution_count": 158,
   "metadata": {},
   "outputs": [],
   "source": [
    "def mating(parents, method='Single Point'):\n",
    "\n",
    "    pivot_point = randint(1, len(parents[0]))\n",
    "    offsprings = [parents[0] \\\n",
    "            [0:pivot_point]+parents[1][pivot_point:]]\n",
    "    offsprings.append(parents[1]\n",
    "            [0:pivot_point]+parents[0][pivot_point:])\n",
    "\n",
    "    return offsprings"
   ]
  },
  {
   "cell_type": "code",
   "execution_count": 159,
   "metadata": {},
   "outputs": [],
   "source": [
    "def mutation(individual, upper_limit, lower_limit, muatation_rate=2, \n",
    "    method='Reset', standard_deviation = 0.001):\n",
    "    gene = [randint(0, 7)]\n",
    "    for x in range(muatation_rate-1):\n",
    "        gene.append(randint(0, 7))\n",
    "        while len(set(gene)) < len(gene):\n",
    "            gene[x] = randint(0, 7)\n",
    "    mutated_individual = individual.copy()\n",
    "    if method == 'Gauss':\n",
    "        for x in range(muatation_rate):\n",
    "            mutated_individual[x] = \\\n",
    "            round(individual[x]+gauss(0, standard_deviation), 1)\n",
    "    if method == 'Reset':\n",
    "        for x in range(muatation_rate):\n",
    "            mutated_individual[x] = round(rnd()* \\\n",
    "                (upper_limit-lower_limit)+lower_limit,1)\n",
    "    return mutated_individual"
   ]
  },
  {
   "cell_type": "code",
   "execution_count": 160,
   "metadata": {},
   "outputs": [],
   "source": [
    "def next_generation(gen, upper_limit, lower_limit):\n",
    "    elit = {}\n",
    "    next_gen = {}\n",
    "    elit['Individuals'] = gen['Individuals'].pop(-1)\n",
    "    elit['Fitness'] = gen['Fitness'].pop(-1)\n",
    "    selected = selection(gen)\n",
    "    parents = pairing(elit, selected)\n",
    "    offsprings = [[[mating(parents[x])\n",
    "                    for x in range(len(parents))]\n",
    "                    [y][z] for z in range(2)] \n",
    "                    for y in range(len(parents))]\n",
    "    offsprings1 = [offsprings[x][0]\n",
    "                   for x in range(len(parents))]\n",
    "    offsprings2 = [offsprings[x][1]\n",
    "                   for x in range(len(parents))]\n",
    "    unmutated = selected['Individuals']+offsprings1+offsprings2\n",
    "    mutated = [mutation(unmutated[x], upper_limit, lower_limit) \n",
    "        for x in range(len(gen['Individuals']))]\n",
    "    unsorted_individuals = mutated + [elit['Individuals']]\n",
    "    unsorted_next_gen = \\\n",
    "        [fitness_calculation(mutated[x]) \n",
    "         for x in range(len(mutated))]\n",
    "    unsorted_fitness = [unsorted_next_gen[x]\n",
    "        for x in range(len(gen['Fitness']))] + [elit['Fitness']]\n",
    "    sorted_next_gen = \\\n",
    "        sorted([[unsorted_individuals[x], unsorted_fitness[x]]\n",
    "            for x in range(len(unsorted_individuals))], \n",
    "                key=lambda x: x[1])\n",
    "    next_gen['Individuals'] = [sorted_next_gen[x][0]\n",
    "        for x in range(len(sorted_next_gen))]\n",
    "    next_gen['Fitness'] = [sorted_next_gen[x][1]\n",
    "        for x in range(len(sorted_next_gen))]\n",
    "    gen['Individuals'].append(elit['Individuals'])\n",
    "    gen['Fitness'].append(elit['Fitness'])\n",
    "    return next_gen"
   ]
  },
  {
   "cell_type": "code",
   "execution_count": null,
   "metadata": {},
   "outputs": [],
   "source": [
    "def fitness_similarity_chech(max_fitness, number_of_similarity):\n",
    "    result = False\n",
    "    similarity = 0\n",
    "    for n in range(len(max_fitness)-1):\n",
    "        if max_fitness[n] == max_fitness[n+1]:\n",
    "            similarity += 1\n",
    "        else:\n",
    "            similarity = 0\n",
    "    if similarity == number_of_similarity-1:\n",
    "        result = True\n",
    "    return result"
   ]
  },
  {
   "cell_type": "code",
   "execution_count": null,
   "metadata": {},
   "outputs": [],
   "source": [
    "# Creating the First Generation\n",
    "def first_generation(pop):\n",
    "    fitness = [fitness_calculation(pop[x]) \n",
    "        for x in range(len(pop))]\n",
    "    sorted_fitness = sorted([[pop[x], fitness[x]]\n",
    "        for x in range(len(pop))], key=lambda x: x[1])\n",
    "    population = [sorted_fitness[x][0] \n",
    "        for x in range(len(sorted_fitness))]\n",
    "    fitness = [sorted_fitness[x][1] \n",
    "        for x in range(len(sorted_fitness))]\n",
    "    return {'Individuals': population, 'Fitness': sorted(fitness)}\n",
    "pop = population(20,8,1,0)\n",
    "gen = []\n",
    "gen.append(first_generation(pop))\n",
    "fitness_avg = np.array([sum(gen[0]['Fitness'])/\n",
    "                        len(gen[0]['Fitness'])])\n",
    "fitness_max = np.array([max(gen[0]['Fitness'])])\n",
    "res = open(Result_file, 'a')\n",
    "res.write('\\n'+str(gen)+'\\n')\n",
    "res.close()\n",
    "finish = False\n",
    "while finish == False:\n",
    "    if max(fitness_max) > 6:\n",
    "        break\n",
    "    if max(fitness_avg) > 5:\n",
    "        break\n",
    "    if fitness_similarity_chech(fitness_max, 50) == True:\n",
    "        break\n",
    "    gen.append(next_generation(gen[-1],1,0))\n",
    "    fitness_avg = np.append(fitness_avg, sum(\n",
    "        gen[-1]['Fitness'])/len(gen[-1]['Fitness']))\n",
    "    fitness_max = np.append(fitness_max, max(gen[-1]['Fitness']))\n",
    "    res = open(Result_file, 'a')\n",
    "    res.write('\\n'+str(gen[-1])+'\\n')\n",
    "    res.close()"
   ]
  }
 ],
 "metadata": {
  "kernelspec": {
   "display_name": "Python 3",
   "language": "python",
   "name": "python3"
  },
  "language_info": {
   "codemirror_mode": {
    "name": "ipython",
    "version": 3
   },
   "file_extension": ".py",
   "mimetype": "text/x-python",
   "name": "python",
   "nbconvert_exporter": "python",
   "pygments_lexer": "ipython3",
   "version": "3.6.8"
  }
 },
 "nbformat": 4,
 "nbformat_minor": 2
}
