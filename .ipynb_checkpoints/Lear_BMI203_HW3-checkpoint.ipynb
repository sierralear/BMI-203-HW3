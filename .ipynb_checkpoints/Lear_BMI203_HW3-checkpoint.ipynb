{
 "cells": [
  {
   "cell_type": "code",
   "execution_count": 1,
   "metadata": {},
   "outputs": [],
   "source": [
    "import itertools\n",
    "import numpy as np\n",
    "import os"
   ]
  },
  {
   "cell_type": "code",
   "execution_count": 2,
   "metadata": {},
   "outputs": [],
   "source": [
    "#np.set_printoptions(threshold=np.inf, linewidth=400)"
   ]
  },
  {
   "cell_type": "code",
   "execution_count": 3,
   "metadata": {},
   "outputs": [],
   "source": [
    "# file_path = '/Users/SiSi/Documents/GitHub/BMI-203-HW3/BLOSUM50'\n",
    "# BLOSUM50 = open(file_path, 'r')\n",
    "# lines = BLOSUM50.readlines()\n",
    "# BLOSUM50.close()\n",
    "# #print(lines[0:4])\n",
    "# li = 0\n",
    "# while lines[li][0] == '#':\n",
    "#     li = li + 1\n",
    "# headerline = lines[li]\n",
    "# score_lines = lines[li+1:]\n",
    "\n",
    "# #score_string = ''.join(score_lines)\n",
    "# #print(score_string)\n",
    "# #gives error - score_matrix = np.array([[int(j) for j in i.split(' ')] for i in score_string.splitlines()])\n",
    "# #score_matrix = np.fromstring(score_matrix, dtype=int, sep=\" \")\n",
    "# score_matrix = np.zeros(())\n",
    "# matsize = len(score_lines)\n",
    "# for srow in range(matsize):\n",
    "#     score_matrix[srow,:] = np.fromstring(score_lines[srow], dtype=int, sep=\" \")\n",
    "    \n",
    "# print(score_matrix)    \n",
    "    \n",
    "    \n",
    "#     #numpy.fromstring(string, dtype=float, count=-1, sep='')"
   ]
  },
  {
   "cell_type": "code",
   "execution_count": 4,
   "metadata": {},
   "outputs": [
    {
     "name": "stdout",
     "output_type": "stream",
     "text": [
      "[[ 5 -2 -1 -2 -1 -1 -1  0 -2 -1 -2 -1 -1 -3 -1  1  0 -3 -2  0 -2 -1 -1 -5]\n",
      " [-2  7 -1 -2 -4  1  0 -3  0 -4 -3  3 -2 -3 -3 -1 -1 -3 -1 -3 -1  0 -1 -5]\n",
      " [-1 -1  7  2 -2  0  0  0  1 -3 -4  0 -2 -4 -2  1  0 -4 -2 -3  4  0 -1 -5]\n",
      " [-2 -2  2  8 -4  0  2 -1 -1 -4 -4 -1 -4 -5 -1  0 -1 -5 -3 -4  5  1 -1 -5]\n",
      " [-1 -4 -2 -4 13 -3 -3 -3 -3 -2 -2 -3 -2 -2 -4 -1 -1 -5 -3 -1 -3 -3 -2 -5]\n",
      " [-1  1  0  0 -3  7  2 -2  1 -3 -2  2  0 -4 -1  0 -1 -1 -1 -3  0  4 -1 -5]\n",
      " [-1  0  0  2 -3  2  6 -3  0 -4 -3  1 -2 -3 -1 -1 -1 -3 -2 -3  1  5 -1 -5]\n",
      " [ 0 -3  0 -1 -3 -2 -3  8 -2 -4 -4 -2 -3 -4 -2  0 -2 -3 -3 -4 -1 -2 -2 -5]\n",
      " [-2  0  1 -1 -3  1  0 -2 10 -4 -3  0 -1 -1 -2 -1 -2 -3  2 -4  0  0 -1 -5]\n",
      " [-1 -4 -3 -4 -2 -3 -4 -4 -4  5  2 -3  2  0 -3 -3 -1 -3 -1  4 -4 -3 -1 -5]\n",
      " [-2 -3 -4 -4 -2 -2 -3 -4 -3  2  5 -3  3  1 -4 -3 -1 -2 -1  1 -4 -3 -1 -5]\n",
      " [-1  3  0 -1 -3  2  1 -2  0 -3 -3  6 -2 -4 -1  0 -1 -3 -2 -3  0  1 -1 -5]\n",
      " [-1 -2 -2 -4 -2  0 -2 -3 -1  2  3 -2  7  0 -3 -2 -1 -1  0  1 -3 -1 -1 -5]\n",
      " [-3 -3 -4 -5 -2 -4 -3 -4 -1  0  1 -4  0  8 -4 -3 -2  1  4 -1 -4 -4 -2 -5]\n",
      " [-1 -3 -2 -1 -4 -1 -1 -2 -2 -3 -4 -1 -3 -4 10 -1 -1 -4 -3 -3 -2 -1 -2 -5]\n",
      " [ 1 -1  1  0 -1  0 -1  0 -1 -3 -3  0 -2 -3 -1  5  2 -4 -2 -2  0  0 -1 -5]\n",
      " [ 0 -1  0 -1 -1 -1 -1 -2 -2 -1 -1 -1 -1 -2 -1  2  5 -3 -2  0  0 -1  0 -5]\n",
      " [-3 -3 -4 -5 -5 -1 -3 -3 -3 -3 -2 -3 -1  1 -4 -4 -3 15  2 -3 -5 -2 -3 -5]\n",
      " [-2 -1 -2 -3 -3 -1 -2 -3  2 -1 -1 -2  0  4 -3 -2 -2  2  8 -1 -3 -2 -1 -5]\n",
      " [ 0 -3 -3 -4 -1 -3 -3 -4 -4  4  1 -3  1 -1 -3 -2  0 -3 -1  5 -4 -3 -1 -5]\n",
      " [-2 -1  4  5 -3  0  1 -1  0 -4 -4  0 -3 -4 -2  0  0 -5 -3 -4  5  2 -1 -5]\n",
      " [-1  0  0  1 -3  4  5 -2  0 -3 -3  1 -1 -4 -1  0 -1 -2 -2 -3  2  5 -1 -5]\n",
      " [-1 -1 -1 -1 -2 -1 -1 -2 -1 -1 -1 -1 -1 -2 -2 -1  0 -3 -1 -1 -1 -1 -1 -5]\n",
      " [-5 -5 -5 -5 -5 -5 -5 -5 -5 -5 -5 -5 -5 -5 -5 -5 -5 -5 -5 -5 -5 -5 -5  1]]\n"
     ]
    }
   ],
   "source": [
    "file_path = '/Users/SiSi/Documents/GitHub/BMI-203-HW3/BLOSUM50'\n",
    "BLOSUM50 = np.loadtxt(file_path, dtype=int, comments='#', skiprows=7)#, delimiter=' \\n', ndmin = 2)\n",
    "print(BLOSUM50)\n",
    "#BLOSUM50[BLOSUM50 < 0] = 0 #replacing all negative values with 0 for Smith-Waterman\n",
    "#zcol = np.zeros((BLOSUM50.shape[0],1))\n",
    "#print(BLOSUM50.shape)\n",
    "#print(zrow.shape)\n",
    "#BLOSUM50z = np.concatenate((zcol, BLOSUM50), axis = 1)\n",
    "#zrow = np.zeros((1,BLOSUM50z.shape[1]))\n",
    "#print(BLOSUM50z.shape)\n",
    "#print(zrow.shape)\n",
    "#BLOSUM50zz = np.concatenate((zrow, BLOSUM50z), axis = 0)\n",
    "#print(BLOSUM50zz)\n",
    "#print(BLOSUM50zz.shape)\n",
    "\n",
    "\n",
    "\n",
    "\n",
    "\n",
    "\n",
    "\n",
    "#numpy.loadtxt(fname, dtype=<class 'float'>, comments='#', delimiter=None, converters=None, skiprows=0, usecols=None, unpack=False, ndmin=0, encoding='bytes')[source]"
   ]
  },
  {
   "cell_type": "code",
   "execution_count": 5,
   "metadata": {},
   "outputs": [
    {
     "name": "stdout",
     "output_type": "stream",
     "text": [
      "SLEAAQKSNVTSSWAKASAAWGTAGPEFFMALFDAHDDVFAKFSGLFSGAAKGTVKNTPEMAAQAQSFKGLVSNWVDNLDNAGALEGQCKTFAANHKARGISAGQLEAAFKVLSGFMKSYGGDEGAWTAVAGALMGEIEPDM\n"
     ]
    }
   ],
   "source": [
    "sequence_path = '/Users/SiSi/Documents/GitHub/BMI-203-HW3/sequences/prot-0004.fa'\n",
    "with open (sequence_path, \"r\") as file:\n",
    "    seq_1=file.read()\n",
    "    seq_1 = seq_1[seq_1.find(\"\\n\")+1:].replace('\\n', '')\n",
    "print(seq_1)"
   ]
  },
  {
   "cell_type": "code",
   "execution_count": 6,
   "metadata": {},
   "outputs": [
    {
     "name": "stdout",
     "output_type": "stream",
     "text": [
      "ANKTRELCMKSLEHAKVDTSNEARQDGIDLYKHMFENYPPLRKYFKSREEYTAEDVQNDPFFAKQGQKILLACHVLCATYDDRETFNAYTRELLDRHARDHVHMPPEVWTDFWKLFEEYLGKKTTLDEPTKQAWHEIGREFAKEINK\n"
     ]
    }
   ],
   "source": [
    "sequence_path = '/Users/SiSi/Documents/GitHub/BMI-203-HW3/sequences/prot-0008.fa'\n",
    "with open (sequence_path, \"r\") as file:\n",
    "    seq_2=file.read()\n",
    "    seq_2 = seq_2[seq_2.find(\"\\n\")+1:].replace('\\n', '')\n",
    "print(seq_2)"
   ]
  },
  {
   "cell_type": "code",
   "execution_count": 7,
   "metadata": {},
   "outputs": [
    {
     "name": "stdout",
     "output_type": "stream",
     "text": [
      "142\n",
      "147\n",
      "(24, 24)\n"
     ]
    }
   ],
   "source": [
    "print(len(seq_1))\n",
    "print(len(seq_2))\n",
    "print(BLOSUM50.shape)"
   ]
  },
  {
   "cell_type": "raw",
   "metadata": {},
   "source": [
    "A  R  N  D  C  Q  E  G  H  I  L  K  M  F  P  S  T  W  Y  V  B  Z  X  *"
   ]
  },
  {
   "cell_type": "code",
   "execution_count": 8,
   "metadata": {},
   "outputs": [],
   "source": [
    "AA_list = [\"A\", \"R\", \"N\", \"D\", \"C\", \"Q\", \"E\", \"G\", \"H\", \"I\", \"L\", \"K\", \n",
    "           \"M\", \"F\", \"P\", \"S\", \"T\", \"W\", \"Y\", \"V\", \"B\", \"Z\", \"X\", \"x\"]\n",
    "\n",
    "similarity_matrix_index = {}\n",
    "for i, aa in enumerate(AA_list):\n",
    "    similarity_matrix_index[aa] = i\n"
   ]
  },
  {
   "cell_type": "code",
   "execution_count": null,
   "metadata": {},
   "outputs": [],
   "source": []
  },
  {
   "cell_type": "code",
   "execution_count": 28,
   "metadata": {},
   "outputs": [],
   "source": [
    "def load_sim_matrix(name):\n",
    "    pathway = os.path.join('.', name) #on Github, needs to be changed to '..'\n",
    "    if name == 'BLOSUM50' or name == 'BLOSUM62':\n",
    "        sim_matrix = np.loadtxt(os.path.abspath(pathway), dtype=int, comments='#', skiprows=7)\n",
    "    elif name == 'MATIO':\n",
    "        sim_matrix = np.loadtxt(os.path.abspath(pathway), dtype=int, comments='#', skiprows=3)\n",
    "    else:\n",
    "        sim_matrix = np.loadtxt(os.path.abspath(pathway), dtype=int, comments='#', skiprows=10)\n",
    "        \n",
    "    AA_list = [\"A\", \"R\", \"N\", \"D\", \"C\", \"Q\", \"E\", \"G\", \"H\", \"I\", \"L\", \"K\", \n",
    "           \"M\", \"F\", \"P\", \"S\", \"T\", \"W\", \"Y\", \"V\", \"B\", \"Z\", \"X\", \"x\"]\n",
    "    similarity_matrix_index = {}\n",
    "    for i, aa in enumerate(AA_list):\n",
    "        similarity_matrix_index[aa] = i\n",
    "    \n",
    "    return sim_matrix, similarity_matrix_index\n",
    "    "
   ]
  },
  {
   "cell_type": "code",
   "execution_count": 10,
   "metadata": {},
   "outputs": [
    {
     "name": "stdout",
     "output_type": "stream",
     "text": [
      "(array([[ 5, -2, -1, -2, -1, -1, -1,  0, -2, -1, -2, -1, -1, -3, -1,  1,\n",
      "         0, -3, -2,  0, -2, -1, -1, -5],\n",
      "       [-2,  7, -1, -2, -4,  1,  0, -3,  0, -4, -3,  3, -2, -3, -3, -1,\n",
      "        -1, -3, -1, -3, -1,  0, -1, -5],\n",
      "       [-1, -1,  7,  2, -2,  0,  0,  0,  1, -3, -4,  0, -2, -4, -2,  1,\n",
      "         0, -4, -2, -3,  4,  0, -1, -5],\n",
      "       [-2, -2,  2,  8, -4,  0,  2, -1, -1, -4, -4, -1, -4, -5, -1,  0,\n",
      "        -1, -5, -3, -4,  5,  1, -1, -5],\n",
      "       [-1, -4, -2, -4, 13, -3, -3, -3, -3, -2, -2, -3, -2, -2, -4, -1,\n",
      "        -1, -5, -3, -1, -3, -3, -2, -5],\n",
      "       [-1,  1,  0,  0, -3,  7,  2, -2,  1, -3, -2,  2,  0, -4, -1,  0,\n",
      "        -1, -1, -1, -3,  0,  4, -1, -5],\n",
      "       [-1,  0,  0,  2, -3,  2,  6, -3,  0, -4, -3,  1, -2, -3, -1, -1,\n",
      "        -1, -3, -2, -3,  1,  5, -1, -5],\n",
      "       [ 0, -3,  0, -1, -3, -2, -3,  8, -2, -4, -4, -2, -3, -4, -2,  0,\n",
      "        -2, -3, -3, -4, -1, -2, -2, -5],\n",
      "       [-2,  0,  1, -1, -3,  1,  0, -2, 10, -4, -3,  0, -1, -1, -2, -1,\n",
      "        -2, -3,  2, -4,  0,  0, -1, -5],\n",
      "       [-1, -4, -3, -4, -2, -3, -4, -4, -4,  5,  2, -3,  2,  0, -3, -3,\n",
      "        -1, -3, -1,  4, -4, -3, -1, -5],\n",
      "       [-2, -3, -4, -4, -2, -2, -3, -4, -3,  2,  5, -3,  3,  1, -4, -3,\n",
      "        -1, -2, -1,  1, -4, -3, -1, -5],\n",
      "       [-1,  3,  0, -1, -3,  2,  1, -2,  0, -3, -3,  6, -2, -4, -1,  0,\n",
      "        -1, -3, -2, -3,  0,  1, -1, -5],\n",
      "       [-1, -2, -2, -4, -2,  0, -2, -3, -1,  2,  3, -2,  7,  0, -3, -2,\n",
      "        -1, -1,  0,  1, -3, -1, -1, -5],\n",
      "       [-3, -3, -4, -5, -2, -4, -3, -4, -1,  0,  1, -4,  0,  8, -4, -3,\n",
      "        -2,  1,  4, -1, -4, -4, -2, -5],\n",
      "       [-1, -3, -2, -1, -4, -1, -1, -2, -2, -3, -4, -1, -3, -4, 10, -1,\n",
      "        -1, -4, -3, -3, -2, -1, -2, -5],\n",
      "       [ 1, -1,  1,  0, -1,  0, -1,  0, -1, -3, -3,  0, -2, -3, -1,  5,\n",
      "         2, -4, -2, -2,  0,  0, -1, -5],\n",
      "       [ 0, -1,  0, -1, -1, -1, -1, -2, -2, -1, -1, -1, -1, -2, -1,  2,\n",
      "         5, -3, -2,  0,  0, -1,  0, -5],\n",
      "       [-3, -3, -4, -5, -5, -1, -3, -3, -3, -3, -2, -3, -1,  1, -4, -4,\n",
      "        -3, 15,  2, -3, -5, -2, -3, -5],\n",
      "       [-2, -1, -2, -3, -3, -1, -2, -3,  2, -1, -1, -2,  0,  4, -3, -2,\n",
      "        -2,  2,  8, -1, -3, -2, -1, -5],\n",
      "       [ 0, -3, -3, -4, -1, -3, -3, -4, -4,  4,  1, -3,  1, -1, -3, -2,\n",
      "         0, -3, -1,  5, -4, -3, -1, -5],\n",
      "       [-2, -1,  4,  5, -3,  0,  1, -1,  0, -4, -4,  0, -3, -4, -2,  0,\n",
      "         0, -5, -3, -4,  5,  2, -1, -5],\n",
      "       [-1,  0,  0,  1, -3,  4,  5, -2,  0, -3, -3,  1, -1, -4, -1,  0,\n",
      "        -1, -2, -2, -3,  2,  5, -1, -5],\n",
      "       [-1, -1, -1, -1, -2, -1, -1, -2, -1, -1, -1, -1, -1, -2, -2, -1,\n",
      "         0, -3, -1, -1, -1, -1, -1, -5],\n",
      "       [-5, -5, -5, -5, -5, -5, -5, -5, -5, -5, -5, -5, -5, -5, -5, -5,\n",
      "        -5, -5, -5, -5, -5, -5, -5,  1]]), {'A': 0, 'R': 1, 'N': 2, 'D': 3, 'C': 4, 'Q': 5, 'E': 6, 'G': 7, 'H': 8, 'I': 9, 'L': 10, 'K': 11, 'M': 12, 'F': 13, 'P': 14, 'S': 15, 'T': 16, 'W': 17, 'Y': 18, 'V': 19, 'B': 20, 'Z': 21, 'X': 22, '*': 23})\n"
     ]
    }
   ],
   "source": [
    "print(load_sim_matrix(\"BLOSUM50\"))"
   ]
  },
  {
   "cell_type": "code",
   "execution_count": 11,
   "metadata": {},
   "outputs": [
    {
     "name": "stdout",
     "output_type": "stream",
     "text": [
      "(array([[ 0,  1,  1, -6, -2,  8, -7,  4, -6, -1, -1,  4,  1,  2, -1, -8,\n",
      "         7,  7,  4, -8, -1,  8, -1,  9],\n",
      "       [ 1, -1,  1, -4, -5,  3,  2,  3,  1,  0, -7, -2, -9,  8, -7,  2,\n",
      "        -4, -4,  2,  0,  0,  6, -7,  8],\n",
      "       [ 1,  1, -6,  1,  5,  2,  4, -3, -5, -8,  8,  9,  4,  7,  8,  1,\n",
      "        -2, -7,  4,  1,  1,  0,  7,  0],\n",
      "       [-6, -4,  1,  6,  0,  0,  0, -8, -9,  5, -9,  3,  6,  7,  9, -9,\n",
      "         4,  0,  6,  5, -2,  3,  4,  0],\n",
      "       [-2, -5,  5,  0, -2,  2,  1,  2, -2,  2,  0, -6,  3, -1, -7,  3,\n",
      "        -4,  7, -3, -1,  8,  1,  3,  9],\n",
      "       [ 8,  3,  2,  0,  2, -2, -4,  4,  5,  3, -3,  4,  6, -4, -9,  1,\n",
      "         5,  1, -7,  4,  2,  4,  0, -7],\n",
      "       [-7,  2,  4,  0,  1, -4, -6,  5,  9,  0, -1, -4,  3,  5,  3,  6,\n",
      "        -6,  6,  6, -1, -8,  5,  3, -9],\n",
      "       [ 4,  3, -3, -8,  2,  4,  5,  0,  2, -7, -8,  2, -4,  9,  3, -4,\n",
      "         5, -9,  5, -2,  8, -5,  9, -7],\n",
      "       [-6,  1, -5, -9, -2,  5,  9,  2,  7,  5, -4, -8, -4,  3,  8,  0,\n",
      "         1, -7, -1,  0,  1,  1,  1, -4],\n",
      "       [-1,  0, -8,  5,  2,  3,  0, -7,  5, -1,  8,  3,  5, -1,  7, -8,\n",
      "        -6, -7,  2, -1, -7, -4, -3, -9],\n",
      "       [-1, -7,  8, -9,  0, -3, -1, -8, -4,  8,  7, -7,  4, -1, -7,  2,\n",
      "         2,  6,  4,  0, -9, -4,  0, -6],\n",
      "       [ 4, -2,  9,  3, -6,  4, -4,  2, -8,  3, -7, -4, -9,  1, -2,  1,\n",
      "         6,  8, -6,  7,  9, -5,  6,  9],\n",
      "       [ 1, -9,  4,  6,  3,  6,  3, -4, -4,  5,  4, -9,  6, -1,  0,  8,\n",
      "         2, -7,  3, -2, -5, -7, -1, -3],\n",
      "       [ 2,  8,  7,  7, -1, -4,  5,  9,  3, -1, -1,  1, -1, -3,  3,  4,\n",
      "        -1,  9, -3,  8, -5,  7,  1, -3],\n",
      "       [-1, -7,  8,  9, -7, -9,  3,  3,  8,  7, -7, -2,  0,  3,  0,  1,\n",
      "         9,  0,  4,  5,  7, -3,  0, -6],\n",
      "       [-8,  2,  1, -9,  3,  1,  6, -4,  0, -8,  2,  1,  8,  4,  1,  2,\n",
      "        -7,  8, -7,  4,  6,  4, -5,  8],\n",
      "       [ 7, -4, -2,  4, -4,  5, -6,  5,  1, -6,  2,  6,  2, -1,  9, -7,\n",
      "         0,  0,  2, -7, -6, -8, -6, -1],\n",
      "       [ 7, -4, -7,  0,  7,  1,  6, -9, -7, -7,  6,  8, -7,  9,  0,  8,\n",
      "         0,  6, -1, -1, -6,  4, -7,  7],\n",
      "       [ 4,  2,  4,  6, -3, -7,  6,  5, -1,  2,  4, -6,  3, -3,  4, -7,\n",
      "         2, -1, -2,  0, -9,  0,  6,  3],\n",
      "       [-8,  0,  1,  5, -1,  4, -1, -2,  0, -1,  0,  7, -2,  8,  5,  4,\n",
      "        -7, -1,  0,  5,  9,  6,  5, -8],\n",
      "       [-1,  0,  1, -2,  8,  2, -8,  8,  1, -7, -9,  9, -5, -5,  7,  6,\n",
      "        -6, -6, -9,  9, -7, -8,  7, -7],\n",
      "       [ 8,  6,  0,  3,  1,  4,  5, -5,  1, -4, -4, -5, -7,  7, -3,  4,\n",
      "        -8,  4,  0,  6, -8,  4,  1, -8],\n",
      "       [-1, -7,  7,  4,  3,  0,  3,  9,  1, -3,  0,  6, -1,  1,  0, -5,\n",
      "        -6, -7,  6,  5,  7,  1,  8, -4],\n",
      "       [ 9,  8,  0,  0,  9, -7, -9, -7, -4, -9, -6,  9, -3, -3, -6,  8,\n",
      "        -1,  7,  3, -8, -7, -8, -4,  5]]), {'A': 0, 'R': 1, 'N': 2, 'D': 3, 'C': 4, 'Q': 5, 'E': 6, 'G': 7, 'H': 8, 'I': 9, 'L': 10, 'K': 11, 'M': 12, 'F': 13, 'P': 14, 'S': 15, 'T': 16, 'W': 17, 'Y': 18, 'V': 19, 'B': 20, 'Z': 21, 'X': 22, '*': 23})\n"
     ]
    }
   ],
   "source": [
    "print(load_sim_matrix(\"MATIO\"))"
   ]
  },
  {
   "cell_type": "code",
   "execution_count": 12,
   "metadata": {},
   "outputs": [],
   "source": [
    "PAM250, PAM250_index = load_sim_matrix(\"PAM250\")"
   ]
  },
  {
   "cell_type": "code",
   "execution_count": 13,
   "metadata": {},
   "outputs": [
    {
     "name": "stdout",
     "output_type": "stream",
     "text": [
      "{'A': 0, 'R': 1, 'N': 2, 'D': 3, 'C': 4, 'Q': 5, 'E': 6, 'G': 7, 'H': 8, 'I': 9, 'L': 10, 'K': 11, 'M': 12, 'F': 13, 'P': 14, 'S': 15, 'T': 16, 'W': 17, 'Y': 18, 'V': 19, 'B': 20, 'Z': 21, 'X': 22, '*': 23}\n"
     ]
    }
   ],
   "source": [
    "print(similarity_matrix_index)"
   ]
  },
  {
   "cell_type": "code",
   "execution_count": 59,
   "metadata": {},
   "outputs": [],
   "source": [
    "def matrix(a, b, match_score_similarity_matrix, similarity_matrix_index, gap_cost): #could not figure out implementation of elimination cost\n",
    "    H = np.zeros((len(a) + 1, len(b) + 1), np.int)\n",
    "\n",
    "    for i, j in itertools.product(range(1, H.shape[0]), range(1, H.shape[1])):\n",
    "        match = H[i - 1, j - 1] + match_score_similarity_matrix[similarity_matrix_index[a[i-1]], similarity_matrix_index[b[j-1]]]\n",
    "        delete = H[i - 1, j] - gap_cost\n",
    "        insert = H[i, j - 1] - gap_cost\n",
    "        H[i, j] = max(match, delete, insert, 0)\n",
    "    return H"
   ]
  },
  {
   "cell_type": "code",
   "execution_count": 64,
   "metadata": {},
   "outputs": [
    {
     "data": {
      "text/plain": [
       "array([[ 0,  0,  0,  0],\n",
       "       [ 0,  5,  3,  1],\n",
       "       [ 0,  3, 12, 10],\n",
       "       [ 0,  1, 10, 19]])"
      ]
     },
     "execution_count": 64,
     "metadata": {},
     "output_type": "execute_result"
    }
   ],
   "source": [
    "matrix('ARN','ARN',BLOSUM50, BLOSUM50_i, 2)"
   ]
  },
  {
   "cell_type": "code",
   "execution_count": 17,
   "metadata": {
    "scrolled": false
   },
   "outputs": [
    {
     "name": "stdout",
     "output_type": "stream",
     "text": [
      "[[  0   0   0 ...   0   0   0]\n",
      " [  0   1   1 ...   0   1   0]\n",
      " [  0   0   0 ...   2   0   0]\n",
      " ...\n",
      " [  0   0   0 ... 180 182 183]\n",
      " [  0   0   2 ... 178 182 181]\n",
      " [  0   0   0 ... 178 180 180]]\n"
     ]
    }
   ],
   "source": [
    "score_matrix = matrix(seq_1, seq_2, BLOSUM50, similarity_matrix_index)\n",
    "print(score_matrix)"
   ]
  },
  {
   "cell_type": "code",
   "execution_count": null,
   "metadata": {},
   "outputs": [],
   "source": [
    "score_matrix = matrix(seq_1, seq_2, PAM250, PAM250_index)\n",
    "print(score_matrix)"
   ]
  },
  {
   "cell_type": "code",
   "execution_count": null,
   "metadata": {
    "scrolled": false
   },
   "outputs": [],
   "source": [
    "score_matrix"
   ]
  },
  {
   "cell_type": "code",
   "execution_count": null,
   "metadata": {},
   "outputs": [],
   "source": [
    "# #loading in scoring matrix\n",
    "# file_path = '/Users/SiSi/Documents/GitHub/BMI-203-HW3/BLOSUM50'\n",
    "# BLOSUM50 = np.fromfile(file_path, dtype=int, sep=\" \")#, dtype=float, count=-1, sep='', offset=0)\n",
    "# with open ('/Users/SiSi/Documents/GitHub/BMI-203-HW3/sequences/prot-0004.fa', \"r\") as file:\n",
    "#     seq=file.read()\n",
    "#     seq = seq[seq.find(\"\\n\")+1:].replace('\\n', '')\n"
   ]
  },
  {
   "cell_type": "code",
   "execution_count": 19,
   "metadata": {},
   "outputs": [],
   "source": [
    "def traceback(H, b, b_='', old_i=0):\n",
    "    maximum = H.max()\n",
    "    # flip H to get index of **last** occurrence of H.max() with np.argmax()\n",
    "    H_flip = np.flip(np.flip(H, 0), 1)\n",
    "    i_, j_ = np.unravel_index(H_flip.argmax(), H_flip.shape)\n",
    "    i, j = np.subtract(H.shape, (i_ + 1, j_ + 1))  # (i, j) are **last** indexes of H.max()\n",
    "    if H[i, j] == 0: #terminating condition\n",
    "        return b_, j\n",
    "    b_ = b[j - 1] + '-' + b_ if old_i - i > 1 else b[j - 1] + b_ #True: add gap to sequence; otherwise, add AA\n",
    "    return traceback(H[0:i, 0:j], b, b_, i)"
   ]
  },
  {
   "cell_type": "code",
   "execution_count": null,
   "metadata": {},
   "outputs": [],
   "source": [
    "traceback(score_matrix, seq_2)"
   ]
  },
  {
   "cell_type": "code",
   "execution_count": 20,
   "metadata": {},
   "outputs": [],
   "source": [
    "def score(H):\n",
    "    return H.max()"
   ]
  },
  {
   "cell_type": "code",
   "execution_count": null,
   "metadata": {},
   "outputs": [],
   "source": [
    "score(score_matrix)"
   ]
  },
  {
   "cell_type": "code",
   "execution_count": null,
   "metadata": {},
   "outputs": [],
   "source": [
    "s.strip()"
   ]
  },
  {
   "cell_type": "code",
   "execution_count": null,
   "metadata": {},
   "outputs": [],
   "source": [
    "for f in neg_pairs_filelist:\n",
    "    a, b = return_sequences(*f)\n",
    "    "
   ]
  },
  {
   "cell_type": "code",
   "execution_count": 25,
   "metadata": {},
   "outputs": [],
   "source": [
    "def return_sequences(sequence_a_path, sequence_b_path):\n",
    "    with open (sequence_a_path, \"r\") as file:\n",
    "        a = file.read()\n",
    "        a = a[a.find(\"\\n\")+1:].replace('\\n', '')\n",
    "    with open (sequence_b_path, \"r\") as file:\n",
    "        b = file.read()\n",
    "        b = b[b.find(\"\\n\")+1:].replace('\\n', '')\n",
    "    return a, b"
   ]
  },
  {
   "cell_type": "code",
   "execution_count": null,
   "metadata": {},
   "outputs": [],
   "source": [
    "a, b = return_sequences(*neg_pairs_filelist[0])"
   ]
  },
  {
   "cell_type": "code",
   "execution_count": null,
   "metadata": {},
   "outputs": [],
   "source": [
    "print(a)\n",
    "print(b)"
   ]
  },
  {
   "cell_type": "code",
   "execution_count": null,
   "metadata": {},
   "outputs": [],
   "source": []
  },
  {
   "cell_type": "markdown",
   "metadata": {},
   "source": [
    "Here I am doing the ROC stuff after implementing S-WM above."
   ]
  },
  {
   "cell_type": "code",
   "execution_count": 29,
   "metadata": {},
   "outputs": [],
   "source": [
    "BLOSUM50, BLOSUM50_i = load_sim_matrix('BLOSUM50')"
   ]
  },
  {
   "cell_type": "code",
   "execution_count": 30,
   "metadata": {},
   "outputs": [],
   "source": [
    "neg_pairs_filelist = []\n",
    "with open('./Negpairs.txt', mode='r') as my_file:\n",
    "    for line in my_file:\n",
    "        neg_pairs_filelist.append(line.strip().split(' '))"
   ]
  },
  {
   "cell_type": "code",
   "execution_count": 31,
   "metadata": {
    "scrolled": false
   },
   "outputs": [],
   "source": [
    "neg_pairs_scores = []\n",
    "for f in neg_pairs_filelist:\n",
    "    #print(f)\n",
    "    a, b = return_sequences(*f)\n",
    "    score_matrix = matrix(a, b, BLOSUM50, BLOSUM50_i, gap_cost=2)\n",
    "    neg_pairs_scores.append(score(score_matrix))"
   ]
  },
  {
   "cell_type": "code",
   "execution_count": 33,
   "metadata": {},
   "outputs": [
    {
     "data": {
      "text/plain": [
       "[118,\n",
       " 100,\n",
       " 64,\n",
       " 221,\n",
       " 106,\n",
       " 128,\n",
       " 228,\n",
       " 49,\n",
       " 117,\n",
       " 55,\n",
       " 225,\n",
       " 71,\n",
       " 136,\n",
       " 260,\n",
       " 162,\n",
       " 161,\n",
       " 117,\n",
       " 80,\n",
       " 59,\n",
       " 305,\n",
       " 320,\n",
       " 112,\n",
       " 113,\n",
       " 276,\n",
       " 284,\n",
       " 112,\n",
       " 198,\n",
       " 208,\n",
       " 319,\n",
       " 135,\n",
       " 369,\n",
       " 219,\n",
       " 168,\n",
       " 146,\n",
       " 103,\n",
       " 120,\n",
       " 72,\n",
       " 179,\n",
       " 127,\n",
       " 90,\n",
       " 55,\n",
       " 77,\n",
       " 221,\n",
       " 190,\n",
       " 313,\n",
       " 90,\n",
       " 86,\n",
       " 41,\n",
       " 71,\n",
       " 140]"
      ]
     },
     "execution_count": 33,
     "metadata": {},
     "output_type": "execute_result"
    }
   ],
   "source": [
    "neg_pairs_scores"
   ]
  },
  {
   "cell_type": "code",
   "execution_count": 34,
   "metadata": {},
   "outputs": [],
   "source": [
    "pos_pairs_filelist = []\n",
    "with open('./Pospairs.txt', mode='r') as my_file:\n",
    "    for line in my_file:\n",
    "        pos_pairs_filelist.append(line.strip().split(' '))"
   ]
  },
  {
   "cell_type": "code",
   "execution_count": 56,
   "metadata": {},
   "outputs": [],
   "source": [
    "pos_pairs_scores = []\n",
    "for f in pos_pairs_filelist:\n",
    "    #print(f)\n",
    "    a, b = return_sequences(*f)\n",
    "    score_matrix = matrix(a, b, BLOSUM50, BLOSUM50_i, gap_cost=2)\n",
    "    pos_pairs_scores.append(score(score_matrix))\n",
    "pos_pairs_scores = np.array(pos_pairs_scores)"
   ]
  },
  {
   "cell_type": "code",
   "execution_count": 57,
   "metadata": {},
   "outputs": [],
   "source": [
    "def return_threshold(pos_pairs_scores):\n",
    "    threshold = np.sort(pos_pairs_scores)[15]\n",
    "    return threshold"
   ]
  },
  {
   "cell_type": "code",
   "execution_count": 58,
   "metadata": {},
   "outputs": [
    {
     "data": {
      "text/plain": [
       "174"
      ]
     },
     "execution_count": 58,
     "metadata": {},
     "output_type": "execute_result"
    }
   ],
   "source": [
    "t = return_threshold(pos_pairs_scores)\n",
    "t"
   ]
  },
  {
   "cell_type": "code",
   "execution_count": 53,
   "metadata": {},
   "outputs": [
    {
     "data": {
      "text/plain": [
       "174"
      ]
     },
     "execution_count": 53,
     "metadata": {},
     "output_type": "execute_result"
    }
   ],
   "source": [
    "sorted_pos_pairs = np.sort(np.array(pos_pairs_scores))\n",
    "sorted_pos_pairs[15]"
   ]
  },
  {
   "cell_type": "code",
   "execution_count": 55,
   "metadata": {},
   "outputs": [
    {
     "data": {
      "text/plain": [
       "0.7"
      ]
     },
     "execution_count": 55,
     "metadata": {},
     "output_type": "execute_result"
    }
   ],
   "source": [
    "t = 174\n",
    "(np.array(pos_pairs_scores) >= t).mean()"
   ]
  },
  {
   "cell_type": "code",
   "execution_count": 52,
   "metadata": {},
   "outputs": [
    {
     "data": {
      "text/plain": [
       "50"
      ]
     },
     "execution_count": 52,
     "metadata": {},
     "output_type": "execute_result"
    }
   ],
   "source": [
    "len(pos_pairs_scores)"
   ]
  },
  {
   "cell_type": "code",
   "execution_count": 43,
   "metadata": {},
   "outputs": [
    {
     "data": {
      "text/plain": [
       "0.34"
      ]
     },
     "execution_count": 43,
     "metadata": {},
     "output_type": "execute_result"
    }
   ],
   "source": [
    "(np.array(neg_pairs_scores) > t).mean()"
   ]
  },
  {
   "cell_type": "code",
   "execution_count": 36,
   "metadata": {},
   "outputs": [
    {
     "data": {
      "text/plain": [
       "[184,\n",
       " 172,\n",
       " 173,\n",
       " 167,\n",
       " 246,\n",
       " 72,\n",
       " 434,\n",
       " 118,\n",
       " 145,\n",
       " 117,\n",
       " 157,\n",
       " 153,\n",
       " 323,\n",
       " 209,\n",
       " 199,\n",
       " 233,\n",
       " 180,\n",
       " 461,\n",
       " 341,\n",
       " 452,\n",
       " 463,\n",
       " 324,\n",
       " 271,\n",
       " 255,\n",
       " 167,\n",
       " 234,\n",
       " 404,\n",
       " 277,\n",
       " 223,\n",
       " 200,\n",
       " 233,\n",
       " 246,\n",
       " 217,\n",
       " 285,\n",
       " 359,\n",
       " 188,\n",
       " 385,\n",
       " 238,\n",
       " 240,\n",
       " 174,\n",
       " 154,\n",
       " 161,\n",
       " 153,\n",
       " 301,\n",
       " 278,\n",
       " 191,\n",
       " 458,\n",
       " 435,\n",
       " 125,\n",
       " 108]"
      ]
     },
     "execution_count": 36,
     "metadata": {},
     "output_type": "execute_result"
    }
   ],
   "source": [
    "pos_pairs_scores"
   ]
  },
  {
   "cell_type": "markdown",
   "metadata": {},
   "source": [
    "https://web.stanford.edu/class/cs262/presentations/lecture2.pdf\n",
    "https://github.com/applied-bioinformatics/An-Introduction-To-Applied-Bioinformatics/blob/master/book/fundamentals/pairwise-alignment.md"
   ]
  }
 ],
 "metadata": {
  "kernelspec": {
   "display_name": "Python 3",
   "language": "python",
   "name": "python3"
  },
  "language_info": {
   "codemirror_mode": {
    "name": "ipython",
    "version": 3
   },
   "file_extension": ".py",
   "mimetype": "text/x-python",
   "name": "python",
   "nbconvert_exporter": "python",
   "pygments_lexer": "ipython3",
   "version": "3.6.8"
  }
 },
 "nbformat": 4,
 "nbformat_minor": 2
}
