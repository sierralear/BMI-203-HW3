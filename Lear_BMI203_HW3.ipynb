{
 "cells": [
  {
   "cell_type": "code",
   "execution_count": 163,
   "metadata": {},
   "outputs": [],
   "source": [
    "import itertools\n",
    "import numpy as np\n",
    "import os\n",
    "import seaborn as sns\n",
    "import matplotlib.pyplot as plt"
   ]
  },
  {
   "cell_type": "code",
   "execution_count": 2,
   "metadata": {},
   "outputs": [
    {
     "name": "stdout",
     "output_type": "stream",
     "text": [
      "[[ 5 -2 -1 -2 -1 -1 -1  0 -2 -1 -2 -1 -1 -3 -1  1  0 -3 -2  0 -2 -1 -1 -5]\n",
      " [-2  7 -1 -2 -4  1  0 -3  0 -4 -3  3 -2 -3 -3 -1 -1 -3 -1 -3 -1  0 -1 -5]\n",
      " [-1 -1  7  2 -2  0  0  0  1 -3 -4  0 -2 -4 -2  1  0 -4 -2 -3  4  0 -1 -5]\n",
      " [-2 -2  2  8 -4  0  2 -1 -1 -4 -4 -1 -4 -5 -1  0 -1 -5 -3 -4  5  1 -1 -5]\n",
      " [-1 -4 -2 -4 13 -3 -3 -3 -3 -2 -2 -3 -2 -2 -4 -1 -1 -5 -3 -1 -3 -3 -2 -5]\n",
      " [-1  1  0  0 -3  7  2 -2  1 -3 -2  2  0 -4 -1  0 -1 -1 -1 -3  0  4 -1 -5]\n",
      " [-1  0  0  2 -3  2  6 -3  0 -4 -3  1 -2 -3 -1 -1 -1 -3 -2 -3  1  5 -1 -5]\n",
      " [ 0 -3  0 -1 -3 -2 -3  8 -2 -4 -4 -2 -3 -4 -2  0 -2 -3 -3 -4 -1 -2 -2 -5]\n",
      " [-2  0  1 -1 -3  1  0 -2 10 -4 -3  0 -1 -1 -2 -1 -2 -3  2 -4  0  0 -1 -5]\n",
      " [-1 -4 -3 -4 -2 -3 -4 -4 -4  5  2 -3  2  0 -3 -3 -1 -3 -1  4 -4 -3 -1 -5]\n",
      " [-2 -3 -4 -4 -2 -2 -3 -4 -3  2  5 -3  3  1 -4 -3 -1 -2 -1  1 -4 -3 -1 -5]\n",
      " [-1  3  0 -1 -3  2  1 -2  0 -3 -3  6 -2 -4 -1  0 -1 -3 -2 -3  0  1 -1 -5]\n",
      " [-1 -2 -2 -4 -2  0 -2 -3 -1  2  3 -2  7  0 -3 -2 -1 -1  0  1 -3 -1 -1 -5]\n",
      " [-3 -3 -4 -5 -2 -4 -3 -4 -1  0  1 -4  0  8 -4 -3 -2  1  4 -1 -4 -4 -2 -5]\n",
      " [-1 -3 -2 -1 -4 -1 -1 -2 -2 -3 -4 -1 -3 -4 10 -1 -1 -4 -3 -3 -2 -1 -2 -5]\n",
      " [ 1 -1  1  0 -1  0 -1  0 -1 -3 -3  0 -2 -3 -1  5  2 -4 -2 -2  0  0 -1 -5]\n",
      " [ 0 -1  0 -1 -1 -1 -1 -2 -2 -1 -1 -1 -1 -2 -1  2  5 -3 -2  0  0 -1  0 -5]\n",
      " [-3 -3 -4 -5 -5 -1 -3 -3 -3 -3 -2 -3 -1  1 -4 -4 -3 15  2 -3 -5 -2 -3 -5]\n",
      " [-2 -1 -2 -3 -3 -1 -2 -3  2 -1 -1 -2  0  4 -3 -2 -2  2  8 -1 -3 -2 -1 -5]\n",
      " [ 0 -3 -3 -4 -1 -3 -3 -4 -4  4  1 -3  1 -1 -3 -2  0 -3 -1  5 -4 -3 -1 -5]\n",
      " [-2 -1  4  5 -3  0  1 -1  0 -4 -4  0 -3 -4 -2  0  0 -5 -3 -4  5  2 -1 -5]\n",
      " [-1  0  0  1 -3  4  5 -2  0 -3 -3  1 -1 -4 -1  0 -1 -2 -2 -3  2  5 -1 -5]\n",
      " [-1 -1 -1 -1 -2 -1 -1 -2 -1 -1 -1 -1 -1 -2 -2 -1  0 -3 -1 -1 -1 -1 -1 -5]\n",
      " [-5 -5 -5 -5 -5 -5 -5 -5 -5 -5 -5 -5 -5 -5 -5 -5 -5 -5 -5 -5 -5 -5 -5  1]]\n"
     ]
    }
   ],
   "source": [
    "file_path = '/Users/SiSi/Documents/GitHub/BMI-203-HW3/BLOSUM50'\n",
    "BLOSUM50 = np.loadtxt(file_path, dtype=int, comments='#', skiprows=7)#, delimiter=' \\n', ndmin = 2)\n",
    "print(BLOSUM50)"
   ]
  },
  {
   "cell_type": "code",
   "execution_count": 3,
   "metadata": {},
   "outputs": [
    {
     "name": "stdout",
     "output_type": "stream",
     "text": [
      "SLEAAQKSNVTSSWAKASAAWGTAGPEFFMALFDAHDDVFAKFSGLFSGAAKGTVKNTPEMAAQAQSFKGLVSNWVDNLDNAGALEGQCKTFAANHKARGISAGQLEAAFKVLSGFMKSYGGDEGAWTAVAGALMGEIEPDM\n"
     ]
    }
   ],
   "source": [
    "sequence_path = '/Users/SiSi/Documents/GitHub/BMI-203-HW3/sequences/prot-0004.fa'\n",
    "with open (sequence_path, \"r\") as file:\n",
    "    seq_1=file.read()\n",
    "    seq_1 = seq_1[seq_1.find(\"\\n\")+1:].replace('\\n', '')\n",
    "print(seq_1)"
   ]
  },
  {
   "cell_type": "code",
   "execution_count": 4,
   "metadata": {},
   "outputs": [
    {
     "name": "stdout",
     "output_type": "stream",
     "text": [
      "ANKTRELCMKSLEHAKVDTSNEARQDGIDLYKHMFENYPPLRKYFKSREEYTAEDVQNDPFFAKQGQKILLACHVLCATYDDRETFNAYTRELLDRHARDHVHMPPEVWTDFWKLFEEYLGKKTTLDEPTKQAWHEIGREFAKEINK\n"
     ]
    }
   ],
   "source": [
    "sequence_path = '/Users/SiSi/Documents/GitHub/BMI-203-HW3/sequences/prot-0008.fa'\n",
    "with open (sequence_path, \"r\") as file:\n",
    "    seq_2=file.read()\n",
    "    seq_2 = seq_2[seq_2.find(\"\\n\")+1:].replace('\\n', '')\n",
    "print(seq_2)"
   ]
  },
  {
   "cell_type": "code",
   "execution_count": 5,
   "metadata": {},
   "outputs": [
    {
     "name": "stdout",
     "output_type": "stream",
     "text": [
      "142\n",
      "147\n",
      "(24, 24)\n"
     ]
    }
   ],
   "source": [
    "print(len(seq_1))\n",
    "print(len(seq_2))\n",
    "print(BLOSUM50.shape)"
   ]
  },
  {
   "cell_type": "code",
   "execution_count": null,
   "metadata": {},
   "outputs": [],
   "source": [
    "# AA_list = [\"A\", \"R\", \"N\", \"D\", \"C\", \"Q\", \"E\", \"G\", \"H\", \"I\", \"L\", \"K\", \n",
    "#            \"M\", \"F\", \"P\", \"S\", \"T\", \"W\", \"Y\", \"V\", \"B\", \"Z\", \"X\", \"x\"]\n",
    "\n",
    "# similarity_matrix_index = {}\n",
    "# for i, aa in enumerate(AA_list):\n",
    "#     similarity_matrix_index[aa] = i\n"
   ]
  },
  {
   "cell_type": "code",
   "execution_count": 6,
   "metadata": {},
   "outputs": [],
   "source": [
    "def load_sim_matrix(name):\n",
    "    pathway = os.path.join('.', name) #on Github, needs to be changed to '..'\n",
    "    if name == 'BLOSUM50' or name == 'BLOSUM62':\n",
    "        sim_matrix = np.loadtxt(os.path.abspath(pathway), dtype=int, comments='#', skiprows=7)\n",
    "    elif name == 'MATIO':\n",
    "        sim_matrix = np.loadtxt(os.path.abspath(pathway), dtype=int, comments='#', skiprows=3)\n",
    "    else:\n",
    "        sim_matrix = np.loadtxt(os.path.abspath(pathway), dtype=int, comments='#', skiprows=10)\n",
    "        \n",
    "    AA_list = [\"A\", \"R\", \"N\", \"D\", \"C\", \"Q\", \"E\", \"G\", \"H\", \"I\", \"L\", \"K\", \n",
    "           \"M\", \"F\", \"P\", \"S\", \"T\", \"W\", \"Y\", \"V\", \"B\", \"Z\", \"X\", \"x\"]\n",
    "    similarity_matrix_index = {}\n",
    "    for i, aa in enumerate(AA_list):\n",
    "        similarity_matrix_index[aa] = i\n",
    "    \n",
    "    return sim_matrix, similarity_matrix_index\n",
    "    "
   ]
  },
  {
   "cell_type": "code",
   "execution_count": 14,
   "metadata": {},
   "outputs": [],
   "source": [
    "BLOSUM50, BLOSUM50_i = load_sim_matrix(\"BLOSUM50\")"
   ]
  },
  {
   "cell_type": "code",
   "execution_count": null,
   "metadata": {},
   "outputs": [],
   "source": [
    "print(load_sim_matrix(\"MATIO\"))"
   ]
  },
  {
   "cell_type": "code",
   "execution_count": 7,
   "metadata": {},
   "outputs": [],
   "source": [
    "PAM250, PAM250_index = load_sim_matrix(\"PAM250\")"
   ]
  },
  {
   "cell_type": "code",
   "execution_count": 10,
   "metadata": {},
   "outputs": [],
   "source": [
    "def matrix(a, b, match_score_similarity_matrix, similarity_matrix_index, gap_cost): #could not figure out implementation of elimination cost\n",
    "    H = np.zeros((len(a) + 1, len(b) + 1), np.int)\n",
    "\n",
    "    for i, j in itertools.product(range(1, H.shape[0]), range(1, H.shape[1])):\n",
    "        match = H[i - 1, j - 1] + match_score_similarity_matrix[similarity_matrix_index[a[i-1]], similarity_matrix_index[b[j-1]]]\n",
    "        delete = H[i - 1, j] - gap_cost\n",
    "        insert = H[i, j - 1] - gap_cost\n",
    "        H[i, j] = max(match, delete, insert, 0)\n",
    "    return H"
   ]
  },
  {
   "cell_type": "code",
   "execution_count": 15,
   "metadata": {},
   "outputs": [
    {
     "data": {
      "text/plain": [
       "array([[ 0,  0,  0,  0],\n",
       "       [ 0,  5,  3,  1],\n",
       "       [ 0,  3, 12, 10],\n",
       "       [ 0,  1, 10, 19]])"
      ]
     },
     "execution_count": 15,
     "metadata": {},
     "output_type": "execute_result"
    }
   ],
   "source": [
    "matrix('ARN','ARN',BLOSUM50, BLOSUM50_i, 2)"
   ]
  },
  {
   "cell_type": "code",
   "execution_count": 18,
   "metadata": {
    "scrolled": false
   },
   "outputs": [
    {
     "name": "stdout",
     "output_type": "stream",
     "text": [
      "[[  0   0   0 ...   0   0   0]\n",
      " [  0   1   1 ...   0   1   0]\n",
      " [  0   0   0 ...   2   0   0]\n",
      " ...\n",
      " [  0   0   0 ... 180 182 183]\n",
      " [  0   0   2 ... 178 182 181]\n",
      " [  0   0   0 ... 178 180 180]]\n"
     ]
    }
   ],
   "source": [
    "score_matrix = matrix(seq_1, seq_2, BLOSUM50, BLOSUM50_i, 2)\n",
    "print(score_matrix)"
   ]
  },
  {
   "cell_type": "code",
   "execution_count": 19,
   "metadata": {},
   "outputs": [
    {
     "name": "stdout",
     "output_type": "stream",
     "text": [
      "[[  0   0   0 ...   0   0   0]\n",
      " [  0   1   1 ...   0   1   0]\n",
      " [  0   0   0 ...   2   0   0]\n",
      " ...\n",
      " [  0   1   0 ... 152 155 156]\n",
      " [  0   0   3 ... 150 154 155]\n",
      " [  0   0   1 ... 153 152 154]]\n"
     ]
    }
   ],
   "source": [
    "score_matrix = matrix(seq_1, seq_2, PAM250, PAM250_index, 2)\n",
    "print(score_matrix)"
   ]
  },
  {
   "cell_type": "code",
   "execution_count": 21,
   "metadata": {},
   "outputs": [],
   "source": [
    "def traceback(H, b, b_='', old_i=0):\n",
    "    maximum = H.max()\n",
    "    # flip H to get index of **last** occurrence of H.max() with np.argmax()\n",
    "    H_flip = np.flip(np.flip(H, 0), 1)\n",
    "    i_, j_ = np.unravel_index(H_flip.argmax(), H_flip.shape)\n",
    "    i, j = np.subtract(H.shape, (i_ + 1, j_ + 1))  # (i, j) are **last** indexes of H.max()\n",
    "    if H[i, j] == 0: #terminating condition\n",
    "        return b_, j\n",
    "    b_ = b[j - 1] + '-' + b_ if old_i - i > 1 else b[j - 1] + b_ #True: add gap to sequence; otherwise, add AA\n",
    "    return traceback(H[0:i, 0:j], b, b_, i)"
   ]
  },
  {
   "cell_type": "code",
   "execution_count": 190,
   "metadata": {},
   "outputs": [],
   "source": [
    "string, number = traceback(score_matrix, seq_2)"
   ]
  },
  {
   "cell_type": "code",
   "execution_count": 191,
   "metadata": {},
   "outputs": [
    {
     "data": {
      "text/plain": [
       "29"
      ]
     },
     "execution_count": 191,
     "metadata": {},
     "output_type": "execute_result"
    }
   ],
   "source": [
    "len(string)"
   ]
  },
  {
   "cell_type": "code",
   "execution_count": 23,
   "metadata": {},
   "outputs": [],
   "source": [
    "def score(H):\n",
    "    return H.max()"
   ]
  },
  {
   "cell_type": "code",
   "execution_count": 24,
   "metadata": {},
   "outputs": [
    {
     "data": {
      "text/plain": [
       "157"
      ]
     },
     "execution_count": 24,
     "metadata": {},
     "output_type": "execute_result"
    }
   ],
   "source": [
    "score(score_matrix)"
   ]
  },
  {
   "cell_type": "code",
   "execution_count": null,
   "metadata": {},
   "outputs": [],
   "source": [
    "s.strip()"
   ]
  },
  {
   "cell_type": "code",
   "execution_count": null,
   "metadata": {},
   "outputs": [],
   "source": [
    "for f in neg_pairs_filelist:\n",
    "    a, b = return_sequences(*f)\n",
    "    "
   ]
  },
  {
   "cell_type": "code",
   "execution_count": null,
   "metadata": {},
   "outputs": [],
   "source": []
  },
  {
   "cell_type": "markdown",
   "metadata": {},
   "source": [
    "Here I am doing the ROC stuff after implementing S-WM above."
   ]
  },
  {
   "cell_type": "code",
   "execution_count": 25,
   "metadata": {},
   "outputs": [],
   "source": [
    "def return_sequences(sequence_a_path, sequence_b_path):\n",
    "    with open (sequence_a_path, \"r\") as file:\n",
    "        a = file.read()\n",
    "        a = a[a.find(\"\\n\")+1:].replace('\\n', '')\n",
    "    with open (sequence_b_path, \"r\") as file:\n",
    "        b = file.read()\n",
    "        b = b[b.find(\"\\n\")+1:].replace('\\n', '')\n",
    "    return a, b"
   ]
  },
  {
   "cell_type": "code",
   "execution_count": 27,
   "metadata": {},
   "outputs": [],
   "source": [
    "BLOSUM50, BLOSUM50_i = load_sim_matrix('BLOSUM50')"
   ]
  },
  {
   "cell_type": "code",
   "execution_count": 28,
   "metadata": {},
   "outputs": [],
   "source": [
    "neg_pairs_filelist = []\n",
    "with open('./Negpairs.txt', mode='r') as my_file:\n",
    "    for line in my_file:\n",
    "        neg_pairs_filelist.append(line.strip().split(' '))"
   ]
  },
  {
   "cell_type": "code",
   "execution_count": 29,
   "metadata": {},
   "outputs": [],
   "source": [
    "a, b = return_sequences(*neg_pairs_filelist[0])"
   ]
  },
  {
   "cell_type": "code",
   "execution_count": 30,
   "metadata": {},
   "outputs": [
    {
     "name": "stdout",
     "output_type": "stream",
     "text": [
      "SQAEFDKAAEEVKHLKTKPADEEMLFIYSHYKQATVGDINTERPGMLDFKGKAKWDAWNELKGTSKEDAMKAYIDKVEELKKKYGI\n",
      "AVSLDRTRAVFDGSEKSMTLDISNDNKQLPYLAQAWIENENQEKIITGPVIATPPVQRLDPGAKSMVRLSTTPDISKLPQDRESLFYFNLREIPPRSEKANVLQIALQTKIKLFYRPAA\n"
     ]
    }
   ],
   "source": [
    "print(a)\n",
    "print(b)"
   ]
  },
  {
   "cell_type": "code",
   "execution_count": 31,
   "metadata": {
    "scrolled": false
   },
   "outputs": [],
   "source": [
    "neg_pairs_scores = []\n",
    "for f in neg_pairs_filelist:\n",
    "    #print(f)\n",
    "    a, b = return_sequences(*f)\n",
    "    score_matrix = matrix(a, b, BLOSUM50, BLOSUM50_i, gap_cost=2)\n",
    "    neg_pairs_scores.append(score(score_matrix))"
   ]
  },
  {
   "cell_type": "code",
   "execution_count": 32,
   "metadata": {},
   "outputs": [
    {
     "data": {
      "text/plain": [
       "[118,\n",
       " 100,\n",
       " 64,\n",
       " 221,\n",
       " 106,\n",
       " 128,\n",
       " 228,\n",
       " 49,\n",
       " 117,\n",
       " 55,\n",
       " 225,\n",
       " 71,\n",
       " 136,\n",
       " 260,\n",
       " 162,\n",
       " 161,\n",
       " 117,\n",
       " 80,\n",
       " 59,\n",
       " 305,\n",
       " 320,\n",
       " 112,\n",
       " 113,\n",
       " 276,\n",
       " 284,\n",
       " 112,\n",
       " 198,\n",
       " 208,\n",
       " 319,\n",
       " 135,\n",
       " 369,\n",
       " 219,\n",
       " 168,\n",
       " 146,\n",
       " 103,\n",
       " 120,\n",
       " 72,\n",
       " 179,\n",
       " 127,\n",
       " 90,\n",
       " 55,\n",
       " 77,\n",
       " 221,\n",
       " 190,\n",
       " 313,\n",
       " 90,\n",
       " 86,\n",
       " 41,\n",
       " 71,\n",
       " 140]"
      ]
     },
     "execution_count": 32,
     "metadata": {},
     "output_type": "execute_result"
    }
   ],
   "source": [
    "neg_pairs_scores"
   ]
  },
  {
   "cell_type": "code",
   "execution_count": 33,
   "metadata": {},
   "outputs": [],
   "source": [
    "pos_pairs_filelist = []\n",
    "with open('./Pospairs.txt', mode='r') as my_file:\n",
    "    for line in my_file:\n",
    "        pos_pairs_filelist.append(line.strip().split(' '))"
   ]
  },
  {
   "cell_type": "code",
   "execution_count": 104,
   "metadata": {},
   "outputs": [
    {
     "name": "stdout",
     "output_type": "stream",
     "text": [
      "[ 77  89  77 112 118  41 160  50  57  61  84  70 134  91 144  90  81 167\n",
      " 105 150 151 120 115 117 117  69 137 113  73  70  90 103 100 103 121  74\n",
      " 106  93  93  51  61  71  61 154 196  84 146 389  92  85]\n"
     ]
    }
   ],
   "source": [
    "pos_pairs_scores = []\n",
    "for f in pos_pairs_filelist:\n",
    "    a, b = return_sequences(*f)\n",
    "    score_matrix = matrix(a, b, BLOSUM50, BLOSUM50_i, gap_cost=5)\n",
    "    pos_pairs_scores.append(score(score_matrix))\n",
    "pos_pairs_scores = np.array(pos_pairs_scores)\n",
    "print(pos_pairs_scores)"
   ]
  },
  {
   "cell_type": "code",
   "execution_count": 150,
   "metadata": {},
   "outputs": [],
   "source": [
    "def return_threshold(similarity_matrix, gap_cost, goal_TPR):\n",
    "    pos_pairs_scores = []\n",
    "    for f in pos_pairs_filelist:\n",
    "        a, b = return_sequences(*f)\n",
    "        score_matrix = matrix(a, b, similarity_matrix, BLOSUM50_i, gap_cost)\n",
    "        pos_pairs_scores.append(score(score_matrix))\n",
    "    pos_pairs_scores = np.array(pos_pairs_scores)\n",
    "    threshold = np.sort(pos_pairs_scores)[int(49 * (1 - goal_TPR))]\n",
    "    return threshold"
   ]
  },
  {
   "cell_type": "code",
   "execution_count": 153,
   "metadata": {},
   "outputs": [
    {
     "data": {
      "text/plain": [
       "77"
      ]
     },
     "execution_count": 153,
     "metadata": {},
     "output_type": "execute_result"
    }
   ],
   "source": [
    "t = return_threshold(BLOSUM50, 5, 0.7)\n",
    "t"
   ]
  },
  {
   "cell_type": "code",
   "execution_count": 154,
   "metadata": {},
   "outputs": [
    {
     "data": {
      "text/plain": [
       "0.7"
      ]
     },
     "execution_count": 154,
     "metadata": {},
     "output_type": "execute_result"
    }
   ],
   "source": [
    "#checking I do get a TPR of 0.7\n",
    "(np.array(pos_pairs_scores) > t).mean()"
   ]
  },
  {
   "cell_type": "code",
   "execution_count": 106,
   "metadata": {},
   "outputs": [
    {
     "data": {
      "text/plain": [
       "0.3"
      ]
     },
     "execution_count": 106,
     "metadata": {},
     "output_type": "execute_result"
    }
   ],
   "source": [
    "find_FPR(t, BLOSUM50, 5)"
   ]
  },
  {
   "cell_type": "code",
   "execution_count": 94,
   "metadata": {},
   "outputs": [
    {
     "data": {
      "text/plain": [
       "0.4"
      ]
     },
     "execution_count": 94,
     "metadata": {},
     "output_type": "execute_result"
    }
   ],
   "source": [
    "t = return_threshold(BLOSUM50, 2, 0.4)\n",
    "(np.array(pos_pairs_scores) > t).mean()"
   ]
  },
  {
   "cell_type": "code",
   "execution_count": 110,
   "metadata": {},
   "outputs": [],
   "source": [
    "def find_FPR(threshold, similarity_matrix, gap_cost):\n",
    "    neg_pairs_scores = []\n",
    "    for f in neg_pairs_filelist:\n",
    "        a, b = return_sequences(*f)\n",
    "        score_matrix = matrix(a, b, similarity_matrix, BLOSUM50_i, gap_cost) #note all similarity matrix indices are the same\n",
    "        neg_pairs_scores.append(score(score_matrix))\n",
    "    FPR = (np.array(neg_pairs_scores) > threshold).mean()\n",
    "    return FPR\n",
    "    "
   ]
  },
  {
   "cell_type": "code",
   "execution_count": 111,
   "metadata": {},
   "outputs": [
    {
     "name": "stdout",
     "output_type": "stream",
     "text": [
      "[0.38, 0.34, 0.32, 0.28, 0.3]\n"
     ]
    }
   ],
   "source": [
    "FPR_list = []\n",
    "for gap_cost in range(1,6):\n",
    "    threshold = return_threshold(BLOSUM50, gap_cost, 0.7)\n",
    "    FPR = find_FPR(threshold, BLOSUM50, gap_cost)\n",
    "    FPR_list.append(FPR)\n",
    "print(FPR_list)  "
   ]
  },
  {
   "cell_type": "markdown",
   "metadata": {},
   "source": [
    "The lowest FPR was 0.28, which corresponds to a gap cost of 4. I was unable to try different gap penalty combinations because I couldn't figure out how to differentiate between gap openings and extension penalties in my code.\n",
    "\n",
    "Next, I will try finding the FPR for each matrix with a gap cost of 4."
   ]
  },
  {
   "cell_type": "code",
   "execution_count": 112,
   "metadata": {},
   "outputs": [],
   "source": [
    "BLOSUM50, similarity_matrix_index = load_sim_matrix('BLOSUM50')\n",
    "BLOSUM62, similarity_matrix_index = load_sim_matrix('BLOSUM62')\n",
    "MATIO, similarity_matrix_index = load_sim_matrix('MATIO')\n",
    "PAM100, similarity_matrix_index = load_sim_matrix('PAM100')\n",
    "PAM250, similarity_matrix_index = load_sim_matrix('PAM250')"
   ]
  },
  {
   "cell_type": "code",
   "execution_count": 155,
   "metadata": {},
   "outputs": [
    {
     "name": "stdout",
     "output_type": "stream",
     "text": [
      "[0.28, 0.16, 0.36, 0.28, 0.28]\n"
     ]
    }
   ],
   "source": [
    "FPR_list_matrix = []\n",
    "for sim_matrix in [BLOSUM50, BLOSUM62, MATIO, PAM100, PAM250]:\n",
    "    threshold = return_threshold(sim_matrix, 4, 0.7)\n",
    "    FPR = find_FPR(threshold, sim_matrix, 4)\n",
    "    FPR_list_matrix.append(FPR)\n",
    "print(FPR_list_matrix)"
   ]
  },
  {
   "cell_type": "markdown",
   "metadata": {},
   "source": [
    "With the best gap penalty combination, BLOSUM62 appeared to perform the best (i.e. had the lowest FPR with a TPR of 0.7).\n",
    "    \n",
    "BLOSUM50 had a FPR of 0.28.\n",
    "\n",
    "BLOSUM62 had a FPR of 0.16.\n",
    "\n",
    "MATIO had a FPR of 0.36 (i.e. every single negative pair was considered positive!)\n",
    "\n",
    "PAM100 had a FPR of 0.28.\n",
    "\n",
    "PAM250 had a FPR of 0.28."
   ]
  },
  {
   "cell_type": "code",
   "execution_count": 65,
   "metadata": {},
   "outputs": [],
   "source": [
    "#ROC Curves"
   ]
  },
  {
   "cell_type": "code",
   "execution_count": 66,
   "metadata": {},
   "outputs": [],
   "source": [
    "ROC_TPR = np.array([0, 0.1, 0.2, 0.3, 0.4, 0.5, 0.6, 0.7, 0.8, 0.9, 1])"
   ]
  },
  {
   "cell_type": "code",
   "execution_count": 156,
   "metadata": {},
   "outputs": [
    {
     "name": "stdout",
     "output_type": "stream",
     "text": [
      "[0.0, 0.0, 0.02, 0.08, 0.12, 0.16, 0.26, 0.28, 0.32, 0.54, 0.78]\n"
     ]
    }
   ],
   "source": [
    "#BLOSUM50\n",
    "BLOSUM50_FPR = []\n",
    "for goal_TPR in ROC_TPR:\n",
    "    threshold = return_threshold(BLOSUM50, 4, goal_TPR)\n",
    "    FPR = find_FPR(threshold, BLOSUM50, 4)\n",
    "    BLOSUM50_FPR.append(FPR) \n",
    "print(BLOSUM50_FPR)"
   ]
  },
  {
   "cell_type": "code",
   "execution_count": 157,
   "metadata": {},
   "outputs": [
    {
     "name": "stdout",
     "output_type": "stream",
     "text": [
      "[0.0, 0.0, 0.0, 0.02, 0.04, 0.08, 0.12, 0.16, 0.36, 0.44, 0.74]\n"
     ]
    }
   ],
   "source": [
    "#BLOSUM62\n",
    "BLOSUM62_FPR = []\n",
    "for goal_TPR in ROC_TPR:\n",
    "    threshold = return_threshold(BLOSUM62, 4, goal_TPR)\n",
    "    FPR = find_FPR(threshold, BLOSUM62, 4)\n",
    "    BLOSUM62_FPR.append(FPR) \n",
    "print(BLOSUM62_FPR)"
   ]
  },
  {
   "cell_type": "code",
   "execution_count": 158,
   "metadata": {},
   "outputs": [
    {
     "name": "stdout",
     "output_type": "stream",
     "text": [
      "[0.0, 0.0, 0.08, 0.12, 0.22, 0.24, 0.34, 0.36, 0.44, 0.68, 0.94]\n"
     ]
    }
   ],
   "source": [
    "#MATIO\n",
    "MATIO_FPR = []\n",
    "for goal_TPR in ROC_TPR:\n",
    "    threshold = return_threshold(MATIO, 4, goal_TPR)\n",
    "    FPR = find_FPR(threshold, MATIO, 4)\n",
    "    MATIO_FPR.append(FPR) \n",
    "print(MATIO_FPR)"
   ]
  },
  {
   "cell_type": "code",
   "execution_count": 159,
   "metadata": {},
   "outputs": [
    {
     "name": "stdout",
     "output_type": "stream",
     "text": [
      "[0.0, 0.0, 0.0, 0.0, 0.02, 0.1, 0.22, 0.28, 0.32, 0.34, 0.58]\n"
     ]
    }
   ],
   "source": [
    "#PAM100\n",
    "PAM100_FPR = []\n",
    "for goal_TPR in ROC_TPR:\n",
    "    threshold = return_threshold(PAM100, 4, goal_TPR)\n",
    "    FPR = find_FPR(threshold, PAM100, 4)\n",
    "    PAM100_FPR.append(FPR) \n",
    "print(PAM100_FPR)"
   ]
  },
  {
   "cell_type": "code",
   "execution_count": 160,
   "metadata": {},
   "outputs": [
    {
     "name": "stdout",
     "output_type": "stream",
     "text": [
      "[0.0, 0.0, 0.02, 0.08, 0.14, 0.2, 0.26, 0.28, 0.3, 0.46, 0.86]\n"
     ]
    }
   ],
   "source": [
    "#PAM250\n",
    "PAM250_FPR = []\n",
    "for goal_TPR in ROC_TPR:\n",
    "    threshold = return_threshold(PAM250, 4, goal_TPR)\n",
    "    FPR = find_FPR(threshold, PAM250, 4)\n",
    "    PAM250_FPR.append(FPR) \n",
    "print(PAM250_FPR)"
   ]
  },
  {
   "cell_type": "code",
   "execution_count": 187,
   "metadata": {},
   "outputs": [
    {
     "data": {
      "text/plain": [
       "<Figure size 360x360 with 0 Axes>"
      ]
     },
     "execution_count": 187,
     "metadata": {},
     "output_type": "execute_result"
    },
    {
     "data": {
      "image/png": "[encoded data removed]",
      "text/plain": [
       "<Figure size 432x288 with 1 Axes>"
      ]
     },
     "metadata": {},
     "output_type": "display_data"
    },
    {
     "data": {
      "text/plain": [
       "<Figure size 360x360 with 0 Axes>"
      ]
     },
     "metadata": {},
     "output_type": "display_data"
    }
   ],
   "source": [
    "sns.lineplot(x=BLOSUM50_FPR, y=ROC_TPR, label=\"BLOSUM50\")\n",
    "sns.lineplot(x=BLOSUM62_FPR, y=ROC_TPR, label=\"BLOSUM62\")\n",
    "sns.lineplot(x=MATIO_FPR, y=ROC_TPR, label=\"MATIO\")\n",
    "sns.lineplot(x=PAM100_FPR, y=ROC_TPR, label=\"PAM100\")\n",
    "sns.lineplot(x=PAM250_FPR, y=ROC_TPR, label=\"PAM250\")\n",
    "plt.title(\"ROCs for different similarity matrices\")\n",
    "plt.xlabel(\"FPR\")\n",
    "plt.ylabel(\"TPR\")\n",
    "plt.xlim(0,1)\n",
    "plt.xlim(0,1)\n",
    "#plt.axis('equal')\n",
    "plt.figure(figsize=(5,5))"
   ]
  },
  {
   "cell_type": "markdown",
   "metadata": {},
   "source": [
    "I am now writing new functions and remaking ROC curves to address Part 1, Q3 about normalization."
   ]
  },
  {
   "cell_type": "code",
   "execution_count": 199,
   "metadata": {},
   "outputs": [],
   "source": [
    "def normalized_threshold(similarity_matrix, gap_cost, goal_TPR):\n",
    "    pos_pairs_scores = []\n",
    "    for f in pos_pairs_filelist:\n",
    "        a, b = return_sequences(*f)\n",
    "        score_matrix = matrix(a, b, similarity_matrix, BLOSUM50_i, gap_cost)\n",
    "        pos_pairs_scores.append(normalized_score(score_matrix, a, b))\n",
    "    pos_pairs_scores = np.array(pos_pairs_scores)\n",
    "    threshold = np.sort(pos_pairs_scores)[int(49 * (1 - goal_TPR))]\n",
    "    return threshold"
   ]
  },
  {
   "cell_type": "code",
   "execution_count": 194,
   "metadata": {},
   "outputs": [],
   "source": [
    "def normalized_score(H,a,b):\n",
    "    return H.max()/min(len(a), len(b))"
   ]
  },
  {
   "cell_type": "code",
   "execution_count": 197,
   "metadata": {},
   "outputs": [],
   "source": [
    "def normalized_FPR(threshold, similarity_matrix, gap_cost):\n",
    "    neg_pairs_scores = []\n",
    "    for f in neg_pairs_filelist:\n",
    "        a, b = return_sequences(*f)\n",
    "        score_matrix = matrix(a, b, similarity_matrix, BLOSUM50_i, gap_cost) #note all similarity matrix indices are the same\n",
    "        neg_pairs_scores.append(normalized_score(score_matrix, a, b))\n",
    "    FPR = (np.array(neg_pairs_scores) > threshold).mean()\n",
    "    return FPR"
   ]
  },
  {
   "cell_type": "code",
   "execution_count": 200,
   "metadata": {},
   "outputs": [
    {
     "name": "stdout",
     "output_type": "stream",
     "text": [
      "[0.0, 0.02, 0.16, 0.26, 0.36, 0.58, 0.64, 0.72, 0.82, 0.86, 0.92]\n"
     ]
    }
   ],
   "source": [
    "#BLOSUM62 with normalized scores\n",
    "BLOSUM62_FPR_norm = []\n",
    "for goal_TPR in ROC_TPR:\n",
    "    threshold = normalized_threshold(BLOSUM62, 4, goal_TPR)\n",
    "    FPR = normalized_FPR(threshold, BLOSUM62, 4)\n",
    "    BLOSUM62_FPR_norm.append(FPR) \n",
    "print(BLOSUM62_FPR_norm)"
   ]
  },
  {
   "cell_type": "code",
   "execution_count": 202,
   "metadata": {},
   "outputs": [
    {
     "data": {
      "text/plain": [
       "<Figure size 1440x1440 with 0 Axes>"
      ]
     },
     "execution_count": 202,
     "metadata": {},
     "output_type": "execute_result"
    },
    {
     "data": {
      "image/png": "[encoded data removed]",
      "text/plain": [
       "<Figure size 432x288 with 1 Axes>"
      ]
     },
     "metadata": {},
     "output_type": "display_data"
    },
    {
     "data": {
      "text/plain": [
       "<Figure size 1440x1440 with 0 Axes>"
      ]
     },
     "metadata": {},
     "output_type": "display_data"
    }
   ],
   "source": [
    "sns.lineplot(x=BLOSUM62_FPR, y=ROC_TPR, label=\"not-normalized BLOSUM62\")\n",
    "sns.lineplot(x=BLOSUM62_FPR_norm, y=ROC_TPR, label=\"normalized BLOSUM62\")\n",
    "plt.title(\"ROCs for normalized vs. not-normalized similarity matrices\")\n",
    "plt.xlabel(\"FPR\")\n",
    "plt.ylabel(\"TPR\")\n",
    "plt.xlim(0,1)\n",
    "plt.xlim(0,1)\n",
    "#plt.axis('equal')\n",
    "plt.figure(figsize=(20,20))"
   ]
  },
  {
   "cell_type": "markdown",
   "metadata": {},
   "source": [
    "The performance appears to get worse if we normalize the Smith-Waterman scores.\n",
    "\n",
    "Looking at the ROC curve particularly, the normalized BLOSUM62 appears to have the same performance as a random algorithm. The false positive rates indeed are much higher (and thus worse) for the normalized rather than the non-normalized. This may occur because you'd generally expect it to be harder to get good sequence alignments from very short sequences. By taking away the \"penalty\" or differntatiation for having a short sequence, your algorithm is going to perform much worse."
   ]
  },
  {
   "cell_type": "markdown",
   "metadata": {},
   "source": [
    "https://web.stanford.edu/class/cs262/presentations/lecture2.pdf\n",
    "https://github.com/applied-bioinformatics/An-Introduction-To-Applied-Bioinformatics/blob/master/book/fundamentals/pairwise-alignment.md"
   ]
  }
 ],
 "metadata": {
  "kernelspec": {
   "display_name": "Python 3",
   "language": "python",
   "name": "python3"
  },
  "language_info": {
   "codemirror_mode": {
    "name": "ipython",
    "version": 3
   },
   "file_extension": ".py",
   "mimetype": "text/x-python",
   "name": "python",
   "nbconvert_exporter": "python",
   "pygments_lexer": "ipython3",
   "version": "3.6.8"
  }
 },
 "nbformat": 4,
 "nbformat_minor": 2
}
