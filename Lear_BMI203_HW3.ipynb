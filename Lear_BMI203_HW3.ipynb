{
 "cells": [
  {
   "cell_type": "markdown",
   "metadata": {},
   "source": [
    "## Part 1"
   ]
  },
  {
   "cell_type": "markdown",
   "metadata": {},
   "source": [
    "Note: I realize that the jargon I'm using might be different than what it typically used. For clarity, a similarity matrix is the matrix I'm loading in, i.e. BLOSUM50. A scoring matrix is the matrix which my Smith-Waterman makes."
   ]
  },
  {
   "cell_type": "code",
   "execution_count": 261,
   "metadata": {},
   "outputs": [],
   "source": [
    "import itertools\n",
    "import numpy as np\n",
    "import os\n",
    "import seaborn as sns\n",
    "import matplotlib.pyplot as plt\n",
    "\n",
    "from numpy.random import randint\n",
    "from random import random as rnd\n",
    "from random import gauss, randrange"
   ]
  },
  {
   "cell_type": "markdown",
   "metadata": {},
   "source": [
    "Here, I am just loading BLOSUM50 and 2 random sequences as test cases to make sure my functions work. Note to graders: I'm using local file paths on my computer, so you won't be able to run these nor probably the following functions or cells that make use of these..."
   ]
  },
  {
   "cell_type": "code",
   "execution_count": 262,
   "metadata": {},
   "outputs": [
    {
     "name": "stdout",
     "output_type": "stream",
     "text": [
      "[[ 5 -2 -1 -2 -1 -1 -1  0 -2 -1 -2 -1 -1 -3 -1  1  0 -3 -2  0 -2 -1 -1 -5]\n",
      " [-2  7 -1 -2 -4  1  0 -3  0 -4 -3  3 -2 -3 -3 -1 -1 -3 -1 -3 -1  0 -1 -5]\n",
      " [-1 -1  7  2 -2  0  0  0  1 -3 -4  0 -2 -4 -2  1  0 -4 -2 -3  4  0 -1 -5]\n",
      " [-2 -2  2  8 -4  0  2 -1 -1 -4 -4 -1 -4 -5 -1  0 -1 -5 -3 -4  5  1 -1 -5]\n",
      " [-1 -4 -2 -4 13 -3 -3 -3 -3 -2 -2 -3 -2 -2 -4 -1 -1 -5 -3 -1 -3 -3 -2 -5]\n",
      " [-1  1  0  0 -3  7  2 -2  1 -3 -2  2  0 -4 -1  0 -1 -1 -1 -3  0  4 -1 -5]\n",
      " [-1  0  0  2 -3  2  6 -3  0 -4 -3  1 -2 -3 -1 -1 -1 -3 -2 -3  1  5 -1 -5]\n",
      " [ 0 -3  0 -1 -3 -2 -3  8 -2 -4 -4 -2 -3 -4 -2  0 -2 -3 -3 -4 -1 -2 -2 -5]\n",
      " [-2  0  1 -1 -3  1  0 -2 10 -4 -3  0 -1 -1 -2 -1 -2 -3  2 -4  0  0 -1 -5]\n",
      " [-1 -4 -3 -4 -2 -3 -4 -4 -4  5  2 -3  2  0 -3 -3 -1 -3 -1  4 -4 -3 -1 -5]\n",
      " [-2 -3 -4 -4 -2 -2 -3 -4 -3  2  5 -3  3  1 -4 -3 -1 -2 -1  1 -4 -3 -1 -5]\n",
      " [-1  3  0 -1 -3  2  1 -2  0 -3 -3  6 -2 -4 -1  0 -1 -3 -2 -3  0  1 -1 -5]\n",
      " [-1 -2 -2 -4 -2  0 -2 -3 -1  2  3 -2  7  0 -3 -2 -1 -1  0  1 -3 -1 -1 -5]\n",
      " [-3 -3 -4 -5 -2 -4 -3 -4 -1  0  1 -4  0  8 -4 -3 -2  1  4 -1 -4 -4 -2 -5]\n",
      " [-1 -3 -2 -1 -4 -1 -1 -2 -2 -3 -4 -1 -3 -4 10 -1 -1 -4 -3 -3 -2 -1 -2 -5]\n",
      " [ 1 -1  1  0 -1  0 -1  0 -1 -3 -3  0 -2 -3 -1  5  2 -4 -2 -2  0  0 -1 -5]\n",
      " [ 0 -1  0 -1 -1 -1 -1 -2 -2 -1 -1 -1 -1 -2 -1  2  5 -3 -2  0  0 -1  0 -5]\n",
      " [-3 -3 -4 -5 -5 -1 -3 -3 -3 -3 -2 -3 -1  1 -4 -4 -3 15  2 -3 -5 -2 -3 -5]\n",
      " [-2 -1 -2 -3 -3 -1 -2 -3  2 -1 -1 -2  0  4 -3 -2 -2  2  8 -1 -3 -2 -1 -5]\n",
      " [ 0 -3 -3 -4 -1 -3 -3 -4 -4  4  1 -3  1 -1 -3 -2  0 -3 -1  5 -4 -3 -1 -5]\n",
      " [-2 -1  4  5 -3  0  1 -1  0 -4 -4  0 -3 -4 -2  0  0 -5 -3 -4  5  2 -1 -5]\n",
      " [-1  0  0  1 -3  4  5 -2  0 -3 -3  1 -1 -4 -1  0 -1 -2 -2 -3  2  5 -1 -5]\n",
      " [-1 -1 -1 -1 -2 -1 -1 -2 -1 -1 -1 -1 -1 -2 -2 -1  0 -3 -1 -1 -1 -1 -1 -5]\n",
      " [-5 -5 -5 -5 -5 -5 -5 -5 -5 -5 -5 -5 -5 -5 -5 -5 -5 -5 -5 -5 -5 -5 -5  1]]\n"
     ]
    }
   ],
   "source": [
    "file_path = '/Users/sierra.lear/Documents/GitHub/BMI-203-HW3/BLOSUM50'#'/Users/SiSi/Documents/GitHub/BMI-203-HW3/BLOSUM50'\n",
    "BLOSUM50 = np.loadtxt(file_path, dtype=int, comments='#', skiprows=7)\n",
    "print(BLOSUM50)"
   ]
  },
  {
   "cell_type": "code",
   "execution_count": 263,
   "metadata": {},
   "outputs": [
    {
     "name": "stdout",
     "output_type": "stream",
     "text": [
      "SLEAAQKSNVTSSWAKASAAWGTAGPEFFMALFDAHDDVFAKFSGLFSGAAKGTVKNTPEMAAQAQSFKGLVSNWVDNLDNAGALEGQCKTFAANHKARGISAGQLEAAFKVLSGFMKSYGGDEGAWTAVAGALMGEIEPDM\n"
     ]
    }
   ],
   "source": [
    "sequence_path = '/Users/sierra.lear/Documents/GitHub/BMI-203-HW3/sequences/prot-0004.fa'#'/Users/SiSi/Documents/GitHub/BMI-203-HW3/sequences/prot-0004.fa'\n",
    "with open (sequence_path, \"r\") as file:\n",
    "    seq_1=file.read()\n",
    "    seq_1 = seq_1[seq_1.find(\"\\n\")+1:].replace('\\n', '')\n",
    "print(seq_1)"
   ]
  },
  {
   "cell_type": "code",
   "execution_count": 264,
   "metadata": {},
   "outputs": [
    {
     "name": "stdout",
     "output_type": "stream",
     "text": [
      "ANKTRELCMKSLEHAKVDTSNEARQDGIDLYKHMFENYPPLRKYFKSREEYTAEDVQNDPFFAKQGQKILLACHVLCATYDDRETFNAYTRELLDRHARDHVHMPPEVWTDFWKLFEEYLGKKTTLDEPTKQAWHEIGREFAKEINK\n"
     ]
    }
   ],
   "source": [
    "sequence_path = '/Users/sierra.lear/Documents/GitHub/BMI-203-HW3/sequences/prot-0008.fa' #'/Users/SiSi/Documents/GitHub/BMI-203-HW3/sequences/prot-0008.fa'\n",
    "with open (sequence_path, \"r\") as file:\n",
    "    seq_2=file.read()\n",
    "    seq_2 = seq_2[seq_2.find(\"\\n\")+1:].replace('\\n', '')\n",
    "print(seq_2)"
   ]
  },
  {
   "cell_type": "markdown",
   "metadata": {},
   "source": [
    "In the cell below, I'm written a function that will load both my similarity matrix (sim_matrix) as well as an index that matches a given amino acid in a sequence to its proper index in the similarity matrix."
   ]
  },
  {
   "cell_type": "code",
   "execution_count": 265,
   "metadata": {},
   "outputs": [],
   "source": [
    "def load_sim_matrix(name):\n",
    "    pathway = os.path.join('.', name) #on Github, needs to be changed to '..'\n",
    "    if name == 'BLOSUM50' or name == 'BLOSUM62':\n",
    "        sim_matrix = np.loadtxt(os.path.abspath(pathway), dtype=int, comments='#', skiprows=7)\n",
    "    elif name == 'MATIO':\n",
    "        sim_matrix = np.loadtxt(os.path.abspath(pathway), dtype=int, comments='#', skiprows=3)\n",
    "    else:\n",
    "        sim_matrix = np.loadtxt(os.path.abspath(pathway), dtype=int, comments='#', skiprows=10)\n",
    "        \n",
    "    AA_list = [\"A\", \"R\", \"N\", \"D\", \"C\", \"Q\", \"E\", \"G\", \"H\", \"I\", \"L\", \"K\", \n",
    "           \"M\", \"F\", \"P\", \"S\", \"T\", \"W\", \"Y\", \"V\", \"B\", \"Z\", \"X\", \"x\"]\n",
    "    similarity_matrix_index = {}\n",
    "    for i, aa in enumerate(AA_list):\n",
    "        similarity_matrix_index[aa] = i\n",
    "    \n",
    "    return sim_matrix, similarity_matrix_index\n",
    "    "
   ]
  },
  {
   "cell_type": "code",
   "execution_count": 266,
   "metadata": {},
   "outputs": [],
   "source": [
    "BLOSUM50, BLOSUM50_i = load_sim_matrix(\"BLOSUM50\")"
   ]
  },
  {
   "cell_type": "code",
   "execution_count": 267,
   "metadata": {},
   "outputs": [
    {
     "name": "stdout",
     "output_type": "stream",
     "text": [
      "(array([[ 0,  1,  1, -6, -2,  8, -7,  4, -6, -1, -1,  4,  1,  2, -1, -8,\n",
      "         7,  7,  4, -8, -1,  8, -1,  9],\n",
      "       [ 1, -1,  1, -4, -5,  3,  2,  3,  1,  0, -7, -2, -9,  8, -7,  2,\n",
      "        -4, -4,  2,  0,  0,  6, -7,  8],\n",
      "       [ 1,  1, -6,  1,  5,  2,  4, -3, -5, -8,  8,  9,  4,  7,  8,  1,\n",
      "        -2, -7,  4,  1,  1,  0,  7,  0],\n",
      "       [-6, -4,  1,  6,  0,  0,  0, -8, -9,  5, -9,  3,  6,  7,  9, -9,\n",
      "         4,  0,  6,  5, -2,  3,  4,  0],\n",
      "       [-2, -5,  5,  0, -2,  2,  1,  2, -2,  2,  0, -6,  3, -1, -7,  3,\n",
      "        -4,  7, -3, -1,  8,  1,  3,  9],\n",
      "       [ 8,  3,  2,  0,  2, -2, -4,  4,  5,  3, -3,  4,  6, -4, -9,  1,\n",
      "         5,  1, -7,  4,  2,  4,  0, -7],\n",
      "       [-7,  2,  4,  0,  1, -4, -6,  5,  9,  0, -1, -4,  3,  5,  3,  6,\n",
      "        -6,  6,  6, -1, -8,  5,  3, -9],\n",
      "       [ 4,  3, -3, -8,  2,  4,  5,  0,  2, -7, -8,  2, -4,  9,  3, -4,\n",
      "         5, -9,  5, -2,  8, -5,  9, -7],\n",
      "       [-6,  1, -5, -9, -2,  5,  9,  2,  7,  5, -4, -8, -4,  3,  8,  0,\n",
      "         1, -7, -1,  0,  1,  1,  1, -4],\n",
      "       [-1,  0, -8,  5,  2,  3,  0, -7,  5, -1,  8,  3,  5, -1,  7, -8,\n",
      "        -6, -7,  2, -1, -7, -4, -3, -9],\n",
      "       [-1, -7,  8, -9,  0, -3, -1, -8, -4,  8,  7, -7,  4, -1, -7,  2,\n",
      "         2,  6,  4,  0, -9, -4,  0, -6],\n",
      "       [ 4, -2,  9,  3, -6,  4, -4,  2, -8,  3, -7, -4, -9,  1, -2,  1,\n",
      "         6,  8, -6,  7,  9, -5,  6,  9],\n",
      "       [ 1, -9,  4,  6,  3,  6,  3, -4, -4,  5,  4, -9,  6, -1,  0,  8,\n",
      "         2, -7,  3, -2, -5, -7, -1, -3],\n",
      "       [ 2,  8,  7,  7, -1, -4,  5,  9,  3, -1, -1,  1, -1, -3,  3,  4,\n",
      "        -1,  9, -3,  8, -5,  7,  1, -3],\n",
      "       [-1, -7,  8,  9, -7, -9,  3,  3,  8,  7, -7, -2,  0,  3,  0,  1,\n",
      "         9,  0,  4,  5,  7, -3,  0, -6],\n",
      "       [-8,  2,  1, -9,  3,  1,  6, -4,  0, -8,  2,  1,  8,  4,  1,  2,\n",
      "        -7,  8, -7,  4,  6,  4, -5,  8],\n",
      "       [ 7, -4, -2,  4, -4,  5, -6,  5,  1, -6,  2,  6,  2, -1,  9, -7,\n",
      "         0,  0,  2, -7, -6, -8, -6, -1],\n",
      "       [ 7, -4, -7,  0,  7,  1,  6, -9, -7, -7,  6,  8, -7,  9,  0,  8,\n",
      "         0,  6, -1, -1, -6,  4, -7,  7],\n",
      "       [ 4,  2,  4,  6, -3, -7,  6,  5, -1,  2,  4, -6,  3, -3,  4, -7,\n",
      "         2, -1, -2,  0, -9,  0,  6,  3],\n",
      "       [-8,  0,  1,  5, -1,  4, -1, -2,  0, -1,  0,  7, -2,  8,  5,  4,\n",
      "        -7, -1,  0,  5,  9,  6,  5, -8],\n",
      "       [-1,  0,  1, -2,  8,  2, -8,  8,  1, -7, -9,  9, -5, -5,  7,  6,\n",
      "        -6, -6, -9,  9, -7, -8,  7, -7],\n",
      "       [ 8,  6,  0,  3,  1,  4,  5, -5,  1, -4, -4, -5, -7,  7, -3,  4,\n",
      "        -8,  4,  0,  6, -8,  4,  1, -8],\n",
      "       [-1, -7,  7,  4,  3,  0,  3,  9,  1, -3,  0,  6, -1,  1,  0, -5,\n",
      "        -6, -7,  6,  5,  7,  1,  8, -4],\n",
      "       [ 9,  8,  0,  0,  9, -7, -9, -7, -4, -9, -6,  9, -3, -3, -6,  8,\n",
      "        -1,  7,  3, -8, -7, -8, -4,  5]]), {'A': 0, 'R': 1, 'N': 2, 'D': 3, 'C': 4, 'Q': 5, 'E': 6, 'G': 7, 'H': 8, 'I': 9, 'L': 10, 'K': 11, 'M': 12, 'F': 13, 'P': 14, 'S': 15, 'T': 16, 'W': 17, 'Y': 18, 'V': 19, 'B': 20, 'Z': 21, 'X': 22, 'x': 23})\n"
     ]
    }
   ],
   "source": [
    "print(load_sim_matrix(\"MATIO\"))"
   ]
  },
  {
   "cell_type": "code",
   "execution_count": 268,
   "metadata": {},
   "outputs": [],
   "source": [
    "PAM250, PAM250_index = load_sim_matrix(\"PAM250\")"
   ]
  },
  {
   "cell_type": "markdown",
   "metadata": {},
   "source": [
    "For the first part of my algorithm, I have to create a matrix that basically tracks the score or alignment of two sequences based on the ones before it. Note that the starting framework for the Smith-Waterman algorithm I used was (greatly) adapted from the following: https://tiefenauer.github.io/blog/smith-waterman/"
   ]
  },
  {
   "cell_type": "code",
   "execution_count": 286,
   "metadata": {},
   "outputs": [],
   "source": [
    "def matrix(a, b, match_score_similarity_matrix, similarity_matrix_index, GOC, EP):\n",
    "    H = np.zeros((len(a) + 1, len(b) + 1), np.int) #initializing matrix\n",
    "    flag = 0 #initialize flag to zero (no gap has been created yet)\n",
    "\n",
    "    for i, j in itertools.product(range(1, H.shape[0]), range(1, H.shape[1])): #going through every cell in the matrix\n",
    "        match = H[i - 1, j - 1] + match_score_similarity_matrix[similarity_matrix_index[a[i-1]], similarity_matrix_index[b[j-1]]] #if AAs align, return score based on similarity matrix\n",
    "        if flag == 0: #assuming that there's no gap being built so would use gap opening cost\n",
    "            delete = H[i - 1, j] - GOC #If choose to instead \"delete\" or skip over, then will go one to left and also have a penalty cost\n",
    "            insert = H[i, j - 1] - GOC #If choose to instead \"insert\" (skipping over on other strand), then will be moving on the vertical axis with a penalty\n",
    "        else: #assumes that there is a gap so need to use extension penalty instead\n",
    "            delete = H[i - 1, j] - EP #If choose to instead \"delete\" or skip over, then will go one to left and also have a penalty cost\n",
    "            insert = H[i, j - 1] - EP\n",
    "        H[i, j] = max(match, delete, insert) #Whichever of the above 3 options is best/optimal, will be picked.\n",
    "        if H[i,j] == match:\n",
    "            flag = 0 #if aligned, then there is still no gap created\n",
    "        else: flag = 1 #gap has been started and continuation penalty should be used instead of start penalty\n",
    "        if H[i,j] < 0: H[i,j] = 0 #if negative, will instead return 0 because that's how S-WM works\n",
    "    return H"
   ]
  },
  {
   "cell_type": "code",
   "execution_count": 287,
   "metadata": {},
   "outputs": [
    {
     "name": "stdout",
     "output_type": "stream",
     "text": [
      "[[ 0  0  0  0]\n",
      " [ 0  5  3  0]\n",
      " [ 0  2 12 10]\n",
      " [ 0  0 10 19]]\n"
     ]
    }
   ],
   "source": [
    "ARNtest = matrix('ARN','ARN',BLOSUM50, BLOSUM50_i, 2, 3)\n",
    "print(ARNtest)"
   ]
  },
  {
   "cell_type": "code",
   "execution_count": 271,
   "metadata": {
    "scrolled": false
   },
   "outputs": [
    {
     "name": "stdout",
     "output_type": "stream",
     "text": [
      "[[  0   0   0 ...   0   0   0]\n",
      " [  0   1   1 ...   0   1   0]\n",
      " [  0   0   0 ...   2   0   0]\n",
      " ...\n",
      " [  0   0   0 ... 158 160 162]\n",
      " [  0   0   2 ... 156 160 160]\n",
      " [  0   0   0 ... 155 158 158]]\n"
     ]
    }
   ],
   "source": [
    "score_matrix = matrix(seq_1, seq_2, BLOSUM50, BLOSUM50_i, 2, 3)\n",
    "print(score_matrix)"
   ]
  },
  {
   "cell_type": "code",
   "execution_count": 272,
   "metadata": {},
   "outputs": [
    {
     "name": "stdout",
     "output_type": "stream",
     "text": [
      "[[ 0  0  0 ...  0  0  0]\n",
      " [ 0  1  1 ...  0  1  0]\n",
      " [ 0  0  0 ...  2  0  0]\n",
      " ...\n",
      " [ 0  1  0 ... 52 50 59]\n",
      " [ 0  0  3 ... 42 54 50]\n",
      " [ 0  0  0 ... 47 44 54]]\n"
     ]
    }
   ],
   "source": [
    "score_matrix = matrix(seq_1, seq_2, PAM250, PAM250_index, 10, 2)\n",
    "print(score_matrix)"
   ]
  },
  {
   "cell_type": "code",
   "execution_count": 273,
   "metadata": {},
   "outputs": [],
   "source": [
    "def traceback(H, b, b_='', old_i=0):\n",
    "    H_flip = np.flip(np.flip(H, 0), 1) #flip H to get the *last* (as in bottom right) occurrence of H.max() instead of top left\n",
    "    i_, j_ = np.unravel_index(H_flip.argmax(), H_flip.shape)\n",
    "    i, j = np.subtract(H.shape, (i_ + 1, j_ + 1))  #(i, j) equal the *last* indexes of H.max()/highest score in matrix\n",
    "    if H[i, j] == 0: #terminating condition--which happens once you hit zero\n",
    "        return b_, j\n",
    "    b_ = b[j - 1] + '-' + b_ if old_i - i > 1 else b[j - 1] + b_ #Otherwise, add gap to sequence if True; otherwise, add aligned AA\n",
    "    return traceback(H[0:i, 0:j], b, b_, i)"
   ]
  },
  {
   "cell_type": "code",
   "execution_count": 274,
   "metadata": {},
   "outputs": [],
   "source": [
    "string, number = traceback(ARNtest, 'ARN')"
   ]
  },
  {
   "cell_type": "code",
   "execution_count": 275,
   "metadata": {},
   "outputs": [
    {
     "data": {
      "text/plain": [
       "'ARN'"
      ]
     },
     "execution_count": 275,
     "metadata": {},
     "output_type": "execute_result"
    }
   ],
   "source": [
    "string"
   ]
  },
  {
   "cell_type": "markdown",
   "metadata": {},
   "source": [
    "This example above shows that my SWM does work with perfect alignment! When 'ARN' is put in for sequence a and b, the traceback returns 'ARN'!\n",
    "\n",
    "Let's try it with alignments that don't align at all."
   ]
  },
  {
   "cell_type": "code",
   "execution_count": 288,
   "metadata": {},
   "outputs": [],
   "source": [
    "no_align = matrix(\"ARN\", \"GZZ\", BLOSUM50, BLOSUM50_i, 2, 3)"
   ]
  },
  {
   "cell_type": "code",
   "execution_count": 291,
   "metadata": {},
   "outputs": [
    {
     "name": "stdout",
     "output_type": "stream",
     "text": [
      "\n"
     ]
    }
   ],
   "source": [
    "no_align_string, n_ = traceback(no_align, 'ZZ')\n",
    "print(no_align_string)"
   ]
  },
  {
   "cell_type": "markdown",
   "metadata": {},
   "source": [
    "Excellent, I return no matching string!"
   ]
  },
  {
   "cell_type": "code",
   "execution_count": 290,
   "metadata": {},
   "outputs": [
    {
     "name": "stdout",
     "output_type": "stream",
     "text": [
      "[[0 0 0 0]\n",
      " [0 0 0 0]\n",
      " [0 0 0 0]\n",
      " [0 0 0 0]]\n"
     ]
    }
   ],
   "source": [
    "print(no_align)"
   ]
  },
  {
   "cell_type": "markdown",
   "metadata": {},
   "source": [
    "Traceback function above just returns the actual alignment; I also need this to give me the score of the alignment"
   ]
  },
  {
   "cell_type": "code",
   "execution_count": 276,
   "metadata": {},
   "outputs": [],
   "source": [
    "def score(H):\n",
    "    H_flip = np.flip(np.flip(H, 0), 1)\n",
    "    return H_flip.max()"
   ]
  },
  {
   "cell_type": "code",
   "execution_count": 292,
   "metadata": {},
   "outputs": [
    {
     "name": "stdout",
     "output_type": "stream",
     "text": [
      "19\n",
      "0\n"
     ]
    }
   ],
   "source": [
    "print(score(ARNtest))\n",
    "print(score(no_align))"
   ]
  },
  {
   "cell_type": "markdown",
   "metadata": {},
   "source": [
    "Here, I built a pipeline to determine the threshold to give me a TPR of a certain value (for Q1, 0.7). Then, I wrote another function that tells me the FPR for that threshold."
   ]
  },
  {
   "cell_type": "code",
   "execution_count": 293,
   "metadata": {},
   "outputs": [],
   "source": [
    "def return_sequences(sequence_a_path, sequence_b_path):\n",
    "    with open (sequence_a_path, \"r\") as file: #creating string for sequence a from its filepath\n",
    "        a = file.read()\n",
    "        a = a[a.find(\"\\n\")+1:].replace('\\n', '')\n",
    "    with open (sequence_b_path, \"r\") as file: #creating string for sequence b from its filepath\n",
    "        b = file.read()\n",
    "        b = b[b.find(\"\\n\")+1:].replace('\\n', '')\n",
    "    return a, b #the two sequences I am going to compare/align using Smith-Waterman"
   ]
  },
  {
   "cell_type": "code",
   "execution_count": 294,
   "metadata": {},
   "outputs": [],
   "source": [
    "BLOSUM50, BLOSUM50_i = load_sim_matrix('BLOSUM50')"
   ]
  },
  {
   "cell_type": "markdown",
   "metadata": {},
   "source": [
    "Now I am making sure I can load in the list of negative sequence pairs form my repo:"
   ]
  },
  {
   "cell_type": "code",
   "execution_count": 295,
   "metadata": {},
   "outputs": [],
   "source": [
    "#loading in the list of negative sequence pairs from my repo\n",
    "\n",
    "neg_pairs_filelist = []\n",
    "with open('./Negpairs.txt', mode='r') as my_file:\n",
    "    for line in my_file:\n",
    "        neg_pairs_filelist.append(line.strip().split(' '))"
   ]
  },
  {
   "cell_type": "code",
   "execution_count": 296,
   "metadata": {},
   "outputs": [],
   "source": [
    "a, b = return_sequences(*neg_pairs_filelist[0])"
   ]
  },
  {
   "cell_type": "code",
   "execution_count": 297,
   "metadata": {},
   "outputs": [
    {
     "name": "stdout",
     "output_type": "stream",
     "text": [
      "SQAEFDKAAEEVKHLKTKPADEEMLFIYSHYKQATVGDINTERPGMLDFKGKAKWDAWNELKGTSKEDAMKAYIDKVEELKKKYGI\n",
      "AVSLDRTRAVFDGSEKSMTLDISNDNKQLPYLAQAWIENENQEKIITGPVIATPPVQRLDPGAKSMVRLSTTPDISKLPQDRESLFYFNLREIPPRSEKANVLQIALQTKIKLFYRPAA\n"
     ]
    }
   ],
   "source": [
    "print(a)\n",
    "print(b)"
   ]
  },
  {
   "cell_type": "code",
   "execution_count": 304,
   "metadata": {},
   "outputs": [
    {
     "name": "stdout",
     "output_type": "stream",
     "text": [
      "[[  0   0   0 ...   0   0   0]\n",
      " [  0   3   1 ...   1   0   0]\n",
      " [  0   1   3 ...   0   1   0]\n",
      " ...\n",
      " [  0   3   4 ...  90  92  90]\n",
      " [  0   0   2 ...  89  91  89]\n",
      " [  0   0   0 ...  86  88 104]]\n",
      "L-S-C-KCRKG-C-DT-C-CRKNQY-EN-L-C\n"
     ]
    }
   ],
   "source": [
    "another_test = matrix(a,b, BLOSUM50, BLOSUM50_i, 2, 3)\n",
    "print(another_test)\n",
    "another_test_string, n_ = traceback(another_test, b)\n",
    "print(another_test_string)"
   ]
  },
  {
   "cell_type": "code",
   "execution_count": 298,
   "metadata": {
    "scrolled": false
   },
   "outputs": [],
   "source": [
    "#testing that I can load in the negative pairs and perform S-WM algorithm on them.\n",
    "neg_pairs_scores = []\n",
    "for f in neg_pairs_filelist: #looping through all the pairs of negative sequences\n",
    "    #print(f)\n",
    "    a, b = return_sequences(*f)\n",
    "    score_matrix = matrix(a, b, BLOSUM50, BLOSUM50_i, 3, 2) #creating score matrix on each negative sequence pair\n",
    "    neg_pairs_scores.append(score(score_matrix)) #creating matrix of scores for each sequence pair"
   ]
  },
  {
   "cell_type": "code",
   "execution_count": 299,
   "metadata": {},
   "outputs": [
    {
     "data": {
      "text/plain": [
       "[96,\n",
       " 89,\n",
       " 51,\n",
       " 180,\n",
       " 99,\n",
       " 103,\n",
       " 197,\n",
       " 43,\n",
       " 99,\n",
       " 49,\n",
       " 191,\n",
       " 58,\n",
       " 110,\n",
       " 211,\n",
       " 143,\n",
       " 136,\n",
       " 91,\n",
       " 72,\n",
       " 58,\n",
       " 271,\n",
       " 273,\n",
       " 101,\n",
       " 96,\n",
       " 236,\n",
       " 234,\n",
       " 103,\n",
       " 169,\n",
       " 183,\n",
       " 262,\n",
       " 118,\n",
       " 309,\n",
       " 187,\n",
       " 128,\n",
       " 129,\n",
       " 87,\n",
       " 109,\n",
       " 63,\n",
       " 154,\n",
       " 112,\n",
       " 77,\n",
       " 50,\n",
       " 73,\n",
       " 191,\n",
       " 164,\n",
       " 278,\n",
       " 78,\n",
       " 74,\n",
       " 34,\n",
       " 66,\n",
       " 117]"
      ]
     },
     "execution_count": 299,
     "metadata": {},
     "output_type": "execute_result"
    }
   ],
   "source": [
    "neg_pairs_scores"
   ]
  },
  {
   "cell_type": "markdown",
   "metadata": {},
   "source": [
    "Now I'm going to do the same thing with the postive sequence pairs:"
   ]
  },
  {
   "cell_type": "code",
   "execution_count": 300,
   "metadata": {},
   "outputs": [],
   "source": [
    "#loading in the sequences from the postiive sequence pairs file on my repo\n",
    "\n",
    "pos_pairs_filelist = []\n",
    "with open('./Pospairs.txt', mode='r') as my_file:\n",
    "    for line in my_file:\n",
    "        pos_pairs_filelist.append(line.strip().split(' '))"
   ]
  },
  {
   "cell_type": "code",
   "execution_count": 301,
   "metadata": {},
   "outputs": [
    {
     "name": "stdout",
     "output_type": "stream",
     "text": [
      "[142 143 144 141 201  66 326  94 109  95 124 131 259 176 174 162 146 344\n",
      " 259 338 343 253 223 206 143 170 297 214 151 137 187 180 150 202 293 143\n",
      " 269 178 183 122 117 138 117 247 243 160 362 415 122  98]\n"
     ]
    }
   ],
   "source": [
    "#same code and tests as with the negative sequence pairs, just using the positive pairs\n",
    "\n",
    "pos_pairs_scores = []\n",
    "for f in pos_pairs_filelist:\n",
    "    a, b = return_sequences(*f)\n",
    "    score_matrix = matrix(a, b, BLOSUM50, BLOSUM50_i, 2, 5)\n",
    "    pos_pairs_scores.append(score(score_matrix))\n",
    "pos_pairs_scores = np.array(pos_pairs_scores)\n",
    "print(pos_pairs_scores)"
   ]
  },
  {
   "cell_type": "markdown",
   "metadata": {},
   "source": [
    "### Part 1, Question 1\n",
    "\n",
    "To calculate the best gap opening cost and continuation penalty, I am writing functions that will 1) calculate a threshold based on a given or goal TPR I want to achieve from the positive sequences.\n",
    "\n",
    "Then, using that threshold, I will calculate my FPR using my negative sequences."
   ]
  },
  {
   "cell_type": "code",
   "execution_count": 305,
   "metadata": {},
   "outputs": [],
   "source": [
    "def return_threshold(similarity_matrix, GOC, EP, goal_TPR):\n",
    "    pos_pairs_scores = []\n",
    "    for f in pos_pairs_filelist:\n",
    "        a, b = return_sequences(*f)\n",
    "        score_matrix = matrix(a, b, similarity_matrix, BLOSUM50_i, GOC, EP) #calculates the score matrix for two sequences\n",
    "        pos_pairs_scores.append(score(score_matrix)) #finds the score from the score matrix and appends to list\n",
    "    pos_pairs_scores = np.array(pos_pairs_scores) #sorts list of scores in ascending order\n",
    "    threshold = np.sort(pos_pairs_scores)[int(49 * (1 - goal_TPR))] #picks threshold as the score based on desired TPR\n",
    "    return threshold"
   ]
  },
  {
   "cell_type": "code",
   "execution_count": 306,
   "metadata": {},
   "outputs": [
    {
     "data": {
      "text/plain": [
       "142"
      ]
     },
     "execution_count": 306,
     "metadata": {},
     "output_type": "execute_result"
    }
   ],
   "source": [
    "t = return_threshold(BLOSUM50, 2, 5, 0.7)\n",
    "t"
   ]
  },
  {
   "cell_type": "code",
   "execution_count": 307,
   "metadata": {},
   "outputs": [
    {
     "data": {
      "text/plain": [
       "0.7"
      ]
     },
     "execution_count": 307,
     "metadata": {},
     "output_type": "execute_result"
    }
   ],
   "source": [
    "#checking I do get a TPR of 0.7\n",
    "(np.array(pos_pairs_scores) > t).mean()"
   ]
  },
  {
   "cell_type": "code",
   "execution_count": 308,
   "metadata": {},
   "outputs": [],
   "source": [
    "def find_FPR(threshold, similarity_matrix, GOC, EP):\n",
    "    neg_pairs_scores = []\n",
    "    for f in neg_pairs_filelist: #looping through all the negative sequence pairs\n",
    "        a, b = return_sequences(*f)\n",
    "        score_matrix = matrix(a, b, similarity_matrix, BLOSUM50_i, GOC, EP) #finding the score for each negative pair sequence\n",
    "        neg_pairs_scores.append(score(score_matrix)) #adding each score to a matrix\n",
    "    FPR = (np.array(neg_pairs_scores) > threshold).mean() #calculating the FPR by comparing all the scores to a threshold and averaging it\n",
    "    return FPR\n",
    "    "
   ]
  },
  {
   "cell_type": "markdown",
   "metadata": {},
   "source": [
    "In the cell below, I calculate the FPRs for every combination of gap opening cost (GOC) and continuation penalty (EP). This code takes forever to run, so I recommend not running it."
   ]
  },
  {
   "cell_type": "code",
   "execution_count": 50,
   "metadata": {},
   "outputs": [
    {
     "name": "stdout",
     "output_type": "stream",
     "text": [
      "[0.38, 0.38, 0.36, 0.34, 0.34, 0.36, 0.34, 0.34, 0.32, 0.3, 0.36, 0.34, 0.32, 0.3, 0.28, 0.32, 0.34, 0.28, 0.28, 0.26, 0.32, 0.34, 0.32, 0.28, 0.3, 0.32, 0.28, 0.3, 0.3, 0.26, 0.32, 0.34, 0.24, 0.28, 0.3, 0.3, 0.26, 0.3, 0.3, 0.3, 0.32, 0.28, 0.28, 0.28, 0.26, 0.32, 0.26, 0.26, 0.2, 0.22, 0.28, 0.28, 0.26, 0.24, 0.24, 0.36, 0.2, 0.28, 0.22, 0.32, 0.32, 0.32, 0.34, 0.28, 0.28, 0.26, 0.28, 0.24, 0.28, 0.26, 0.28, 0.24, 0.28, 0.36, 0.38, 0.3, 0.26, 0.36, 0.38, 0.36, 0.32, 0.24, 0.34, 0.34, 0.34, 0.4, 0.34, 0.34, 0.32, 0.36, 0.36, 0.32, 0.32, 0.32, 0.36, 0.28, 0.34, 0.32, 0.32, 0.36]\n"
     ]
    }
   ],
   "source": [
    "FPR_list = []\n",
    "for GOC in range(1,21): #looping through every possible GOC\n",
    "    for EP in range(1,6): #looping through every possible EP\n",
    "        threshold = return_threshold(BLOSUM50, GOC, EP, 0.7) #finding threshold when TPR = 0.7\n",
    "        FPR = find_FPR(threshold, BLOSUM50, GOC, EP) #calculating FPR for a given combo of GOC and EP\n",
    "        FPR_list.append(FPR) #saving every FPR into a list\n",
    "print(FPR_list)"
   ]
  },
  {
   "cell_type": "code",
   "execution_count": 53,
   "metadata": {},
   "outputs": [
    {
     "name": "stdout",
     "output_type": "stream",
     "text": [
      "0.2\n",
      "48\n"
     ]
    }
   ],
   "source": [
    "print(min(FPR_list)) #find the minimum FPR\n",
    "print(np.array(FPR_list).argmin()) #find the index of that minimunm FPR"
   ]
  },
  {
   "cell_type": "code",
   "execution_count": 64,
   "metadata": {},
   "outputs": [
    {
     "name": "stdout",
     "output_type": "stream",
     "text": [
      "0.2\n"
     ]
    }
   ],
   "source": [
    "#double-checking that I have the right GOC and EP combination:\n",
    "t = return_threshold(BLOSUM50, 10, 4, 0.7)\n",
    "FPR = find_FPR(t, BLOSUM50, 10, 4)\n",
    "print(FPR)"
   ]
  },
  {
   "cell_type": "markdown",
   "metadata": {},
   "source": [
    "The lowest FPR was 0.2, which corresponds to a gap opening cost of 10 and elimination penalty of 4. I figured that out based on the argmin of in the list above. Note there is another combination that gets me another FPR of 0.2, but I decided to utilize the first combination that gave me 0.2 for the rest of the assignment.\n",
    "\n",
    "### Part 1, Question 2\n",
    "\n",
    "Next, I will try finding the FPR for each matrix with this gap cost combination."
   ]
  },
  {
   "cell_type": "code",
   "execution_count": 309,
   "metadata": {},
   "outputs": [],
   "source": [
    "BLOSUM50, similarity_matrix_index = load_sim_matrix('BLOSUM50')\n",
    "BLOSUM62, similarity_matrix_index = load_sim_matrix('BLOSUM62')\n",
    "MATIO, similarity_matrix_index = load_sim_matrix('MATIO')\n",
    "PAM100, similarity_matrix_index = load_sim_matrix('PAM100')\n",
    "PAM250, similarity_matrix_index = load_sim_matrix('PAM250')"
   ]
  },
  {
   "cell_type": "code",
   "execution_count": 66,
   "metadata": {},
   "outputs": [
    {
     "name": "stdout",
     "output_type": "stream",
     "text": [
      "[0.2, 0.24, 0.38, 0.24, 0.3]\n"
     ]
    }
   ],
   "source": [
    "FPR_list_matrix = []\n",
    "for sim_matrix in [BLOSUM50, BLOSUM62, MATIO, PAM100, PAM250]:\n",
    "    threshold = return_threshold(sim_matrix, 10, 4, 0.7)\n",
    "    FPR = find_FPR(threshold, sim_matrix, 10, 4)\n",
    "    FPR_list_matrix.append(FPR)\n",
    "print(FPR_list_matrix)"
   ]
  },
  {
   "cell_type": "markdown",
   "metadata": {},
   "source": [
    "With the best gap penalty combination, BLOSUM50 appeared to perform the best (i.e. had the lowest FPR with a TPR of 0.7).\n",
    "    \n",
    "BLOSUM50 had a FPR of 0.2.\n",
    "\n",
    "BLOSUM62 had a FPR of 0.24.\n",
    "\n",
    "MATIO had a FPR of 0.38.\n",
    "\n",
    "PAM100 had a FPR of 0.24.\n",
    "\n",
    "PAM250 had a FPR of 0.3."
   ]
  },
  {
   "cell_type": "code",
   "execution_count": null,
   "metadata": {},
   "outputs": [],
   "source": [
    "#ROC Curves"
   ]
  },
  {
   "cell_type": "code",
   "execution_count": 310,
   "metadata": {},
   "outputs": [],
   "source": [
    "ROC_TPR = np.array([0, 0.1, 0.2, 0.3, 0.4, 0.5, 0.6, 0.7, 0.8, 0.9, 1])"
   ]
  },
  {
   "cell_type": "code",
   "execution_count": 315,
   "metadata": {},
   "outputs": [
    {
     "name": "stdout",
     "output_type": "stream",
     "text": [
      "[0.0, 0.0, 0.02, 0.02, 0.04, 0.06, 0.12, 0.2, 0.32, 0.56, 0.78]\n"
     ]
    }
   ],
   "source": [
    "#BLOSUM50\n",
    "BLOSUM50_FPR = []\n",
    "for goal_TPR in ROC_TPR:\n",
    "    threshold = return_threshold(BLOSUM50, 10, 4, goal_TPR)\n",
    "    FPR = find_FPR(threshold, BLOSUM50, 10, 4)\n",
    "    BLOSUM50_FPR.append(FPR) \n",
    "print(BLOSUM50_FPR)"
   ]
  },
  {
   "cell_type": "code",
   "execution_count": 236,
   "metadata": {},
   "outputs": [
    {
     "name": "stdout",
     "output_type": "stream",
     "text": [
      "[0.0, 0.02, 0.02, 0.08, 0.08, 0.14, 0.2, 0.24, 0.42, 0.54, 0.68]\n"
     ]
    }
   ],
   "source": [
    "#BLOSUM62\n",
    "BLOSUM62_FPR = []\n",
    "for goal_TPR in ROC_TPR:\n",
    "    threshold = return_threshold(BLOSUM62, 10, 4, goal_TPR)\n",
    "    FPR = find_FPR(threshold, BLOSUM62, 10, 4)\n",
    "    BLOSUM62_FPR.append(FPR) \n",
    "print(BLOSUM62_FPR)"
   ]
  },
  {
   "cell_type": "code",
   "execution_count": 234,
   "metadata": {},
   "outputs": [
    {
     "name": "stdout",
     "output_type": "stream",
     "text": [
      "[0.0, 0.0, 0.1, 0.14, 0.22, 0.3, 0.34, 0.38, 0.44, 0.68, 0.96]\n"
     ]
    }
   ],
   "source": [
    "#MATIO\n",
    "MATIO_FPR = []\n",
    "for goal_TPR in ROC_TPR:\n",
    "    threshold = return_threshold(MATIO, 10, 4, goal_TPR)\n",
    "    FPR = find_FPR(threshold, MATIO, 10, 4)\n",
    "    MATIO_FPR.append(FPR) \n",
    "print(MATIO_FPR)"
   ]
  },
  {
   "cell_type": "code",
   "execution_count": 237,
   "metadata": {},
   "outputs": [
    {
     "name": "stdout",
     "output_type": "stream",
     "text": [
      "[0.0, 0.0, 0.02, 0.02, 0.02, 0.06, 0.1, 0.24, 0.26, 0.54, 0.82]\n"
     ]
    }
   ],
   "source": [
    "#PAM100\n",
    "PAM100_FPR = []\n",
    "for goal_TPR in ROC_TPR:\n",
    "    threshold = return_threshold(PAM100, 10, 4, goal_TPR)\n",
    "    FPR = find_FPR(threshold, PAM100, 10, 4)\n",
    "    PAM100_FPR.append(FPR) \n",
    "print(PAM100_FPR)"
   ]
  },
  {
   "cell_type": "code",
   "execution_count": 238,
   "metadata": {},
   "outputs": [
    {
     "name": "stdout",
     "output_type": "stream",
     "text": [
      "[0.0, 0.0, 0.0, 0.0, 0.02, 0.04, 0.1, 0.3, 0.34, 0.46, 0.88]\n"
     ]
    }
   ],
   "source": [
    "#PAM250\n",
    "PAM250_FPR = []\n",
    "for goal_TPR in ROC_TPR:\n",
    "    threshold = return_threshold(PAM250, 10, 4, goal_TPR)\n",
    "    FPR = find_FPR(threshold, PAM250, 10, 4)\n",
    "    PAM250_FPR.append(FPR) \n",
    "print(PAM250_FPR)"
   ]
  },
  {
   "cell_type": "code",
   "execution_count": 239,
   "metadata": {},
   "outputs": [
    {
     "data": {
      "text/plain": [
       "<Figure size 360x360 with 0 Axes>"
      ]
     },
     "execution_count": 239,
     "metadata": {},
     "output_type": "execute_result"
    },
    {
     "data": {
      "image/png": "[encoded data removed]",
      "text/plain": [
       "<Figure size 432x288 with 1 Axes>"
      ]
     },
     "metadata": {
      "needs_background": "light"
     },
     "output_type": "display_data"
    },
    {
     "data": {
      "text/plain": [
       "<Figure size 360x360 with 0 Axes>"
      ]
     },
     "metadata": {},
     "output_type": "display_data"
    }
   ],
   "source": [
    "sns.lineplot(x=BLOSUM50_FPR, y=ROC_TPR, label=\"BLOSUM50\")\n",
    "sns.lineplot(x=BLOSUM62_FPR, y=ROC_TPR, label=\"BLOSUM62\")\n",
    "sns.lineplot(x=MATIO_FPR, y=ROC_TPR, label=\"MATIO\")\n",
    "sns.lineplot(x=PAM100_FPR, y=ROC_TPR, label=\"PAM100\")\n",
    "sns.lineplot(x=PAM250_FPR, y=ROC_TPR, label=\"PAM250\")\n",
    "sns.lineplot(x=[0,1],y=[0,1], label= \"X=Y\")\n",
    "plt.title(\"ROCs for different similarity matrices\")\n",
    "plt.xlabel(\"FPR\")\n",
    "plt.ylabel(\"TPR\")\n",
    "plt.xlim(0,1)\n",
    "plt.xlim(0,1)\n",
    "#plt.axis('equal')\n",
    "plt.figure(figsize=(5,5))"
   ]
  },
  {
   "cell_type": "markdown",
   "metadata": {},
   "source": [
    "PAM100 also frankly seems to have a pretty good performance--it's rather comparable with BLOSUM50 overall."
   ]
  },
  {
   "cell_type": "markdown",
   "metadata": {},
   "source": [
    "### Part 1, Q3"
   ]
  },
  {
   "cell_type": "markdown",
   "metadata": {},
   "source": [
    "I am now writing new functions and remaking ROC curves to address Part 1, Q3 about normalization."
   ]
  },
  {
   "cell_type": "code",
   "execution_count": 312,
   "metadata": {},
   "outputs": [],
   "source": [
    "def normalized_score(H,a,b):\n",
    "    return H.max()/min(len(a), len(b)) #divide my minimum sequence length to normalize"
   ]
  },
  {
   "cell_type": "code",
   "execution_count": 311,
   "metadata": {},
   "outputs": [],
   "source": [
    "#only difference between this function and return_threshold is that here I'm using the normalized_score function\n",
    "#to calculate the scores instead of my typical score function\n",
    "def normalized_threshold(similarity_matrix, GOC, EP, goal_TPR):\n",
    "    pos_pairs_scores = []\n",
    "    for f in pos_pairs_filelist:\n",
    "        a, b = return_sequences(*f)\n",
    "        score_matrix = matrix(a, b, similarity_matrix, similarity_matrix_index, GOC, EP)\n",
    "        pos_pairs_scores.append(normalized_score(score_matrix, a, b))\n",
    "    pos_pairs_scores = np.array(pos_pairs_scores)\n",
    "    threshold = np.sort(pos_pairs_scores)[int(49 * (1 - goal_TPR))]\n",
    "    return threshold"
   ]
  },
  {
   "cell_type": "code",
   "execution_count": 313,
   "metadata": {},
   "outputs": [],
   "source": [
    "def normalized_FPR(threshold, similarity_matrix, GOC, EP):\n",
    "    neg_pairs_scores = []\n",
    "    for f in neg_pairs_filelist:\n",
    "        a, b = return_sequences(*f)\n",
    "        score_matrix = matrix(a, b, similarity_matrix, similarity_matrix_index, GOC, EP)\n",
    "        neg_pairs_scores.append(normalized_score(score_matrix, a, b))\n",
    "    FPR = (np.array(neg_pairs_scores) > threshold).mean()\n",
    "    return FPR"
   ]
  },
  {
   "cell_type": "code",
   "execution_count": 314,
   "metadata": {},
   "outputs": [
    {
     "name": "stdout",
     "output_type": "stream",
     "text": [
      "[0.0, 0.02, 0.22, 0.42, 0.48, 0.52, 0.66, 0.82, 0.9, 0.96, 1.0]\n"
     ]
    }
   ],
   "source": [
    "#BLOSUM50 with normalized scores\n",
    "BLOSUM50_FPR_norm = []\n",
    "for goal_TPR in ROC_TPR:\n",
    "    threshold = normalized_threshold(BLOSUM50,10, 4, goal_TPR)\n",
    "    FPR = normalized_FPR(threshold, BLOSUM50,10, 4)\n",
    "    BLOSUM50_FPR_norm.append(FPR) \n",
    "print(BLOSUM50_FPR_norm)"
   ]
  },
  {
   "cell_type": "code",
   "execution_count": 316,
   "metadata": {},
   "outputs": [
    {
     "data": {
      "text/plain": [
       "<Figure size 1440x1440 with 0 Axes>"
      ]
     },
     "execution_count": 316,
     "metadata": {},
     "output_type": "execute_result"
    },
    {
     "data": {
      "image/png": "[encoded data removed]",
      "text/plain": [
       "<Figure size 432x288 with 1 Axes>"
      ]
     },
     "metadata": {
      "needs_background": "light"
     },
     "output_type": "display_data"
    },
    {
     "data": {
      "text/plain": [
       "<Figure size 1440x1440 with 0 Axes>"
      ]
     },
     "metadata": {},
     "output_type": "display_data"
    }
   ],
   "source": [
    "sns.lineplot(x=BLOSUM50_FPR, y=ROC_TPR, label=\"not-normalized BLOSUM50\")\n",
    "sns.lineplot(x=BLOSUM50_FPR_norm, y=ROC_TPR, label=\"normalized BLOSUM50\")\n",
    "sns.lineplot(x=[0,1],y=[0,1], label= \"X=Y\")\n",
    "plt.title(\"ROCs for normalized vs. not-normalized similarity matrices\")\n",
    "plt.xlabel(\"FPR\")\n",
    "plt.ylabel(\"TPR\")\n",
    "plt.xlim(0,1)\n",
    "plt.xlim(0,1)\n",
    "#plt.axis('equal')\n",
    "plt.figure(figsize=(20,20))"
   ]
  },
  {
   "cell_type": "markdown",
   "metadata": {},
   "source": [
    "The performance appears to get worse if we normalize the Smith-Waterman scores.\n",
    "\n",
    "Looking at the ROC curve particularly, the normalized BLOSUM62 appears to have the same performance as a random algorithm. The false positive rates indeed are much higher (and thus worse) for the normalized rather than the non-normalized. This may occur because you'd generally expect it to be harder to get good sequence alignments from very short sequences. By taking away the \"penalty\" or differentiation for having a short sequence, your algorithm is going to perform much worse."
   ]
  },
  {
   "cell_type": "markdown",
   "metadata": {},
   "source": [
    "## Part 2"
   ]
  },
  {
   "cell_type": "markdown",
   "metadata": {},
   "source": [
    "### Part 2 Question 1\n",
    "\n",
    "First, I will make my static alignments for the positive and negative sequence pairs using BLOSUM50."
   ]
  },
  {
   "cell_type": "code",
   "execution_count": 20,
   "metadata": {},
   "outputs": [
    {
     "name": "stdout",
     "output_type": "stream",
     "text": [
      "['SLE-AK-R-Y-Y-N-P-A-QGQKI-LA-V', 'A-ED-AV-R-SAL-SP-P-QIK-G-EG-A-I-FKQK-Q', 'K-L-LEHILN-INN-K-T-K-T-E-C-LI', 'GAQ-N-C-ACH-G-NS-A-D-GGF-G-AMP-EIQAV', 'LND-Q-F-F-F-D-DGSI-DF-M-D-D-SWEEYL-M', 'G-KRK-R-GLGAS-ISKT', 'P-RT-ED-LHDAMV-D-G-PTLIQ-P-N-YQ-EP-P-P-N-Q-M-IG-W', 'EKV-AAK-F-NHSKF-D', 'F-PE-CSTT-F-D-G', 'P-PT-IAW-D-NFKV-GR-Q-Q-L', 'PD-P-I-WE-QYK-W-TS-RV', 'P-T-LCA-F-Q-G-VHV-D-E-E', 'I-GEA-T-G-ITLQ-CVH-AS-V-GSA-V-S-GKS-C-G-S', 'V-D-FLG-W-K-MT-K-H-S-D-T-G-K-V-D-L-T-E', 'DEGGM-F-PA-PGDSI-F-NV-GAD-K-TVGQE-VK-E-F-CAPH-GMVA-VVVG', 'MFQTF-N-K-T-P-I-V-L', 'KAI-K-AW-GC-A-I-L-N-SSER-P-G-N-KD-S', 'F-R-P-A-P-TD-RF-DT-T-L-T-Y-S-TAYNAL-P-A', 'EN-SQDT-TVHDG-P-S-LA-G-R-G-F-A-P-V-V-PTSS', 'RYA-IG-C-Y-V-P-SW-L-T-GN-NR-D-HY-GK-C-R-M-VG-FQ-P-I-DQ-IK-E', 'D-GS-PY-NS-S-F-WG-V-N-QNL-G-KQH-WE-E-D-G', 'ME-N-L-DRR-F-PFVT-P-ID-Q-AV-GA-IV', 'A-VKV-Y-L-GK-T-ERIL-YT-H-AA-M-F-D-Q-V-IRK-VF-K-VQL-D-V-D', 'A-KG-F-T-P-VN-V-TI-Y-DID-IL-ARQ-F-NK-DM-M', 'PY-I-YF-VRG-RMLL-DQGWKEE-DGD-QSNAILRHLGRS', 'LD-G-G-IRQV-S-KV-R-I-YGV-E-I-EQV-N-A', 'N-V-YW-GI-SS-KT-F-D-G-GS-PS-H-Q-Q-V', 'D-V-RE-WK-DNVV-Q-G-V-IKRL-T-NYD-DAFP', 'MK-A-PVRV-A-GAAG-G-Q-I-EGV-VM-LE-P-PD-D', 'YEI-G-IC-Q-A-A-WQ-YRE-LVE-LKE', 'G-S-G-S-A-Q-CALI-GGT-CVN-FDT-N', 'A-G-VVG-GTGG-T-AK-I-PS-V-L-I-G-D-G-D-GG-EF-R-G-K-I-A', 'D-GGA-L-A-ARA-GARVV-G-WQR-TGM-L', 'RVL-RM-G-GH-G-V-RI-E-GF-KVI-P-L', 'EA-V-Y-GG-G-G-S-VQAG-WA-S-W-D-I-N-R-VVT-KT-LT', 'LGG-I-GG-GL-A-VV-A-IA-L-E-YEN', 'RA-VVGGSG-G-TI-GF-GL-GF', 'DIRV-IA-GG-RQ-L-L-L-G-Q-D-LA-FD-H-D-I-F-N', 'AL-GL-GQNLI-A-N-G', 'SI-L-KN-T-KVI-G-F-G-F-AIA-G-PV', 'LG-AG-KIL-R-R-L-E-VTG-G-V-G', 'KGDEV-V-FVD-P-K-G-I-G-D-A-DVVV-R-D-I-ED-S', 'MP-AV-GAAG-AEM-D-E-G-VM-VA-V-V-L-A-L', 'RKVV-VGGG-GG-AA-LA-PSI-V-D-AS-PM-GKVAA-VV', 'KVSVVGAAG-VG-A-A-H-VVITAGI-RQPGQ-R-DL-NA-IMEDI-QS-PVD', 'RC-Y-N-GAS-G-CGVP-S-IA-A-IK-G', 'DQ-EVR-A-RGFM-V-P-H-A-D-YL-E-E-LFR-L', 'T-IL-DTARFRFLLGE-FSVP-NVHA-IIGEHGDTELPVWSQA-I-GV-P-EKKGAT-YG-A-GLARVTRAILHN-IL-SA-LDG-YG-EDV-GVPA-NGIREVIE-LND-EKN-A-LKS', 'G-C-N-GHC-C-C-GF-G-C', 'L-S-CSKCRK-C-DT-C-CRKNQY-N-C']\n"
     ]
    }
   ],
   "source": [
    "#Positive Pairs\n",
    "pos_pairs_alignments = []\n",
    "for f in pos_pairs_filelist:\n",
    "    a, b = return_sequences(*f)\n",
    "    score_matrix = matrix(a, b, BLOSUM50, similarity_matrix_index, 10, 4)\n",
    "    alignment, number = traceback(score_matrix, b)\n",
    "    pos_pairs_alignments.append(alignment)\n",
    "print(pos_pairs_alignments)"
   ]
  },
  {
   "cell_type": "code",
   "execution_count": 21,
   "metadata": {},
   "outputs": [
    {
     "name": "stdout",
     "output_type": "stream",
     "text": [
      "['S-A-FD-EK-P-F-YN-RE-LQI-K', 'EP-CAG-H-G', 'NLEEV-KL-C-LVR-I', 'P-DSQ-IK-L-NVM-L-D-L', 'IE-K-C-C-GA-N-R-A-I-G-KC', 'P-G-V-SD-D-VV-G-RQ-KPGQS-L-A', 'ANHIISI-LNLV-F-E-LS-F-FSDS-L-K-SG-D-F-ET-Q', 'VEE-N-L-NQT-K', 'QR-GKK-WSNAG-P', 'DA-Q-IQ-V-SA-T', 'A-AP-D-A-GG-FFH-GS-HT-SS-G-S', 'PT-L-G-D-R', 'S-T-Q-GK-F-AL-I', 'M-ITQQA-PQV-AS-G-L-T-T-VA-PGD-DG-I-A-E-Y-K-GL', 'TPIE-L-D-E-WKITMNDGST-DL', 'F-LGDG-SFST-RG-W-E-G-SSL', 'MD-S-S-S-YS-NG-G-PY-V-D', 'MK-PVT-L-DVAE-S-QT-VNQ', 'P-FG-DA-IVL', 'KY-PQT-SG-FQ-G-GI-KIK-IG-P-E-Y-A', 'MRLG-D-LE-D-A-DSVAA-G-AAR-G-AV', 'METR-V-Y-WS-FFK-Q-EVG-MK', 'ID-GH-VDSL-V-C-Q-C-G-K-L', 'FVPGQ-ET-AE-G-D-G-E-A-VEM-G-F-P', 'QQ-I-G-G-G-VGC-PSA-Q-K-H-G-V-G-P', 'A-KP-I-Y-WI-KF', 'T-N-AA-VD-Y-V-EEV-AA-DA-A-L', 'Y-N-A-D-V-DL-RG-Q-K-FI-V-G-L-L-A-VA-LS', 'M-RL-PLT-AE-RIN-PFV-G-GQV-KHV', 'ER-VL-G-Q-RS-D-KRLA-HAQT-D-WA', 'M-QNI-GN-A-D-RA-L-G-F-DAI-SAV-DK-E-M-LAANGD', 'MKT-RI-N-F-A-D-ELV-V', 'AL-RVR-G-DL-G-P-G', 'ANNLF-SNGVSQ-AIL-VF-PSA-KHG', 'ML-LNS-E-RG-W', 'KR-V-ELER-Q-PEREH-P-IW-Y-MK-Q-K', 'SEK-DQ-C-CTK-P', 'R-R-V-D-G-L-EK-GVR-Y-VSE-Q-L-KIT', 'N-ML-D-T-SG-A-E-IA-K-CAV-S-P-V-I', 'V-RILN-KQ-P-AM-I-RQE-R-G', 'ZH-AD-P-NK', 'KI-S-F-G-G-G', 'LHYK-Q-LVD-P-IE-F', 'N-S-P-VT-HK-S-L-GS-K-NQ-F', 'E-V-YG-G-G-L-R-G-W-N-GKT', 'EKQ-F-E-IKD-VTK', 'PK-QSES-G-L-D-P-DAS-GD', 'K-RGS-CE-D-G', 'EEG-V-KFK-PK-CL-NT-C-P', 'LRSA-RWD-MA-D-S-G']\n"
     ]
    }
   ],
   "source": [
    "#Negative Pairs\n",
    "neg_pairs_alignments = []\n",
    "for f in neg_pairs_filelist:\n",
    "    a, b = return_sequences(*f)\n",
    "    score_matrix = matrix(a, b, BLOSUM50, similarity_matrix_index, 10, 4)\n",
    "    alignment, number = traceback(score_matrix, b)\n",
    "    neg_pairs_alignments.append(alignment)\n",
    "print(neg_pairs_alignments)"
   ]
  },
  {
   "cell_type": "markdown",
   "metadata": {},
   "source": [
    "Now, I'm writing a new function that gives me the score for a given alignment based on a given sim_matrix (which, remember, is actually the substitution/score matrix)."
   ]
  },
  {
   "cell_type": "code",
   "execution_count": 22,
   "metadata": {},
   "outputs": [],
   "source": [
    "def aligned_seq_score(alignment, match_score_similarity_matrix, similarity_matrix_index):\n",
    "    score = 0\n",
    "    flag = 0\n",
    "    for character in alignment:\n",
    "        if character == '-' and flag == 0: #it's the beginning of a gap\n",
    "            added_value = -10 #give it gap opening penalty\n",
    "            score = score + added_value\n",
    "            flag = 1 #show we're now in the midst of a gap\n",
    "        elif character == '-' and flag == 1: #we're in the middle of a gap\n",
    "            added_value = -4 #give it extension penalty\n",
    "            score = score + added_value\n",
    "            flag = 1 #show we're still in the midst of a gap\n",
    "        else: #in this case, we have a non-gap alignment, so give it the score specified in the similarity matrix\n",
    "            added_value = match_score_similarity_matrix[similarity_matrix_index[character], similarity_matrix_index[character]]\n",
    "            score = score + added_value\n",
    "            flag = 0 #we're not in a gap\n",
    "    return score"
   ]
  },
  {
   "cell_type": "markdown",
   "metadata": {},
   "source": [
    "I have a clear problem--my aligned_seq_score and score function for my matrix don't return the same values. I have spent a lot of time trying to debug it, but cannot. I'm thinking this issue probably has to do with the fact that I'm only taking into account the diagnol (when amino acids perfectly align) versus when similar-but-not-quite amino acids align. However, I'm having trouble conceptually figuring how to fix this. Therefore, I will use this flawed score function for the rest of my homework, accepting that the rest of my answers may not be valid due to this discrepancy."
   ]
  },
  {
   "cell_type": "code",
   "execution_count": 23,
   "metadata": {},
   "outputs": [
    {
     "data": {
      "text/plain": [
       "13"
      ]
     },
     "execution_count": 23,
     "metadata": {},
     "output_type": "execute_result"
    }
   ],
   "source": [
    "aligned_seq_score(neg_pairs_alignments[3], BLOSUM50, similarity_matrix_index)"
   ]
  },
  {
   "cell_type": "code",
   "execution_count": 24,
   "metadata": {},
   "outputs": [
    {
     "data": {
      "text/plain": [
       "38"
      ]
     },
     "execution_count": 24,
     "metadata": {},
     "output_type": "execute_result"
    }
   ],
   "source": [
    "a, b = return_sequences(*neg_pairs_filelist[3])\n",
    "score_matrix = matrix(a, b, BLOSUM50, similarity_matrix_index, 10, 4)\n",
    "score(score_matrix)"
   ]
  },
  {
   "cell_type": "markdown",
   "metadata": {},
   "source": [
    "Now that I have the \"score\" of each alignment, I will write a function to tell me the value of my \"objective function\" for that alignment is."
   ]
  },
  {
   "cell_type": "code",
   "execution_count": 201,
   "metadata": {},
   "outputs": [],
   "source": [
    "def return_threshold_FPR(similarity_matrix, goal_FPR, negative_alignment_list):\n",
    "    neg_pairs_scores = []\n",
    "    for alignment in negative_alignment_list:\n",
    "        score = aligned_seq_score(alignment, similarity_matrix, similarity_matrix_index) #calculates the score matrix for two sequences\n",
    "        neg_pairs_scores.append(score) #finds the score from the score matrix and appends to list\n",
    "    neg_pairs_scores = np.array(neg_pairs_scores)\n",
    "    threshold = np.sort(neg_pairs_scores)[int(49 * (1 - goal_FPR))] #picks threshold as the score based on desired TPR\n",
    "    return threshold"
   ]
  },
  {
   "cell_type": "code",
   "execution_count": 202,
   "metadata": {},
   "outputs": [],
   "source": [
    "def find_TPR(threshold, similarity_matrix, positive_alignment_list):\n",
    "    pos_pairs_scores = []\n",
    "    for alignment in positive_alignment_list:\n",
    "        score = aligned_seq_score(alignment, similarity_matrix, similarity_matrix_index) #note all similarity matrix indices are the same\n",
    "        pos_pairs_scores.append(score)\n",
    "    TPR = (np.array(pos_pairs_scores) > threshold).mean()\n",
    "    return TPR"
   ]
  },
  {
   "cell_type": "code",
   "execution_count": 205,
   "metadata": {},
   "outputs": [],
   "source": [
    "def obj_value(sim_matrix, negative_alignment_list, positive_alignment_list):\n",
    "    TPRs = []\n",
    "    for goal_FPR in [0.0, 0.1, 0.2, 0.3]:\n",
    "        threshold = return_threshold_FPR(sim_matrix, goal_FPR, negative_alignment_list)\n",
    "        TPR = find_TPR(threshold, sim_matrix, positive_alignment_list)\n",
    "        TPRs.append(TPR)\n",
    "    TPRs = np.array(TPRs)\n",
    "    sum_TPR = TPRs.sum()\n",
    "    return sum_TPR\n",
    "        "
   ]
  },
  {
   "cell_type": "code",
   "execution_count": 206,
   "metadata": {},
   "outputs": [
    {
     "data": {
      "text/plain": [
       "1.12"
      ]
     },
     "execution_count": 206,
     "metadata": {},
     "output_type": "execute_result"
    }
   ],
   "source": [
    "obj_value(BLOSUM50, neg_pairs_alignments, pos_pairs_alignments)"
   ]
  },
  {
   "cell_type": "markdown",
   "metadata": {},
   "source": [
    "For my optimization algorithm, I will be using a gradient descent with the goal of minimizing a cost function: the L1 loss betwen 4 and my obj_value (whose maximum value is 4).\n",
    "\n",
    "In this case, my parameters will be particular cells within my matrix. Since my aligned_seq_score function only takes into account the diagnol, I will specifically focus on changing the values of the twenty values making up this diagnol, or when an amino acid aligns with another amino acid. As such, I am experimenting with 24 different parameters, which I will name after the amino acids each diagnol corresponds to.\n",
    "\n",
    "Since my function isn't differentiable, I'll be finding the partial derivative numerically.\n",
    "\n",
    "So update--and I'll have 24 of them which I will complete using a loop--is:\n",
    "parameter = parameter - [learning rate] * d(cost function)/d(parameter, specific amino acid cell)"
   ]
  },
  {
   "cell_type": "code",
   "execution_count": 197,
   "metadata": {},
   "outputs": [],
   "source": [
    "BLOSUM50, similarity_matrix_index = load_sim_matrix('BLOSUM50') #re-initializing my BLOSUM50 matrix\n",
    "BLOSUM50, BLOSUM50_i = load_sim_matrix('BLOSUM50') #I was bad and used \"BLOSUM50_i\" as my index name sometimes, so I'm reloading that as well"
   ]
  },
  {
   "cell_type": "code",
   "execution_count": 221,
   "metadata": {},
   "outputs": [],
   "source": [
    "def grad_descent(sim_matrix, negative_alignment_list, positive_alignment_list, learning_rate=0.1):\n",
    "    sim_matrix = sim_matrix.astype(float)\n",
    "    \n",
    "    \n",
    "    AA_list = [\"A\", \"R\", \"N\", \"D\", \"C\", \"Q\", \"E\", \"G\", \"H\", \"I\", \"L\", \"K\", \n",
    "        \"M\", \"F\", \"P\", \"S\", \"T\", \"W\", \"Y\", \"V\", \"B\", \"Z\", \"X\", \"x\"]\n",
    "    \n",
    "    #updating the amino acids\n",
    "    for iterations in range(50): #I would generally use more iterations, but the algorithm takes awhile to run and I got improvement with only 50, so I'm going with it.\n",
    "        for AA in AA_list: #iterating through each--for ref, each \"AA\" refers to one of the values in matrix I'm trying to change\n",
    "            #Calculate partial derivative of each \"diagnol value\"\n",
    "            h=0.01 #small number to shift value of my matrix slightly\n",
    "            new_matrix = sim_matrix #creating copy of sim_matrix that I can add \"h\" to in order to calculate the loss function when one value of the matrix is changed slightly\n",
    "            new_matrix[similarity_matrix_index[AA], similarity_matrix_index[AA]] = new_matrix[similarity_matrix_index[AA], similarity_matrix_index[AA]] + h\n",
    "            new_value = obj_value(new_matrix, negative_alignment_list, positive_alignment_list)\n",
    "            new_cost = np.abs(4 - new_value) #value of loss function when one value of sim_matrix is shifted by small value \"h\"\n",
    "        \n",
    "            old_value = obj_value(sim_matrix, negative_alignment_list, positive_alignment_list)\n",
    "            old_cost = np.abs(4 - old_value) #value of loss function with current sim_matrix\n",
    "            p_derivative = (new_cost - old_cost)/h #calculation of partial derivative: dC/d(AA) = (L(AA + h) - L(AA))/h\n",
    "            \n",
    "            #my update: value = value - learning_rate * dC/d(AA)\n",
    "            sim_matrix[similarity_matrix_index[AA], similarity_matrix_index[AA]] = sim_matrix[similarity_matrix_index[AA], similarity_matrix_index[AA]] - learning_rate * p_derivative\n",
    "    \n",
    "    \n",
    "    return sim_matrix"
   ]
  },
  {
   "cell_type": "markdown",
   "metadata": {},
   "source": [
    "### Part 2 Question 2"
   ]
  },
  {
   "cell_type": "markdown",
   "metadata": {},
   "source": [
    "I am now implementing my gradient descent method on BLOSUM50."
   ]
  },
  {
   "cell_type": "code",
   "execution_count": 222,
   "metadata": {},
   "outputs": [],
   "source": [
    "new_BLOSUM50 = grad_descent(BLOSUM50, neg_pairs_alignments, pos_pairs_alignments)"
   ]
  },
  {
   "cell_type": "code",
   "execution_count": 223,
   "metadata": {},
   "outputs": [
    {
     "data": {
      "text/plain": [
       "array([[ 5.5, -2. , -1. , -2. , -1. , -1. , -1. ,  0. , -2. , -1. , -2. ,\n",
       "        -1. , -1. , -3. , -1. ,  1. ,  0. , -3. , -2. ,  0. , -2. , -1. ,\n",
       "        -1. , -5. ],\n",
       "       [-2. ,  7.5, -1. , -2. , -4. ,  1. ,  0. , -3. ,  0. , -4. , -3. ,\n",
       "         3. , -2. , -3. , -3. , -1. , -1. , -3. , -1. , -3. , -1. ,  0. ,\n",
       "        -1. , -5. ],\n",
       "       [-1. , -1. ,  7.5,  2. , -2. ,  0. ,  0. ,  0. ,  1. , -3. , -4. ,\n",
       "         0. , -2. , -4. , -2. ,  1. ,  0. , -4. , -2. , -3. ,  4. ,  0. ,\n",
       "        -1. , -5. ],\n",
       "       [-2. , -2. ,  2. ,  8.5, -4. ,  0. ,  2. , -1. , -1. , -4. , -4. ,\n",
       "        -1. , -4. , -5. , -1. ,  0. , -1. , -5. , -3. , -4. ,  5. ,  1. ,\n",
       "        -1. , -5. ],\n",
       "       [-1. , -4. , -2. , -4. , 13.5, -3. , -3. , -3. , -3. , -2. , -2. ,\n",
       "        -3. , -2. , -2. , -4. , -1. , -1. , -5. , -3. , -1. , -3. , -3. ,\n",
       "        -2. , -5. ],\n",
       "       [-1. ,  1. ,  0. ,  0. , -3. ,  7.5,  2. , -2. ,  1. , -3. , -2. ,\n",
       "         2. ,  0. , -4. , -1. ,  0. , -1. , -1. , -1. , -3. ,  0. ,  4. ,\n",
       "        -1. , -5. ],\n",
       "       [-1. ,  0. ,  0. ,  2. , -3. ,  2. ,  6.5, -3. ,  0. , -4. , -3. ,\n",
       "         1. , -2. , -3. , -1. , -1. , -1. , -3. , -2. , -3. ,  1. ,  5. ,\n",
       "        -1. , -5. ],\n",
       "       [ 0. , -3. ,  0. , -1. , -3. , -2. , -3. ,  8.5, -2. , -4. , -4. ,\n",
       "        -2. , -3. , -4. , -2. ,  0. , -2. , -3. , -3. , -4. , -1. , -2. ,\n",
       "        -2. , -5. ],\n",
       "       [-2. ,  0. ,  1. , -1. , -3. ,  1. ,  0. , -2. , 10.5, -4. , -3. ,\n",
       "         0. , -1. , -1. , -2. , -1. , -2. , -3. ,  2. , -4. ,  0. ,  0. ,\n",
       "        -1. , -5. ],\n",
       "       [-1. , -4. , -3. , -4. , -2. , -3. , -4. , -4. , -4. ,  5.5,  2. ,\n",
       "        -3. ,  2. ,  0. , -3. , -3. , -1. , -3. , -1. ,  4. , -4. , -3. ,\n",
       "        -1. , -5. ],\n",
       "       [-2. , -3. , -4. , -4. , -2. , -2. , -3. , -4. , -3. ,  2. ,  5.5,\n",
       "        -3. ,  3. ,  1. , -4. , -3. , -1. , -2. , -1. ,  1. , -4. , -3. ,\n",
       "        -1. , -5. ],\n",
       "       [-1. ,  3. ,  0. , -1. , -3. ,  2. ,  1. , -2. ,  0. , -3. , -3. ,\n",
       "         6.5, -2. , -4. , -1. ,  0. , -1. , -3. , -2. , -3. ,  0. ,  1. ,\n",
       "        -1. , -5. ],\n",
       "       [-1. , -2. , -2. , -4. , -2. ,  0. , -2. , -3. , -1. ,  2. ,  3. ,\n",
       "        -2. ,  7.5,  0. , -3. , -2. , -1. , -1. ,  0. ,  1. , -3. , -1. ,\n",
       "        -1. , -5. ],\n",
       "       [-3. , -3. , -4. , -5. , -2. , -4. , -3. , -4. , -1. ,  0. ,  1. ,\n",
       "        -4. ,  0. ,  8.5, -4. , -3. , -2. ,  1. ,  4. , -1. , -4. , -4. ,\n",
       "        -2. , -5. ],\n",
       "       [-1. , -3. , -2. , -1. , -4. , -1. , -1. , -2. , -2. , -3. , -4. ,\n",
       "        -1. , -3. , -4. , 10.5, -1. , -1. , -4. , -3. , -3. , -2. , -1. ,\n",
       "        -2. , -5. ],\n",
       "       [ 1. , -1. ,  1. ,  0. , -1. ,  0. , -1. ,  0. , -1. , -3. , -3. ,\n",
       "         0. , -2. , -3. , -1. ,  5.5,  2. , -4. , -2. , -2. ,  0. ,  0. ,\n",
       "        -1. , -5. ],\n",
       "       [ 0. , -1. ,  0. , -1. , -1. , -1. , -1. , -2. , -2. , -1. , -1. ,\n",
       "        -1. , -1. , -2. , -1. ,  2. ,  5.5, -3. , -2. ,  0. ,  0. , -1. ,\n",
       "         0. , -5. ],\n",
       "       [-3. , -3. , -4. , -5. , -5. , -1. , -3. , -3. , -3. , -3. , -2. ,\n",
       "        -3. , -1. ,  1. , -4. , -4. , -3. , 15.5,  2. , -3. , -5. , -2. ,\n",
       "        -3. , -5. ],\n",
       "       [-2. , -1. , -2. , -3. , -3. , -1. , -2. , -3. ,  2. , -1. , -1. ,\n",
       "        -2. ,  0. ,  4. , -3. , -2. , -2. ,  2. ,  8.5, -1. , -3. , -2. ,\n",
       "        -1. , -5. ],\n",
       "       [ 0. , -3. , -3. , -4. , -1. , -3. , -3. , -4. , -4. ,  4. ,  1. ,\n",
       "        -3. ,  1. , -1. , -3. , -2. ,  0. , -3. , -1. ,  5.5, -4. , -3. ,\n",
       "        -1. , -5. ],\n",
       "       [-2. , -1. ,  4. ,  5. , -3. ,  0. ,  1. , -1. ,  0. , -4. , -4. ,\n",
       "         0. , -3. , -4. , -2. ,  0. ,  0. , -5. , -3. , -4. ,  5.5,  2. ,\n",
       "        -1. , -5. ],\n",
       "       [-1. ,  0. ,  0. ,  1. , -3. ,  4. ,  5. , -2. ,  0. , -3. , -3. ,\n",
       "         1. , -1. , -4. , -1. ,  0. , -1. , -2. , -2. , -3. ,  2. ,  5.5,\n",
       "        -1. , -5. ],\n",
       "       [-1. , -1. , -1. , -1. , -2. , -1. , -1. , -2. , -1. , -1. , -1. ,\n",
       "        -1. , -1. , -2. , -2. , -1. ,  0. , -3. , -1. , -1. , -1. , -1. ,\n",
       "        -0.5, -5. ],\n",
       "       [-5. , -5. , -5. , -5. , -5. , -5. , -5. , -5. , -5. , -5. , -5. ,\n",
       "        -5. , -5. , -5. , -5. , -5. , -5. , -5. , -5. , -5. , -5. , -5. ,\n",
       "        -5. ,  1.5]])"
      ]
     },
     "execution_count": 223,
     "metadata": {},
     "output_type": "execute_result"
    }
   ],
   "source": [
    "new_BLOSUM50"
   ]
  },
  {
   "cell_type": "code",
   "execution_count": 226,
   "metadata": {},
   "outputs": [
    {
     "data": {
      "text/plain": [
       "1.24"
      ]
     },
     "execution_count": 226,
     "metadata": {},
     "output_type": "execute_result"
    }
   ],
   "source": [
    "obj_value(new_BLOSUM50, neg_pairs_alignments, pos_pairs_alignments)"
   ]
  },
  {
   "cell_type": "markdown",
   "metadata": {},
   "source": [
    "My optimized BLOSUM50 matrix has an objective function value of 1.24 as compared to the original BLOSUM50 matrix which had a value of 1.12. This is a slight improvement but still an improvement of 0.12!"
   ]
  },
  {
   "cell_type": "markdown",
   "metadata": {},
   "source": [
    "Now, I am going to create new alignments using my optimized BLOSUM50 and calculate a new score for each of them."
   ]
  },
  {
   "cell_type": "code",
   "execution_count": 212,
   "metadata": {},
   "outputs": [
    {
     "name": "stdout",
     "output_type": "stream",
     "text": [
      "['SLE-AK-N-AR-N-P-A-QGQKI-A-R-F-EG-TTIG-EIN', 'A-ED-AV-R-SAL-SP-PDA-QIK-DI-V-LS-A-G-L-K-AAA-HD-YR', 'K-L-QEILN-INN-KT-T-K-T-EKH-C-LI', 'GAQ-N-C-ACHG-SPKT-DKAA-DG-Q-G-AMP-EEIQAA', 'LND-FKQ-F-FD-N-DGSI-DF-MR-DM-D-DI-K-L-GIVD-EFQN-NF-D-I-D-G-GKVTFD-RLLTS', 'G-KRK-R-V-GLGSHI-SKT', 'P-RT-EDFS-YGAMV-I-D-L-PT-R-RY-P-N-YQ-EP-P-I-I-R-G-P-L-N-MEQ-ND-FW-F-PR', 'EKV-AAK-F-RR-L-G-P-YV-K-ED', 'F-PE-A-CSTT-F-ID-G', 'P-PT-IAW-KNA-VSS-GT-IL-NGE-A', 'PD-P-LN-I-HWE-D-Y-LQYK-W-T-S-LK-RV', 'P-T-LCA-F-QV-S-L-Y-G-V-Y-D-E-E-I', 'I-GEA-T-G-ITLQ-HCVH-S-SA-I-HS-P-DI-TNV-QPGD-G-S-FG-S-G-S-GAG-CESG-F-VT-MD', 'V-DF-LG-W-K-P-KN-G-ILT-LK-H-S-TA-D-T-G-K-V-D-D-I-GAV-RTYE', 'DV-LNS-GGM-F-PA-PGDSI-F-G-V-GAD-K-TVGQE-VK-E-Y-F-CAPH-GMVA-VVVG', 'MINT-H-N-TAG-V-QN-I-DI-D-L-AF-PIT-D-TLN-GQ-VY-G-N-L', 'KAI-K-AW-GC-A-K-S-N-SSER-PV-G-DN-KD-D-L-S', 'F-R-P-A-P-D-TD-RF-DT-FTA-DN-VL-A-T-FP-S-TAYNAL-PG-S-K-V-AM-I-IL-NV-IS-N-P-N-V-L-Y-NPN-SM', 'EN-D-D-A-V-VG-G-P-S-C-DTA-G-L-R-G-T-VF-PQT-GP-Q-F-P', 'RYA-IG-C-Y-P-N-YN-R-EMK-R-N-S-G-N-GN-WN-V-NH-G-WDA-GQD-DY-N-I-EA-M', 'DALKE-Q-GV-VGS-YGN-PA-N-F-C-N-LK-FQ-Q-MAL-Q-P-GD-D-FVG-KE-L-T-G-I-WE-L-G', 'ME-N-L-DRR-F-F-VT-PI-D-DG-VT-EM-L-E-N-D-D-V-A-RQ-H-A-FI-DL-V', 'A-VKV-Y-L-GK-T-ERIL-YT-H-AA-M-F-D-Q-VMLK-L-E-GE-IRK-K-T-VF-K-VQL-D-V-D-Y', 'A-KG-F-V-G-D-KTTL-L-F-DID-R-I-LVVSA-D-EHIL-ARQ-F-NK-DM-M-D-LN-Y-F-K', 'PYIV-YF-VRG-RMLL-DQGWKEE-SNAILRHLGRS', 'LD-G-G-IRQV-S-R-KV-RKLI-E-I-Q-YF-I-GVA', 'DS-AG-PL-L-IVD-QSS-T-KT-I-H-GF-D-G-A-VA-LGV-F-DY-TDP-F-G-G-PG-CQ-Q-V-GV', 'DNVV-I-P-W-AHH-A-V-L-V-D-G-G-VER-A-ATN-L-D-EIPS-I-D-K-A-Y-GQ-IAAKNF-R-AKK-D-K-D-I', 'MK-A-PVRV-A-G-A-A-G-I-SL-A-G-Q-I-EGV-VM-LDAFP-DPD-A-D', 'YEI-G-IC-AG-K-WQ-RE-SG-G-GVG', 'G-S-G-S-IN-A-Q-CALI-GGT-CVN-FDT-KFN-Y-ID-I-G', 'A-G-VVVV-GTGA-AAK-I-PS-V-L-I-G-D-G-D-T-GAE-F-RVA-GE-DKI-RA', 'D-GGAGL-A-ARAVAA-GA-L-E-EL-G-R-D-WQR-G-IS-GMF-V-R', 'RVL-D-RMPTI-G-GH-G-V-FM-R-I-GGA-V-E-YY-L-L-P-NV-M-ND-KS-E-YD-GK', 'EA-LV-Y-GGGL-G-EN-D-I-G-G-GNA-W-Q-IW-G-NS-GP-G-R-P-DFS-P-H-D-I-N-R-VVTG-KT-LT', 'LGG-I-GG-GLGA-K-A-VV-A-E-A-A-ELG-A-H-V-E-N', 'RA-VVGGSG-D-L-GG-TI-GF-P-G-F-V-S-PNSA-L-W-R-I-V-Y-TNDN-D-V-L-A-G-NKP', 'DIRV-IA-GG-G-L-Q-L-L-G-Q-D-LA-F-HLAF-H-AAD-V-L-GLF-D-L', 'AL-GL-GQNLL-A-N-K-V-G-VS-IDG-G-R-DT-RR-L-PSA-G', 'SI-L-I-N-A-G-T-GK-G-L-NT-PACD-I-G', 'LG-AGRGEKIIR-L-G-G-G-L-QN-D-E-DV', 'KGDEV-V-F-VD-PKE-G-I-Y-SR-G-D-A-GDVVV-R-D-ED-D-D', 'MP-AV-GAGQ-AAEM-RA-V-KK-V-N-N-L', 'RKVV-VGGG-GG-AA-K-LA-PSI-V-CLNVG-H-AG-G-I-K-W-V-D-K-E-M-QGKVAA-VV', 'KVSVVGAAG-VG-A-A-I-P-D-NHI-R-DA-VVITAGI-RQPGQ-R-DL-NA-IMEDI-QS-PVD', 'RT-DYGV-IDT-PGS-CGVP-S-IA-DL-A-IK-G', 'DQ-EVR-A-I-F-V-R-GFM-V-P-FI-T-H-A-D-AE-YL-VFN-RH-VLT-FD-L-A-R-A-D-K-VF-RDPE-F-F-IGG-IGN', 'T-IL-DTARFRFLLGE-FSVP-NVHA-IIGEHGDTELPVWSQA-I-GV-P-IEKKGAT-YG-A-GLARVTRAILHN-IL-SA-LDG-YG-EDV-GVPV-NGIREVIE-LDD-EKN-A-LS', 'G-C-N-GHC-C-C-GF-G-C-E', 'L-S-CSKCRKG-C-DT-C-CRKNQY-N-C']\n"
     ]
    }
   ],
   "source": [
    "#Positive Pairs\n",
    "pos_pairs_alignments_optimized = []\n",
    "for f in pos_pairs_filelist:\n",
    "    a, b = return_sequences(*f)\n",
    "    score_matrix = matrix(a, b, new_BLOSUM50, similarity_matrix_index, 10, 4)\n",
    "    alignment, number = traceback(score_matrix, b)\n",
    "    pos_pairs_alignments_optimized.append(alignment)\n",
    "print(pos_pairs_alignments_optimized)"
   ]
  },
  {
   "cell_type": "markdown",
   "metadata": {},
   "source": [
    "Now that I've created new positive alignments using my optimized matrix, I want to compare how my alignments compare between the two matrices:"
   ]
  },
  {
   "cell_type": "code",
   "execution_count": 218,
   "metadata": {},
   "outputs": [
    {
     "name": "stdout",
     "output_type": "stream",
     "text": [
      "['SLE-AK-R-Y-Y-N-P-A-QGQKI-LA-V', 'A-ED-AV-R-SAL-SP-P-QIK-G-EG-A-I-FKQK-Q', 'K-L-LEHILN-INN-K-T-K-T-E-C-LI', 'GAQ-N-C-ACH-G-NS-A-D-GGF-G-AMP-EIQAV']\n",
      "['SLE-AK-N-AR-N-P-A-QGQKI-A-R-F-EG-TTIG-EIN', 'A-ED-AV-R-SAL-SP-PDA-QIK-DI-V-LS-A-G-L-K-AAA-HD-YR', 'K-L-QEILN-INN-KT-T-K-T-EKH-C-LI', 'GAQ-N-C-ACHG-SPKT-DKAA-DG-Q-G-AMP-EEIQAA']\n"
     ]
    }
   ],
   "source": [
    "print(pos_pairs_alignments[0:4])\n",
    "print(pos_pairs_alignments_optimized[0:4])"
   ]
  },
  {
   "cell_type": "code",
   "execution_count": 213,
   "metadata": {},
   "outputs": [
    {
     "name": "stdout",
     "output_type": "stream",
     "text": [
      "['S-A-FD-EK-P-LF-YN-RE-LQI-K', 'EP-NN-C-G-H', 'L-L-AK-G-TK-RF-WMEEV', 'DT-PF-KD-NN-VR-N-KM-A-H-DG-LA-T-L-VE-DV-K-V', 'IE-K-C-CDGA-N-PKC-VK', 'P-G-V-SD-I-R-RQ-KPGQS-L-A-P', 'ANHIISI-LNLV-L-AS-F-E-TRLS-F-VV-FSDAN-K-GG-D-F-ET-Q', 'VEE-N-LENQTA-KK', 'QR-GKK-Q-WS-S-P-W', 'DA-Q-IQ-V-SA-L-T-T', 'A-AP-D-A-I-G-D-F-H-GS-HT-W-HRA-LD-D-W-AS-FE-P', 'PT-L-GD-V-G-D', 'S-T-Q-GKNR-F-L-AL-S', 'M-ITQQA-PQV-AQ-GIS-G-T-VA-PG-DG-I-R-P-YA-E-Y-L-K-PLT', 'TPIE-L-P-KV-W-FDKK-AS-LD-WKITMNDGST-DL', 'F-LGDDVSFST-RG-G-H-T-AAQS-V-P-G-W-LAE-TVVI-RNG-D-L', 'MD-S-S-S-YS-T-KII-PH-FD-SV', 'MK-PVTDV-AEG-S-QT-VNQ-E-V', 'PVG-FGG-A-IVL', 'KY-PQ-G-TS-Q-IS-G-G-G-GI-S-G-FIFN-G-AI-F-E-Y-A', 'MRLG-DQALE-DAAR-D-DSVAA-A-G-KQSNT-LI-QT-GNA-K-A-V-LD-R-GE', 'MK-R-V-CNDYAS-C-R-A', 'ID-GH-VDSL-V-CS-G-Q-C-G-KL-N', 'WTPA-A-R-Q-G-G-ALVA-I-A-PSH-A-P-W-VY-V-E-L-EV-V', 'QQ-I-G-GGVA-Q-LVE-Q-L-GC-PKA-Q-G-V-G-CE-A-SS-VEL-PR-E-G', 'A-KP-I-Y-WI-KF', 'T-NI-AAVI-W-DH-YG-I-RI-Q-H-E-A-AKLT-CF', 'Y-N-A-D-V-DL-RG-KN-Y-L-LK-P-SNQG-AI-Q-DY-L-A-VA-LS', 'L-I-PTT-V-W-R-I-I-K-HV-GA-AE-RQ-RS-V-D-V-P-TV-D-L-LQ', 'ER-VL-G-Q-RSIA-Q-L-E-A-PE-D-L-TGWA-W-L-G', 'M-QNI-GNDTA-A-KD-RA-F-ID-Q-D-D-P-LE-D-V-S-T-F-A-RV-GT-A-EL-D-E-FA-G-SI-K-F-DA-D-LET-D', 'MKI-NG-RSTF-A-N-A-Y-S-R-V-VT-D-VIS-GTD-IV-T-R-I-I', 'SKVSLIGAAS-G-I-D-N-GAF-TAG', 'ANNLF-SNGVSQ-AIL-VF-PSA-V-A-YA-ASG-V-G-QN', 'D-K-KR-LSA-ENP-I-V-AR-GE', 'KR-V-ELER-QY-PEREH-P-I-W-H-Y-MK-Q-K-A', 'SEK-DQ-C-CTK-P', 'R-R-V-D-G-F-A-RGV-Y-VSE-Q-T-P-D-MIG-F-L', 'N-ML-D-TI-PSG-A-G-E-IA-K-CAV-EG-R-I-G', 'V-RILNAKQ-P-AM-P-I-RQE-R-G-E-H', 'ZH-AD-P-K', 'KI-S-F-G-KG-G', 'LHYK-GEASF-FD-RTD-GMVN-K-HL-G-SE-E-LN', 'N-S-P-VT-C-WM-KEQ-GS-Y-KSK-L-PN', 'E-YG-G-QVD-AA-L-G-NS-G-A-L-MN-W-F-K-R-GL-D-GKT-F', 'EK-PI-EA-I-D-I-VI-D', 'PK-QSES-G-L-D-P-DAS-GD', 'K-RGS-CE-D-C', 'EEG-V-KFK-PK-CL-NT-P-P', 'LRSA-DQ-WD-V-GELI-I-SL-SA-F']\n"
     ]
    }
   ],
   "source": [
    "#Negative Pairs\n",
    "neg_pairs_alignments_optimized = []\n",
    "for f in neg_pairs_filelist:\n",
    "    a, b = return_sequences(*f)\n",
    "    score_matrix = matrix(a, b, new_BLOSUM50, similarity_matrix_index, 10, 4)\n",
    "    alignment, number = traceback(score_matrix, b)\n",
    "    neg_pairs_alignments_optimized.append(alignment)\n",
    "print(neg_pairs_alignments_optimized)"
   ]
  },
  {
   "cell_type": "markdown",
   "metadata": {},
   "source": [
    "And below is my comparison between my negative pair alignments:"
   ]
  },
  {
   "cell_type": "code",
   "execution_count": 219,
   "metadata": {},
   "outputs": [
    {
     "name": "stdout",
     "output_type": "stream",
     "text": [
      "['S-A-FD-EK-P-F-YN-RE-LQI-K', 'EP-CAG-H-G', 'NLEEV-KL-C-LVR-I', 'P-DSQ-IK-L-NVM-L-D-L']\n",
      "['S-A-FD-EK-P-LF-YN-RE-LQI-K', 'EP-NN-C-G-H', 'L-L-AK-G-TK-RF-WMEEV', 'DT-PF-KD-NN-VR-N-KM-A-H-DG-LA-T-L-VE-DV-K-V']\n"
     ]
    }
   ],
   "source": [
    "print(neg_pairs_alignments[0:4])\n",
    "print(neg_pairs_alignments_optimized[0:4])"
   ]
  },
  {
   "cell_type": "markdown",
   "metadata": {},
   "source": [
    "There are definitely some changes in the sequence alignments--overall, it appears that my alignments have gotten a lot LONGER. \n",
    "\n",
    "Looking at my the values in my optimized matrix, correct alignments now have greater weights, so I'm assuming that what happened is that gaps are less likely, because even having one more matched amino acid makes up for it (since matched amino acids are now worth more than before, the algorithm is going to preferentially find more matching amino acids, even if that means more gaps are necessary)."
   ]
  },
  {
   "cell_type": "code",
   "execution_count": 214,
   "metadata": {},
   "outputs": [
    {
     "data": {
      "text/plain": [
       "1.54"
      ]
     },
     "execution_count": 214,
     "metadata": {},
     "output_type": "execute_result"
    }
   ],
   "source": [
    "obj_value(new_BLOSUM50, neg_pairs_alignments_optimized, pos_pairs_alignments_optimized)"
   ]
  },
  {
   "cell_type": "markdown",
   "metadata": {},
   "source": [
    "My obj_value is definitely better with my optimized matrix than it was before. Let's make some ROC curves now."
   ]
  },
  {
   "cell_type": "code",
   "execution_count": 216,
   "metadata": {},
   "outputs": [
    {
     "name": "stdout",
     "output_type": "stream",
     "text": [
      "[0.0, 0.0, 0.0, 0.02, 0.02, 0.1, 0.2, 0.26, 0.4, 0.46, 0.68]\n"
     ]
    }
   ],
   "source": [
    "#BLOSUM50_new ROC scores\n",
    "BLOSUM50_new_FPR = []\n",
    "for goal_TPR in ROC_TPR:\n",
    "    threshold = return_threshold(new_BLOSUM50,10, 4, goal_TPR)\n",
    "    FPR = find_FPR(threshold, new_BLOSUM50,10, 4)\n",
    "    BLOSUM50_new_FPR.append(FPR) \n",
    "print(BLOSUM50_new_FPR)"
   ]
  },
  {
   "cell_type": "code",
   "execution_count": 217,
   "metadata": {},
   "outputs": [
    {
     "data": {
      "text/plain": [
       "<Figure size 1440x1440 with 0 Axes>"
      ]
     },
     "execution_count": 217,
     "metadata": {},
     "output_type": "execute_result"
    },
    {
     "data": {
      "image/png": "[encoded data removed]",
      "text/plain": [
       "<Figure size 432x288 with 1 Axes>"
      ]
     },
     "metadata": {
      "needs_background": "light"
     },
     "output_type": "display_data"
    },
    {
     "data": {
      "text/plain": [
       "<Figure size 1440x1440 with 0 Axes>"
      ]
     },
     "metadata": {},
     "output_type": "display_data"
    }
   ],
   "source": [
    "sns.lineplot(x=BLOSUM50_FPR, y=ROC_TPR, label=\"old BLOSUM50\")\n",
    "sns.lineplot(x=BLOSUM50_new_FPR, y=ROC_TPR, label=\"optimized BLOSUM50\")\n",
    "sns.lineplot(x=[0,1],y=[0,1], label= \"X=Y\")\n",
    "plt.title(\"ROCs for optimized vs. non-optimized BLOSUM50\")\n",
    "plt.xlabel(\"FPR\")\n",
    "plt.ylabel(\"TPR\")\n",
    "plt.xlim(0,1)\n",
    "plt.xlim(0,1)\n",
    "#plt.axis('equal')\n",
    "plt.figure(figsize=(20,20))"
   ]
  },
  {
   "cell_type": "markdown",
   "metadata": {},
   "source": [
    "My optimized BLOSUM50 matrix  does give me better TPR vales at very low FPR values, which is expected because that's what I was trying to optimize for. Additionally, I am also getting better TPR values for FPR values from ~0.45 to 0.68.\n",
    "\n",
    "That said, my TPR values when my FPR is in the middle of that range (i.e. between 0.4 to 0.4) is actually LOWER, as if the improvement at the fringes came at the expense of accuracy in the middle. This results makes some level of sense, because I was only trying to optimize TPR for low FPR values, not higher FPR values."
   ]
  },
  {
   "cell_type": "markdown",
   "metadata": {},
   "source": [
    "### Part 2 Question 3"
   ]
  },
  {
   "cell_type": "code",
   "execution_count": 227,
   "metadata": {},
   "outputs": [],
   "source": [
    "new_MATIO = grad_descent(MATIO, neg_pairs_alignments, pos_pairs_alignments)"
   ]
  },
  {
   "cell_type": "code",
   "execution_count": 229,
   "metadata": {},
   "outputs": [
    {
     "data": {
      "text/plain": [
       "array([[ 0.5,  1. ,  1. , -6. , -2. ,  8. , -7. ,  4. , -6. , -1. , -1. ,\n",
       "         4. ,  1. ,  2. , -1. , -8. ,  7. ,  7. ,  4. , -8. , -1. ,  8. ,\n",
       "        -1. ,  9. ],\n",
       "       [ 1. , -0.5,  1. , -4. , -5. ,  3. ,  2. ,  3. ,  1. ,  0. , -7. ,\n",
       "        -2. , -9. ,  8. , -7. ,  2. , -4. , -4. ,  2. ,  0. ,  0. ,  6. ,\n",
       "        -7. ,  8. ],\n",
       "       [ 1. ,  1. , -5.5,  1. ,  5. ,  2. ,  4. , -3. , -5. , -8. ,  8. ,\n",
       "         9. ,  4. ,  7. ,  8. ,  1. , -2. , -7. ,  4. ,  1. ,  1. ,  0. ,\n",
       "         7. ,  0. ],\n",
       "       [-6. , -4. ,  1. ,  6.5,  0. ,  0. ,  0. , -8. , -9. ,  5. , -9. ,\n",
       "         3. ,  6. ,  7. ,  9. , -9. ,  4. ,  0. ,  6. ,  5. , -2. ,  3. ,\n",
       "         4. ,  0. ],\n",
       "       [-2. , -5. ,  5. ,  0. , -1.5,  2. ,  1. ,  2. , -2. ,  2. ,  0. ,\n",
       "        -6. ,  3. , -1. , -7. ,  3. , -4. ,  7. , -3. , -1. ,  8. ,  1. ,\n",
       "         3. ,  9. ],\n",
       "       [ 8. ,  3. ,  2. ,  0. ,  2. , -1.5, -4. ,  4. ,  5. ,  3. , -3. ,\n",
       "         4. ,  6. , -4. , -9. ,  1. ,  5. ,  1. , -7. ,  4. ,  2. ,  4. ,\n",
       "         0. , -7. ],\n",
       "       [-7. ,  2. ,  4. ,  0. ,  1. , -4. , -5.5,  5. ,  9. ,  0. , -1. ,\n",
       "        -4. ,  3. ,  5. ,  3. ,  6. , -6. ,  6. ,  6. , -1. , -8. ,  5. ,\n",
       "         3. , -9. ],\n",
       "       [ 4. ,  3. , -3. , -8. ,  2. ,  4. ,  5. ,  0.5,  2. , -7. , -8. ,\n",
       "         2. , -4. ,  9. ,  3. , -4. ,  5. , -9. ,  5. , -2. ,  8. , -5. ,\n",
       "         9. , -7. ],\n",
       "       [-6. ,  1. , -5. , -9. , -2. ,  5. ,  9. ,  2. ,  7.5,  5. , -4. ,\n",
       "        -8. , -4. ,  3. ,  8. ,  0. ,  1. , -7. , -1. ,  0. ,  1. ,  1. ,\n",
       "         1. , -4. ],\n",
       "       [-1. ,  0. , -8. ,  5. ,  2. ,  3. ,  0. , -7. ,  5. , -0.5,  8. ,\n",
       "         3. ,  5. , -1. ,  7. , -8. , -6. , -7. ,  2. , -1. , -7. , -4. ,\n",
       "        -3. , -9. ],\n",
       "       [-1. , -7. ,  8. , -9. ,  0. , -3. , -1. , -8. , -4. ,  8. ,  7.5,\n",
       "        -7. ,  4. , -1. , -7. ,  2. ,  2. ,  6. ,  4. ,  0. , -9. , -4. ,\n",
       "         0. , -6. ],\n",
       "       [ 4. , -2. ,  9. ,  3. , -6. ,  4. , -4. ,  2. , -8. ,  3. , -7. ,\n",
       "        -3.5, -9. ,  1. , -2. ,  1. ,  6. ,  8. , -6. ,  7. ,  9. , -5. ,\n",
       "         6. ,  9. ],\n",
       "       [ 1. , -9. ,  4. ,  6. ,  3. ,  6. ,  3. , -4. , -4. ,  5. ,  4. ,\n",
       "        -9. ,  6.5, -1. ,  0. ,  8. ,  2. , -7. ,  3. , -2. , -5. , -7. ,\n",
       "        -1. , -3. ],\n",
       "       [ 2. ,  8. ,  7. ,  7. , -1. , -4. ,  5. ,  9. ,  3. , -1. , -1. ,\n",
       "         1. , -1. , -2.5,  3. ,  4. , -1. ,  9. , -3. ,  8. , -5. ,  7. ,\n",
       "         1. , -3. ],\n",
       "       [-1. , -7. ,  8. ,  9. , -7. , -9. ,  3. ,  3. ,  8. ,  7. , -7. ,\n",
       "        -2. ,  0. ,  3. ,  0.5,  1. ,  9. ,  0. ,  4. ,  5. ,  7. , -3. ,\n",
       "         0. , -6. ],\n",
       "       [-8. ,  2. ,  1. , -9. ,  3. ,  1. ,  6. , -4. ,  0. , -8. ,  2. ,\n",
       "         1. ,  8. ,  4. ,  1. ,  2.5, -7. ,  8. , -7. ,  4. ,  6. ,  4. ,\n",
       "        -5. ,  8. ],\n",
       "       [ 7. , -4. , -2. ,  4. , -4. ,  5. , -6. ,  5. ,  1. , -6. ,  2. ,\n",
       "         6. ,  2. , -1. ,  9. , -7. ,  0.5,  0. ,  2. , -7. , -6. , -8. ,\n",
       "        -6. , -1. ],\n",
       "       [ 7. , -4. , -7. ,  0. ,  7. ,  1. ,  6. , -9. , -7. , -7. ,  6. ,\n",
       "         8. , -7. ,  9. ,  0. ,  8. ,  0. ,  6.5, -1. , -1. , -6. ,  4. ,\n",
       "        -7. ,  7. ],\n",
       "       [ 4. ,  2. ,  4. ,  6. , -3. , -7. ,  6. ,  5. , -1. ,  2. ,  4. ,\n",
       "        -6. ,  3. , -3. ,  4. , -7. ,  2. , -1. , -1.5,  0. , -9. ,  0. ,\n",
       "         6. ,  3. ],\n",
       "       [-8. ,  0. ,  1. ,  5. , -1. ,  4. , -1. , -2. ,  0. , -1. ,  0. ,\n",
       "         7. , -2. ,  8. ,  5. ,  4. , -7. , -1. ,  0. ,  5.5,  9. ,  6. ,\n",
       "         5. , -8. ],\n",
       "       [-1. ,  0. ,  1. , -2. ,  8. ,  2. , -8. ,  8. ,  1. , -7. , -9. ,\n",
       "         9. , -5. , -5. ,  7. ,  6. , -6. , -6. , -9. ,  9. , -6.5, -8. ,\n",
       "         7. , -7. ],\n",
       "       [ 8. ,  6. ,  0. ,  3. ,  1. ,  4. ,  5. , -5. ,  1. , -4. , -4. ,\n",
       "        -5. , -7. ,  7. , -3. ,  4. , -8. ,  4. ,  0. ,  6. , -8. ,  4.5,\n",
       "         1. , -8. ],\n",
       "       [-1. , -7. ,  7. ,  4. ,  3. ,  0. ,  3. ,  9. ,  1. , -3. ,  0. ,\n",
       "         6. , -1. ,  1. ,  0. , -5. , -6. , -7. ,  6. ,  5. ,  7. ,  1. ,\n",
       "         8.5, -4. ],\n",
       "       [ 9. ,  8. ,  0. ,  0. ,  9. , -7. , -9. , -7. , -4. , -9. , -6. ,\n",
       "         9. , -3. , -3. , -6. ,  8. , -1. ,  7. ,  3. , -8. , -7. , -8. ,\n",
       "        -4. ,  5.5]])"
      ]
     },
     "execution_count": 229,
     "metadata": {},
     "output_type": "execute_result"
    }
   ],
   "source": [
    "new_MATIO"
   ]
  },
  {
   "cell_type": "code",
   "execution_count": 230,
   "metadata": {},
   "outputs": [
    {
     "name": "stdout",
     "output_type": "stream",
     "text": [
      "0.08\n",
      "0.08\n"
     ]
    }
   ],
   "source": [
    "print(obj_value(MATIO, neg_pairs_alignments, pos_pairs_alignments))\n",
    "print(obj_value(new_MATIO, neg_pairs_alignments, pos_pairs_alignments))"
   ]
  },
  {
   "cell_type": "markdown",
   "metadata": {},
   "source": [
    "There doesn't appear to be any change in objective value score in the MATIO matrix following optimization. To see if there are any changes at all, let's plot ROC curves."
   ]
  },
  {
   "cell_type": "code",
   "execution_count": 232,
   "metadata": {},
   "outputs": [
    {
     "name": "stdout",
     "output_type": "stream",
     "text": [
      "[0.0, 0.0, 0.1, 0.14, 0.26, 0.28, 0.36, 0.38, 0.44, 0.66, 0.92]\n"
     ]
    }
   ],
   "source": [
    "#MATIO_new ROC scores\n",
    "MATIO_new_FPR = []\n",
    "for goal_TPR in ROC_TPR:\n",
    "    threshold = return_threshold(new_MATIO,10, 4, goal_TPR)\n",
    "    FPR = find_FPR(threshold, new_MATIO,10, 4)\n",
    "    MATIO_new_FPR.append(FPR) \n",
    "print(MATIO_new_FPR)"
   ]
  },
  {
   "cell_type": "code",
   "execution_count": 235,
   "metadata": {},
   "outputs": [
    {
     "data": {
      "text/plain": [
       "<Figure size 1440x1440 with 0 Axes>"
      ]
     },
     "execution_count": 235,
     "metadata": {},
     "output_type": "execute_result"
    },
    {
     "data": {
      "image/png": "[encoded data removed]",
      "text/plain": [
       "<Figure size 432x288 with 1 Axes>"
      ]
     },
     "metadata": {
      "needs_background": "light"
     },
     "output_type": "display_data"
    },
    {
     "data": {
      "text/plain": [
       "<Figure size 1440x1440 with 0 Axes>"
      ]
     },
     "metadata": {},
     "output_type": "display_data"
    }
   ],
   "source": [
    "sns.lineplot(x=MATIO_FPR, y=ROC_TPR, label=\"old MATIO\")\n",
    "sns.lineplot(x=MATIO_new_FPR, y=ROC_TPR, label=\"optimized MATIO\")\n",
    "sns.lineplot(x=[0,1],y=[0,1], label= \"X=Y\")\n",
    "plt.title(\"ROCs for optimized vs. non-optimized MATIO\")\n",
    "plt.xlabel(\"FPR\")\n",
    "plt.ylabel(\"TPR\")\n",
    "plt.xlim(0,1)\n",
    "plt.xlim(0,1)\n",
    "#plt.axis('equal')\n",
    "plt.figure(figsize=(20,20))"
   ]
  },
  {
   "cell_type": "markdown",
   "metadata": {},
   "source": [
    "Clearly, the MATIO matrix did not optimize anywhere as well as the BLOSUM50 did. Although there are slight variations in the TPR/FPR at spots, there is no change when FPR is 0 to 0.3 and the variations that do not exist are not \"better\".\n",
    "\n",
    "I'm not surprised by these results for two reasons: \n",
    "\n",
    "1) we are optimizing using alignments made from the BLOSUM50 matrix, not the MATIO matrix, while the ROC curve was made based on how MATIO aligns. In other words, the MATIO algorithm was optimized on alignments it would never see/make in real life or in the algorithm that is used to make the ROC curves, so it is completely not surprising that there is no real effect.\n",
    "\n",
    "2) I was somewhat surprised that BLOSUM50 improved so quickly with only 50 iterations; that might be because BLOSUM50 had an abnormally nice gradient or I got lucky. It's very possible that I'd need to adjust the learning rate or go for more iterations to see a real improvement or change in MATIO. "
   ]
  },
  {
   "cell_type": "markdown",
   "metadata": {},
   "source": [
    "### Part 2 Question 4"
   ]
  },
  {
   "cell_type": "markdown",
   "metadata": {},
   "source": [
    "My optimization algorithm can be improved in several ways. 1) I picked 50 iterations because I saw an improvement that quickly, but I imagine that I could get greater improvements if I allowed the optimization algorithm to iterate/continue for longer. 2) I picked a randomly low learning rate, but this is a hyperparameter that I could play with a bit, in order to optimize more quickly without crazy oscillations (which is what occurs is learning rate becomes too high). 3) My loss function I was trying to optimize itself only considered low FPRs. As seen in my ROC curves, this means that I actually got WORSE TPRs at higher FPRs. If I changed my loss function to also consider higher FPRs, I might get a scoring matrix that improves for all FPR values, not just lower ones."
   ]
  },
  {
   "cell_type": "markdown",
   "metadata": {},
   "source": [
    "### Part 2 Question 5"
   ]
  },
  {
   "cell_type": "markdown",
   "metadata": {},
   "source": [
    "To make the case that an optimized matrix would actually be of good utility, you really need to fit it to the specific needs of what a person is looking for. More specifically, if someone needs to find sequence alignments and doesn't want ANY false hits--maybe they don't have the time or computational cost to deal with a single false positive, then I can see how this optimized matrix might ensure that they can still find some true positives.\n",
    "\n",
    "That said, I have a very hard time seeing why this would ever be the case. In order for an optimized matrix to have true utility, I think you would need to try to optimize the matrix for a more specific application.\n",
    "\n",
    "For validation, I would benchmark your matrix against using evaluation metrics (such as recall, precision, etc.) that researchers care most about in these applications, using very well-known and published examples/benchmarks to prove that your matrix is indeed superior"
   ]
  }
 ],
 "metadata": {
  "kernelspec": {
   "display_name": "Python 3",
   "language": "python",
   "name": "python3"
  },
  "language_info": {
   "codemirror_mode": {
    "name": "ipython",
    "version": 3
   },
   "file_extension": ".py",
   "mimetype": "text/x-python",
   "name": "python",
   "nbconvert_exporter": "python",
   "pygments_lexer": "ipython3",
   "version": "3.7.4"
  }
 },
 "nbformat": 4,
 "nbformat_minor": 2
}
